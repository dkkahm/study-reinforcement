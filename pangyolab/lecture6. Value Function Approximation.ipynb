{
 "cells": [
  {
   "cell_type": "markdown",
   "metadata": {},
   "source": [
    "### Value Function Approximation\n",
    "\n",
    "$$\n",
    "\\begin{align}\n",
    "\\hat{v}(s,\\boldsymbol{w}) & \\approx v_\\pi(s) \\\\\n",
    "\\hat{q}(s,a,\\boldsymbol{w}) & \\approx q_\\pi(s,a)\n",
    "\\end{align}\n",
    "$$"
   ]
  },
  {
   "cell_type": "markdown",
   "metadata": {},
   "source": [
    "### Value Function Approximation By Stocastic Gradiednt Descent\n",
    "\n",
    "1. Goal: find parameter vector $\\boldsymbol{w}$ minimising MSE between $\\hat{v}(s,\\boldsymbol{w})$ and $v_\\pi(s)$\n",
    "$$\n",
    "J(\\boldsymbol{w}) = \\mathbb{E}_\\pi[(v_\\pi(S) - \\hat{v}(S,\\boldsymbol{w}))^2]\n",
    "$$\n",
    "2. Gradient descent finds a local minimun\n",
    "$$\n",
    "\\begin{align}\n",
    "\\bigtriangleup \\boldsymbol{w} & = - \\frac{1}{2}\\alpha \\bigtriangledown_\\boldsymbol{w} J(\\boldsymbol{w})\\\\\n",
    "& = \\alpha \\mathbb{E}_\\pi[(v_\\pi(S) - \\hat{v}(S,\\boldsymbol{w})) \\bigtriangledown_\\boldsymbol{w} \\hat{v}(S,\\boldsymbol{w}) ]\n",
    "\\end{align}\n",
    "$$\n",
    "3. Stochastic gradient descent samples the gradient\n",
    "$$\n",
    "\\bigtriangleup \\boldsymbol{w} = \\alpha (v_\\pi(S) - \\hat{v}(S,\\boldsymbol{w})) \\bigtriangledown_\\boldsymbol{w} \\hat{v}(S,\\boldsymbol{w})\n",
    "$$"
   ]
  },
  {
   "cell_type": "markdown",
   "metadata": {},
   "source": [
    "### Incremental Prediction Algorithms\n",
    "- For MC, the target is the return $G_t$\n",
    "$$\n",
    "\\bigtriangleup \\boldsymbol{w} = \\alpha (G_t - \\hat{v}(S_t,\\boldsymbol{w})) \\bigtriangledown_\\boldsymbol{w} \\hat{v}(S_t,\\boldsymbol{w})\n",
    "$$\n",
    "- For TD(0), ther target is the TD target $R_{t+1} + \\gamma \\hat{v}(S_{t+1},\\boldsymbol{w})$\n",
    "$$\n",
    "\\bigtriangleup \\boldsymbol{w} = \\alpha (R_{t+1} + \\gamma \\hat{v}(S_{t+1},\\boldsymbol{w}) - \\hat{v}(S_t,\\boldsymbol{w})) \\bigtriangledown_\\boldsymbol{w} \\hat{v}(S_t,\\boldsymbol{w})\n",
    "$$\n",
    "- For TD($\\lambda$), the target is $\\lambda \\text{-return } G^\\lambda_t$\n",
    "$$\n",
    "\\bigtriangleup \\boldsymbol{w} = \\alpha (G^\\lambda_t - \\hat{v}(S_t,\\boldsymbol{w})) \\bigtriangledown_\\boldsymbol{w} \\hat{v}(S_t,\\boldsymbol{w})\n",
    "$$"
   ]
  },
  {
   "cell_type": "code",
   "execution_count": null,
   "metadata": {},
   "outputs": [],
   "source": []
  }
 ],
 "metadata": {
  "kernelspec": {
   "display_name": "Python 3",
   "language": "python",
   "name": "python3"
  },
  "language_info": {
   "codemirror_mode": {
    "name": "ipython",
    "version": 3
   },
   "file_extension": ".py",
   "mimetype": "text/x-python",
   "name": "python",
   "nbconvert_exporter": "python",
   "pygments_lexer": "ipython3",
   "version": "3.7.7"
  }
 },
 "nbformat": 4,
 "nbformat_minor": 4
}
