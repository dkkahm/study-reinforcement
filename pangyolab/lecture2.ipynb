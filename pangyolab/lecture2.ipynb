{
 "cells": [
  {
   "cell_type": "markdown",
   "metadata": {},
   "source": [
    "### 기본 개념\n",
    "\n",
    "1. 보상함수\n",
    "$$\n",
    "R^a_s = E[R_{t+1}|S_t=s,A_t=a]\n",
    "$$\n",
    "\n",
    "2. 상태변환확률\n",
    "$$\n",
    "P^a_{s s^\\prime} = P[S_{t+1} = s^\\prime | S_t=s, A_t=a]\n",
    "$$\n",
    "\n",
    "3. 정책\n",
    "$$\n",
    "\\pi(a|s) = P[A_t=a|S_t=s]\n",
    "$$\n",
    "\n",
    "4.리턴(변환값)\n",
    "$$\n",
    "G_t= R_{t+1} + \\gamma R_{t+2} + \\gamma^2 R_{t+3} + \\dots\n",
    "$$\n",
    "\n",
    "5. 가치함수\n",
    "\\begin{align}\n",
    "v(s) & = E[G_t | S_t = s] \\\\\n",
    "v(s) & = E[R_{t+1} + \\gamma R_{t+2} + \\gamma^2 R_{t+3} + \\dots |  S_t = s] \\\\\n",
    "v(s) & = E[R_{t+1} + \\gamma ( R_{t+2} + \\gamma R_{t+3} + \\dots) |  S_t = s] \\\\\n",
    "v(s) & = E[R_{t+1} + \\gamma G_{t+1} |  S_t = s] \\\\\n",
    "v(s) & = E[R_{t+1} + \\gamma v(S_{t+1}) |  S_t = s]\n",
    "\\end{align}"
   ]
  },
  {
   "cell_type": "markdown",
   "metadata": {},
   "source": [
    "### MDP를 푼다는 것은 결국 최적 정책을 찾는 것이다.\n",
    "\n",
    "최적 q-function을 알고 있다면, 다음을 최적 정책으로 삼을 수 있다.\n",
    "$$\n",
    "\\DeclareMathOperator*{\\argmax}{arg\\,max}\n",
    "\\pi_*(a | s) =\n",
    "  \\begin{cases}\n",
    "    1  & \\text{if } a = \\argmax\\limits_{a \\in A} q_*(s,a) \\\\\n",
    "    0  & \\text{otherwise}\n",
    "  \\end{cases}\n",
    "$$\n",
    "\n",
    "최적 q-function은 바로 구할 수 없기 때문에, 가치 함수등과의 관계를 이용해서 반복적인 방법으로 수렴시켜 구한다."
   ]
  },
  {
   "cell_type": "markdown",
   "metadata": {},
   "source": [
    "### q-function과 가치함수와의 관계\n",
    "\n",
    "\\begin{align}\n",
    "q_\\pi(s,a) & = R^a_s + \\gamma \\sum_{s^\\prime \\in S}P_{s s^\\prime}^a v_\\pi (s^\\prime) \\\\\n",
    "v_\\pi(s) & = \\sum_{a \\in A} \\pi (a | s) q_\\pi (s, a)\n",
    "\\end{align}\n"
   ]
  },
  {
   "cell_type": "code",
   "execution_count": null,
   "metadata": {},
   "outputs": [],
   "source": []
  }
 ],
 "metadata": {
  "kernelspec": {
   "display_name": "Python 3",
   "language": "python",
   "name": "python3"
  },
  "language_info": {
   "codemirror_mode": {
    "name": "ipython",
    "version": 3
   },
   "file_extension": ".py",
   "mimetype": "text/x-python",
   "name": "python",
   "nbconvert_exporter": "python",
   "pygments_lexer": "ipython3",
   "version": "3.7.6"
  }
 },
 "nbformat": 4,
 "nbformat_minor": 4
}
