{
 "cells": [
  {
   "cell_type": "markdown",
   "metadata": {},
   "source": [
    "## Model-Free Prediction"
   ]
  },
  {
   "cell_type": "markdown",
   "metadata": {},
   "source": [
    "### Monte-Carlo Learning\n",
    "\n",
    "Incremental Monte-Carlo Updates\n",
    "\n",
    "- Updates $V(s)$ incrementally after episode $S_1,A_1,R_2,...,S_T$\n",
    "- For each state $S_t$ with return $G_t$\n",
    "\n",
    "\\begin{align}\n",
    "N(S_t) & \\leftarrow N(S_t) +1 \\\\\n",
    "V(S_t) & \\leftarrow V(S_t) + \\frac{1}{N(S_t)}(G_t - V(S_t))\n",
    "\\end{align}\n",
    "\n",
    "- In non-stationary problems, it can be useful to track a running mean, i.e. forget old episodes.\n",
    "\n",
    "$$\n",
    "V(S_t) \\leftarrow V(S_t) + \\alpha (G_t - V(S_t))\n",
    "$$\n"
   ]
  },
  {
   "cell_type": "markdown",
   "metadata": {},
   "source": [
    "### Temporal-Difference Learning\n",
    "\n",
    "\n",
    "Simple temporal-difference learning algorithm: TD(0)\n",
    "- Update value $V(S_t)$ toward estimated Return $R_{t+1} + \\gamma V(S_{t+1}$\n",
    "$$\n",
    "V(S_t) \\leftarrow V(S_t) + \\alpha (R_{t+1} + \\gamma V(S_{t+1}) - V(S_t))\n",
    "$$\n",
    "- $R_{t+1} + \\gamma V(S_{t+1})$ is called the TD target\n",
    "- $\\delta_t = R_{t+1} + \\gamma V(S_{t+1}) - V(S_t)$ is called the TD error"
   ]
  },
  {
   "cell_type": "code",
   "execution_count": null,
   "metadata": {},
   "outputs": [],
   "source": []
  }
 ],
 "metadata": {
  "kernelspec": {
   "display_name": "Python 3",
   "language": "python",
   "name": "python3"
  },
  "language_info": {
   "codemirror_mode": {
    "name": "ipython",
    "version": 3
   },
   "file_extension": ".py",
   "mimetype": "text/x-python",
   "name": "python",
   "nbconvert_exporter": "python",
   "pygments_lexer": "ipython3",
   "version": "3.7.7"
  }
 },
 "nbformat": 4,
 "nbformat_minor": 4
}
