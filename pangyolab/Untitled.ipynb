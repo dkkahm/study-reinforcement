{
 "cells": [
  {
   "cell_type": "code",
   "execution_count": 1,
   "metadata": {},
   "outputs": [],
   "source": [
    "import numpy as np\n",
    "import matplotlib.pyplot as plt\n",
    "import random"
   ]
  },
  {
   "cell_type": "code",
   "execution_count": 2,
   "metadata": {},
   "outputs": [],
   "source": [
    "LEFT = 0\n",
    "DOWN = 1\n",
    "RIGHT = 2\n",
    "UP = 3\n",
    "\n",
    "def action_name(a):\n",
    "    if a == LEFT:\n",
    "        return \"LEFT\"\n",
    "    elif a == DOWN:\n",
    "        return \"DOWN\"\n",
    "    elif a == RIGHT:\n",
    "        return \"RIGHT\"\n",
    "    elif a == UP:\n",
    "        return \"UP\"\n",
    "    else:\n",
    "        raise ValueError"
   ]
  },
  {
   "cell_type": "code",
   "execution_count": 3,
   "metadata": {},
   "outputs": [],
   "source": [
    "class ObservationSapce:\n",
    "    def __init__(self):\n",
    "        self.n = 16\n",
    "        \n",
    "class ActionSpace:\n",
    "    def __init__(self):\n",
    "        self.n = 4\n",
    "        \n",
    "    def sample(self):\n",
    "        return int(random.random() * self.n)\n",
    "        \n",
    "class Env:\n",
    "    def __init__(self):\n",
    "        self.observation_space = ObservationSapce()\n",
    "        self.action_space = ActionSpace()\n",
    "        self.reset()\n",
    "    \n",
    "    def reset(self):\n",
    "        self.s = 5\n",
    "        self.last_a = None\n",
    "        self.done = False\n",
    "        return self.s\n",
    "    \n",
    "    def reset_state(self, s):\n",
    "        self.last_a = None\n",
    "        self.s = s\n",
    "        self.done = s == 0 or s == 15\n",
    "    \n",
    "    def step(self, a):\n",
    "        if self.done:\n",
    "            return (self.s, 0, self.done, None)\n",
    "        \n",
    "        srow = self.s // 4\n",
    "        scol = self.s % 4\n",
    "        # print(srow, scol, action_name(a))\n",
    "\n",
    "        if a == LEFT:\n",
    "            if scol > 0:\n",
    "                scol -= 1\n",
    "        elif a == DOWN:\n",
    "            if srow < 3:\n",
    "                srow += 1\n",
    "        elif a == RIGHT:\n",
    "            if scol < 3:\n",
    "                scol += 1\n",
    "        elif a == UP:\n",
    "            if srow > 0:\n",
    "                srow -= 1\n",
    "        else:\n",
    "            raise ValueError\n",
    "        # print(\"=>\", srow, scol)\n",
    "\n",
    "        self.last_a = a\n",
    "        self.s = srow * 4 + scol\n",
    "        self.done = self.s == 0 or self.s == 15\n",
    "\n",
    "        return (self.s, -1, self.done, None)\n",
    "\n",
    "    def render(self):\n",
    "        if self.last_a is not None:\n",
    "            print(f\"({action_name(self.last_a)})\")\n",
    "            \n",
    "        srow = self.s // 4\n",
    "        scol = self.s % 4\n",
    "        \n",
    "        for row in range(4):\n",
    "            for col in range(4):\n",
    "                if row == srow and col == scol:\n",
    "                    print(\"X\", end=\"\")\n",
    "                elif row == 0 and col == 0:\n",
    "                    print(\"G\", end=\"\")\n",
    "                elif row == 3 and col == 3:\n",
    "                    print(\"G\", end=\"\")\n",
    "                else:\n",
    "                    print(\"O\", end=\"\")\n",
    "            print(\"\")\n",
    "        print(\"\")\n",
    "            \n",
    "    def _action_name(self, a):\n",
    "        if a == LEFT:\n",
    "            return \"LEFT\"\n",
    "        elif a == DOWN:\n",
    "            return \"DOWN\"\n",
    "        elif a == RIGHT:\n",
    "            return \"RIGHT\"\n",
    "        elif a == UP:\n",
    "            return \"UP\"\n",
    "        else:\n",
    "            raise ValueError"
   ]
  },
  {
   "cell_type": "code",
   "execution_count": 4,
   "metadata": {},
   "outputs": [],
   "source": [
    "env = Env()\n",
    "GAMMA = 1.0"
   ]
  },
  {
   "cell_type": "markdown",
   "metadata": {},
   "source": [
    "\\begin{align}\n",
    "v_{k+1} & = \\sum_{a \\in A} \\pi \\left( a \\lvert s \\right) \\left( R_s^a + \\gamma \\sum_{s^\\prime \\in S} P_{s s^\\prime}^a v_k \\left( s^\\prime \\right) \\right) \\\\\n",
    "v^{k+1} & = R^\\pi + \\gamma P^\\pi v^k\n",
    "\\end{align}"
   ]
  },
  {
   "cell_type": "code",
   "execution_count": 5,
   "metadata": {},
   "outputs": [],
   "source": [
    "def valudate_policy(env, value_table):\n",
    "    new_value_table = np.zeros(16)\n",
    "    actions = [LEFT, DOWN, RIGHT, UP]\n",
    "    for s in range(16):\n",
    "        new_value = 0.0\n",
    "        for a in actions:\n",
    "            env.reset_state(s)\n",
    "            s1, reward, done, _ = env.step(a)\n",
    "            value_of_action = 0.25 * (reward + GAMMA * value_table[s1])\n",
    "            # print(s, action_name(a), s1, reward, done, value_of_action)\n",
    "            new_value += value_of_action\n",
    "        new_value_table[s] = new_value\n",
    "    return new_value_table"
   ]
  },
  {
   "cell_type": "code",
   "execution_count": 6,
   "metadata": {},
   "outputs": [
    {
     "data": {
      "text/plain": [
       "array([0., 0., 0., 0., 0., 0., 0., 0., 0., 0., 0., 0., 0., 0., 0., 0.])"
      ]
     },
     "execution_count": 6,
     "metadata": {},
     "output_type": "execute_result"
    }
   ],
   "source": [
    "value_table = np.zeros(16)\n",
    "# value_table = np.random.rand(16) * 100\n",
    "# value_table = np.random.randn(16) * 100\n",
    "value_table"
   ]
  },
  {
   "cell_type": "code",
   "execution_count": 7,
   "metadata": {},
   "outputs": [
    {
     "name": "stdout",
     "output_type": "stream",
     "text": [
      "[[  0. -14. -20. -22.]\n",
      " [-14. -18. -20. -20.]\n",
      " [-20. -20. -18. -14.]\n",
      " [-22. -20. -14.   0.]]\n"
     ]
    }
   ],
   "source": [
    "cs = []\n",
    "for _ in range(1000):\n",
    "    new_value_table = valudate_policy(env, value_table)\n",
    "    # print(new_value_table.reshape(4,4))\n",
    "    value_table = new_value_table\n",
    "    cs.append((value_table ** 2).sum())\n",
    "print(value_table.reshape(4,4))"
   ]
  },
  {
   "cell_type": "code",
   "execution_count": 8,
   "metadata": {},
   "outputs": [
    {
     "data": {
      "text/plain": [
       "[<matplotlib.lines.Line2D at 0x150b9347888>]"
      ]
     },
     "execution_count": 8,
     "metadata": {},
     "output_type": "execute_result"
    },
    {
     "data": {
      "image/png": "[encoded data removed]",
      "text/plain": [
       "<Figure size 432x288 with 1 Axes>"
      ]
     },
     "metadata": {
      "needs_background": "light"
     },
     "output_type": "display_data"
    }
   ],
   "source": [
    "plt.plot(cs[:200])"
   ]
  },
  {
   "cell_type": "code",
   "execution_count": 9,
   "metadata": {},
   "outputs": [
    {
     "name": "stdout",
     "output_type": "stream",
     "text": [
      "[[  0. -14. -20. -22.]\n",
      " [-14. -18. -20. -20.]\n",
      " [-20. -20. -18. -14.]\n",
      " [-22. -20. -14.   0.]]\n"
     ]
    },
    {
     "data": {
      "text/plain": [
       "array([  0., -14., -20., -22., -14., -18., -20., -20., -20., -20., -18.,\n",
       "       -14., -22., -20., -14.,   0.])"
      ]
     },
     "execution_count": 9,
     "metadata": {},
     "output_type": "execute_result"
    }
   ],
   "source": [
    "print(value_table.reshape((4, 4)))\n",
    "valudate_policy(env, value_table)"
   ]
  },
  {
   "cell_type": "code",
   "execution_count": null,
   "metadata": {},
   "outputs": [],
   "source": []
  }
 ],
 "metadata": {
  "kernelspec": {
   "display_name": "Python 3",
   "language": "python",
   "name": "python3"
  },
  "language_info": {
   "codemirror_mode": {
    "name": "ipython",
    "version": 3
   },
   "file_extension": ".py",
   "mimetype": "text/x-python",
   "name": "python",
   "nbconvert_exporter": "python",
   "pygments_lexer": "ipython3",
   "version": "3.7.6"
  }
 },
 "nbformat": 4,
 "nbformat_minor": 4
}
