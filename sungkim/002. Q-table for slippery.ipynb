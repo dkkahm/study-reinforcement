{
 "cells": [
  {
   "cell_type": "code",
   "execution_count": 1,
   "metadata": {},
   "outputs": [],
   "source": [
    "import numpy as np\n",
    "import gym"
   ]
  },
  {
   "cell_type": "code",
   "execution_count": 2,
   "metadata": {},
   "outputs": [],
   "source": [
    "LEFT = 0\n",
    "DOWN = 1\n",
    "RIGHT = 2\n",
    "UP = 3"
   ]
  },
  {
   "cell_type": "code",
   "execution_count": 3,
   "metadata": {},
   "outputs": [],
   "source": [
    "env = gym.make(\"FrozenLake-v0\")"
   ]
  },
  {
   "cell_type": "code",
   "execution_count": 9,
   "metadata": {},
   "outputs": [],
   "source": [
    "q_table = np.zeros((env.observation_space.n, env.action_space.n))"
   ]
  },
  {
   "cell_type": "code",
   "execution_count": 10,
   "metadata": {},
   "outputs": [],
   "source": [
    "NUM_EPISODES = 20000\n",
    "EPSILON = 0.3\n",
    "DIS = 0.9\n",
    "ALPHA = 0.1"
   ]
  },
  {
   "cell_type": "code",
   "execution_count": 11,
   "metadata": {},
   "outputs": [],
   "source": [
    "for episode in range(NUM_EPISODES):\n",
    "    s = env.reset()\n",
    "    \n",
    "    while True:\n",
    "        e = np.random.rand()\n",
    "        if e < EPSILON:\n",
    "            a = env.action_space.sample()\n",
    "            # print(\"Random action:\", a)\n",
    "        else:\n",
    "            a = np.argmax(q_table[s])\n",
    "            # print(\"Q action:\", a)\n",
    "\n",
    "        s1, reward, done, _ = env.step(a)\n",
    "        # print(s1, reward, done)\n",
    "\n",
    "        if done:\n",
    "            q_table[s, a] = reward\n",
    "            break\n",
    "        \n",
    "        new_value = reward + DIS * np.max(q_table[s1])\n",
    "        q_table[s, a] = q_table[s, a] * (1 - ALPHA) + ALPHA * new_value\n",
    "        s = s1\n",
    "        \n",
    "        # print(q_table)"
   ]
  },
  {
   "cell_type": "code",
   "execution_count": 7,
   "metadata": {},
   "outputs": [],
   "source": [
    "def check_performance():\n",
    "    total_reward_sum = 0.0\n",
    "    \n",
    "    for episode in range(NUM_EPISODES):\n",
    "        s = env.reset()\n",
    "        reward_sum = 0\n",
    "    \n",
    "        while True:\n",
    "            a = np.argmax(q_table[s])\n",
    "            s1, reward, done, _ = env.step(a)\n",
    "            reward_sum += reward\n",
    "            if done:\n",
    "                break\n",
    "            s = s1\n",
    "        \n",
    "        total_reward_sum += reward_sum\n",
    "    \n",
    "    print(\"reward_sum avg = \", total_reward_sum / NUM_EPISODES)"
   ]
  },
  {
   "cell_type": "code",
   "execution_count": 12,
   "metadata": {},
   "outputs": [
    {
     "name": "stdout",
     "output_type": "stream",
     "text": [
      "reward_sum avg =  0.5857\n"
     ]
    }
   ],
   "source": [
    "check_performance()"
   ]
  },
  {
   "cell_type": "code",
   "execution_count": null,
   "metadata": {},
   "outputs": [],
   "source": []
  }
 ],
 "metadata": {
  "kernelspec": {
   "display_name": "Python 3",
   "language": "python",
   "name": "python3"
  },
  "language_info": {
   "codemirror_mode": {
    "name": "ipython",
    "version": 3
   },
   "file_extension": ".py",
   "mimetype": "text/x-python",
   "name": "python",
   "nbconvert_exporter": "python",
   "pygments_lexer": "ipython3",
   "version": "3.7.7"
  }
 },
 "nbformat": 4,
 "nbformat_minor": 4
}
