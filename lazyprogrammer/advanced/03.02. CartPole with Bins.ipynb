{
 "cells": [
  {
   "cell_type": "code",
   "execution_count": 1,
   "metadata": {},
   "outputs": [],
   "source": [
    "import gym\n",
    "import numpy as np\n",
    "import matplotlib.pyplot as plt"
   ]
  },
  {
   "cell_type": "code",
   "execution_count": 3,
   "metadata": {},
   "outputs": [],
   "source": [
    "def build_stats(features):\n",
    "    return int(\"\".join(map(lambda feature: str(int(feature)), features)))\n",
    "\n",
    "def to_bin(value, bins):\n",
    "    return np.digitize(x=[value], bins=bins)[0]"
   ]
  },
  {
   "cell_type": "code",
   "execution_count": 4,
   "metadata": {},
   "outputs": [],
   "source": [
    "class FeatureTransformer:\n",
    "    def __init__(self):\n",
    "        self.cart_position_bins = np.linspace(-2.4, 2.4, 9)\n",
    "        self.car_velocity_bins = np.linspace(-2, 2, 9)\n",
    "        self.pole_angle_bins = np.linspace(-0.4, 0.4, 9)\n",
    "        self.pole_velocity_bins = np.linspace(-3.5, 3.5, 9)\n",
    "        \n",
    "    def transform(self, obs):\n",
    "        cart_pos, cart_vel, pole_angle, pole_vel = obs\n",
    "        return build_stats([\n",
    "            to_bin(cart_pos, self.cart_position_bins),\n",
    "            to_bin(cart_vel, self.car_velocity_bins),\n",
    "            to_bin(pole_angle, self.pole_angle_bins),\n",
    "            to_bin(pole_vel, self.pole_velocity_bins)\n",
    "        ])"
   ]
  },
  {
   "cell_type": "code",
   "execution_count": 5,
   "metadata": {},
   "outputs": [],
   "source": [
    "EPS = 0.05"
   ]
  },
  {
   "cell_type": "code",
   "execution_count": null,
   "metadata": {},
   "outputs": [],
   "source": [
    "def get_action(s, q):\n",
    "    if not s in q:\n",
    "        env.action_space.sample()\n",
    "        \n",
    "    "
   ]
  }
 ],
 "metadata": {
  "kernelspec": {
   "display_name": "Python 3",
   "language": "python",
   "name": "python3"
  },
  "language_info": {
   "codemirror_mode": {
    "name": "ipython",
    "version": 3
   },
   "file_extension": ".py",
   "mimetype": "text/x-python",
   "name": "python",
   "nbconvert_exporter": "python",
   "pygments_lexer": "ipython3",
   "version": "3.7.7"
  }
 },
 "nbformat": 4,
 "nbformat_minor": 4
}
