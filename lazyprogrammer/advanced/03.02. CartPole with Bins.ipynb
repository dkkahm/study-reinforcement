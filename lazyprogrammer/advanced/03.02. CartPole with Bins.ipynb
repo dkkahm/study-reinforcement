{
 "cells": [
  {
   "cell_type": "code",
   "execution_count": 1,
   "metadata": {},
   "outputs": [],
   "source": [
    "import gym\n",
    "import numpy as np\n",
    "import matplotlib.pyplot as plt\n",
    "from collections import defaultdict"
   ]
  },
  {
   "cell_type": "code",
   "execution_count": 2,
   "metadata": {},
   "outputs": [],
   "source": [
    "def build_state(features):\n",
    "    return int(\"\".join(map(lambda feature: str(int(feature)), features)))\n",
    "\n",
    "def to_bin(value, bins):\n",
    "    return np.digitize(x=[value], bins=bins)[0]"
   ]
  },
  {
   "cell_type": "code",
   "execution_count": 3,
   "metadata": {},
   "outputs": [],
   "source": [
    "class FeatureTransformer:\n",
    "    def __init__(self):\n",
    "        # Note: to make this better you could look at how often each bin was\n",
    "        # actually used while running the script.\n",
    "        # It's not clear from the high/low values nor sample() what values\n",
    "        # we really expect to get.\n",
    "        self.cart_position_bins = np.linspace(-2.4, 2.4, 9)\n",
    "        self.cart_velocity_bins = np.linspace(-2, 2, 9) # (-inf, inf) (I did not check that these were good values)\n",
    "        self.pole_angle_bins = np.linspace(-0.4, 0.4, 9)\n",
    "        self.pole_velocity_bins = np.linspace(-3.5, 3.5, 9) # (-inf, inf) (I did not check that these were good values)\n",
    "\n",
    "    def transform(self, observation):\n",
    "        # returns an int\n",
    "        cart_pos, cart_vel, pole_angle, pole_vel = observation\n",
    "        return build_state([\n",
    "          to_bin(cart_pos, self.cart_position_bins),\n",
    "          to_bin(cart_vel, self.cart_velocity_bins),\n",
    "          to_bin(pole_angle, self.pole_angle_bins),\n",
    "          to_bin(pole_vel, self.pole_velocity_bins),\n",
    "        ])"
   ]
  },
  {
   "cell_type": "code",
   "execution_count": 4,
   "metadata": {},
   "outputs": [],
   "source": [
    "class Model:\n",
    "    def __init__(self, env, feature_transformer):\n",
    "        self.env = env\n",
    "        self.feature_transformer = feature_transformer\n",
    "\n",
    "        num_states = 10**env.observation_space.shape[0]\n",
    "        num_actions = env.action_space.n\n",
    "        self.Q = np.random.uniform(low=-1, high=1, size=(num_states, num_actions))\n",
    "\n",
    "    def predict(self, s):\n",
    "        x = self.feature_transformer.transform(s)\n",
    "        return self.Q[x]\n",
    "\n",
    "    def update(self, s, a, G):\n",
    "        x = self.feature_transformer.transform(s)\n",
    "        self.Q[x,a] += 1e-2*(G - self.Q[x,a])\n",
    "\n",
    "    def sample_action(self, s, eps):\n",
    "        if np.random.random() < eps:\n",
    "            return self.env.action_space.sample()\n",
    "        else:\n",
    "            p = self.predict(s)\n",
    "            return np.argmax(p)"
   ]
  },
  {
   "cell_type": "code",
   "execution_count": 5,
   "metadata": {},
   "outputs": [],
   "source": [
    "def play_one(model, eps, gamma):\n",
    "    observation = env.reset()\n",
    "    done = False\n",
    "    totalreward = 0\n",
    "    iters = 0\n",
    "    while not done and iters < 10000:\n",
    "        action = model.sample_action(observation, eps)\n",
    "        prev_observation = observation\n",
    "        observation, reward, done, info = env.step(action)\n",
    "\n",
    "        totalreward += reward\n",
    "\n",
    "        if done and iters < 199:\n",
    "            reward = -300\n",
    "\n",
    "        # update the model\n",
    "        G = reward + gamma*np.max(model.predict(observation))\n",
    "        model.update(prev_observation, action, G)\n",
    "\n",
    "        iters += 1\n",
    "\n",
    "    return totalreward"
   ]
  },
  {
   "cell_type": "code",
   "execution_count": 10,
   "metadata": {},
   "outputs": [],
   "source": [
    "def plot_running_avg(total_rewards):\n",
    "    N = len(total_rewards)\n",
    "    running_avg = np.empty(N)\n",
    "    for t in range(N):\n",
    "        running_avg[t] = total_rewards[max(0, t-100):(t+1)].mean()\n",
    "    plt.plot(running_avg)\n",
    "    plt.title(\"Running Average\")"
   ]
  },
  {
   "cell_type": "code",
   "execution_count": 7,
   "metadata": {},
   "outputs": [
    {
     "name": "stdout",
     "output_type": "stream",
     "text": [
      "episode: 0 total reward: 37.0 eps: 1.0\n",
      "episode: 100 total reward: 24.0 eps: 0.09950371902099892\n",
      "episode: 200 total reward: 126.0 eps: 0.07053456158585983\n",
      "episode: 300 total reward: 70.0 eps: 0.0576390417704235\n",
      "episode: 400 total reward: 20.0 eps: 0.04993761694389223\n",
      "episode: 500 total reward: 50.0 eps: 0.04467670516087703\n",
      "episode: 600 total reward: 106.0 eps: 0.04079085082240021\n",
      "episode: 700 total reward: 10.0 eps: 0.0377694787300249\n",
      "episode: 800 total reward: 46.0 eps: 0.03533326266687867\n",
      "episode: 900 total reward: 128.0 eps: 0.03331483023263848\n",
      "episode: 1000 total reward: 187.0 eps: 0.0316069770620507\n",
      "episode: 1100 total reward: 51.0 eps: 0.03013743873394561\n",
      "episode: 1200 total reward: 114.0 eps: 0.028855492841238062\n",
      "episode: 1300 total reward: 175.0 eps: 0.027724348650071385\n",
      "episode: 1400 total reward: 48.0 eps: 0.02671658425726324\n",
      "episode: 1500 total reward: 146.0 eps: 0.025811286645983367\n",
      "episode: 1600 total reward: 151.0 eps: 0.02499219116020307\n",
      "episode: 1700 total reward: 125.0 eps: 0.024246432248443597\n",
      "episode: 1800 total reward: 136.0 eps: 0.02356368148131365\n",
      "episode: 1900 total reward: 118.0 eps: 0.02293553851298437\n",
      "episode: 2000 total reward: 200.0 eps: 0.022355091700494795\n",
      "episode: 2100 total reward: 189.0 eps: 0.021816595214404266\n",
      "episode: 2200 total reward: 173.0 eps: 0.021315227815974374\n",
      "episode: 2300 total reward: 175.0 eps: 0.02084690996125416\n",
      "episode: 2400 total reward: 155.0 eps: 0.02040816326530612\n",
      "episode: 2500 total reward: 147.0 eps: 0.01999600119960014\n",
      "episode: 2600 total reward: 188.0 eps: 0.0196078431372549\n",
      "episode: 2700 total reward: 200.0 eps: 0.019241446072101123\n",
      "episode: 2800 total reward: 159.0 eps: 0.018894849871330582\n",
      "episode: 2900 total reward: 74.0 eps: 0.018566333001716968\n",
      "episode: 3000 total reward: 200.0 eps: 0.01825437644092281\n",
      "episode: 3100 total reward: 98.0 eps: 0.017957634043632188\n",
      "episode: 3200 total reward: 183.0 eps: 0.01767490804100673\n",
      "episode: 3300 total reward: 200.0 eps: 0.01740512865461766\n",
      "episode: 3400 total reward: 161.0 eps: 0.017147337032429676\n",
      "episode: 3500 total reward: 130.0 eps: 0.01690067088544646\n",
      "episode: 3600 total reward: 200.0 eps: 0.016664352333993333\n",
      "episode: 3700 total reward: 116.0 eps: 0.016437677572823703\n",
      "episode: 3800 total reward: 174.0 eps: 0.01622000804188198\n",
      "episode: 3900 total reward: 31.0 eps: 0.01601076285016887\n",
      "episode: 4000 total reward: 200.0 eps: 0.015809412247806517\n",
      "episode: 4100 total reward: 144.0 eps: 0.015615471979112765\n",
      "episode: 4200 total reward: 113.0 eps: 0.015428498379527544\n",
      "episode: 4300 total reward: 133.0 eps: 0.015248084103296531\n",
      "episode: 4400 total reward: 160.0 eps: 0.015073854388204487\n",
      "episode: 4500 total reward: 103.0 eps: 0.014905463779355262\n",
      "episode: 4600 total reward: 129.0 eps: 0.014742593246782542\n",
      "episode: 4700 total reward: 162.0 eps: 0.014584947642137372\n",
      "episode: 4800 total reward: 156.0 eps: 0.014432253448298278\n",
      "episode: 4900 total reward: 200.0 eps: 0.014284256782850143\n",
      "episode: 5000 total reward: 199.0 eps: 0.014140721622265264\n",
      "episode: 5100 total reward: 170.0 eps: 0.014001428218521149\n",
      "episode: 5200 total reward: 200.0 eps: 0.013866171683985996\n",
      "episode: 5300 total reward: 200.0 eps: 0.013734760723838819\n",
      "episode: 5400 total reward: 146.0 eps: 0.013607016498184134\n",
      "episode: 5500 total reward: 184.0 eps: 0.013482771598464758\n",
      "episode: 5600 total reward: 150.0 eps: 0.01336186912484746\n",
      "episode: 5700 total reward: 200.0 eps: 0.013244161853017133\n",
      "episode: 5800 total reward: 193.0 eps: 0.013129511480316922\n",
      "episode: 5900 total reward: 149.0 eps: 0.013017787942456283\n",
      "episode: 6000 total reward: 200.0 eps: 0.012908868793110689\n",
      "episode: 6100 total reward: 200.0 eps: 0.012802638639684321\n",
      "episode: 6200 total reward: 182.0 eps: 0.012698988629324323\n",
      "episode: 6300 total reward: 200.0 eps: 0.012597815979981676\n",
      "episode: 6400 total reward: 200.0 eps: 0.01249902355192602\n",
      "episode: 6500 total reward: 184.0 eps: 0.01240251945565374\n",
      "episode: 6600 total reward: 132.0 eps: 0.01230821669259179\n",
      "episode: 6700 total reward: 200.0 eps: 0.012216032825403858\n",
      "episode: 6800 total reward: 200.0 eps: 0.01212588967505907\n",
      "episode: 6900 total reward: 200.0 eps: 0.0120377130421331\n",
      "episode: 7000 total reward: 200.0 eps: 0.011951432450083671\n",
      "episode: 7100 total reward: 200.0 eps: 0.011866980908481739\n",
      "episode: 7200 total reward: 169.0 eps: 0.01178429469439066\n",
      "episode: 7300 total reward: 192.0 eps: 0.011703313150272007\n",
      "episode: 7400 total reward: 200.0 eps: 0.011623978496961555\n",
      "episode: 7500 total reward: 200.0 eps: 0.01154623566040508\n",
      "episode: 7600 total reward: 200.0 eps: 0.011470032110973345\n",
      "episode: 7700 total reward: 200.0 eps: 0.011395317714291038\n",
      "episode: 7800 total reward: 200.0 eps: 0.011322044592617122\n",
      "episode: 7900 total reward: 200.0 eps: 0.011250166995905777\n",
      "episode: 8000 total reward: 200.0 eps: 0.01117964118175896\n",
      "episode: 8100 total reward: 163.0 eps: 0.011110425303554916\n",
      "episode: 8200 total reward: 200.0 eps: 0.0110424793061026\n",
      "episode: 8300 total reward: 149.0 eps: 0.010975764828230913\n",
      "episode: 8400 total reward: 190.0 eps: 0.010910245111774533\n",
      "episode: 8500 total reward: 200.0 eps: 0.01084588491646583\n",
      "episode: 8600 total reward: 188.0 eps: 0.010782650440285157\n",
      "episode: 8700 total reward: 200.0 eps: 0.010720509244860595\n",
      "episode: 8800 total reward: 200.0 eps: 0.010659430185543134\n",
      "episode: 8900 total reward: 200.0 eps: 0.01059938334581489\n",
      "episode: 9000 total reward: 200.0 eps: 0.010540339975716555\n",
      "episode: 9100 total reward: 151.0 eps: 0.010482272434006255\n",
      "episode: 9200 total reward: 200.0 eps: 0.010425154133785426\n",
      "episode: 9300 total reward: 200.0 eps: 0.01036895949134883\n",
      "episode: 9400 total reward: 200.0 eps: 0.010313663878035112\n",
      "episode: 9500 total reward: 200.0 eps: 0.010259243574872122\n",
      "episode: 9600 total reward: 200.0 eps: 0.010205675729827259\n",
      "episode: 9700 total reward: 200.0 eps: 0.010152938317487875\n",
      "episode: 9800 total reward: 166.0 eps: 0.010101010101010102\n",
      "episode: 9900 total reward: 172.0 eps: 0.010049870596186849\n",
      "avg reward for last 100 episodes: 184.93\n",
      "total steps: 1568825.0\n"
     ]
    }
   ],
   "source": [
    "env = gym.make('CartPole-v0')\n",
    "ft = FeatureTransformer()\n",
    "model = Model(env, ft)\n",
    "gamma = 0.9\n",
    "\n",
    "\n",
    "N = 10000\n",
    "totalrewards = np.empty(N)\n",
    "for n in range(N):\n",
    "    eps = 1.0/np.sqrt(n+1)\n",
    "    totalreward = play_one(model, eps, gamma)\n",
    "    totalrewards[n] = totalreward\n",
    "    if n % 100 == 0:\n",
    "        print(\"episode:\", n, \"total reward:\", totalreward, \"eps:\", eps)\n",
    "print(\"avg reward for last 100 episodes:\", totalrewards[-100:].mean())\n",
    "print(\"total steps:\", totalrewards.sum())"
   ]
  },
  {
   "cell_type": "code",
   "execution_count": null,
   "metadata": {},
   "outputs": [],
   "source": [
    "\n",
    "plt.plot(totalrewards)\n",
    "plt.title(\"Rewards\")\n",
    "plt.show()"
   ]
  },
  {
   "cell_type": "code",
   "execution_count": 11,
   "metadata": {},
   "outputs": [
    {
     "data": {
      "image/png": "[encoded data removed]",
      "text/plain": [
       "<Figure size 432x288 with 1 Axes>"
      ]
     },
     "metadata": {
      "needs_background": "light"
     },
     "output_type": "display_data"
    }
   ],
   "source": [
    "plot_running_avg(totalrewards)"
   ]
  },
  {
   "cell_type": "code",
   "execution_count": null,
   "metadata": {},
   "outputs": [],
   "source": []
  },
  {
   "cell_type": "code",
   "execution_count": 19,
   "metadata": {},
   "outputs": [],
   "source": [
    "GAMMA = 0.9\n",
    "ALPHA = 0.01\n",
    "N_EPISODES = 10000"
   ]
  },
  {
   "cell_type": "code",
   "execution_count": 20,
   "metadata": {},
   "outputs": [],
   "source": [
    "def get_action(env, t, s, q):\n",
    "    e = np.random.random()\n",
    "    if e < 1 / (t + 1):\n",
    "        return env.action_space.sample()\n",
    "    return np.argmax(q[s])"
   ]
  },
  {
   "cell_type": "code",
   "execution_count": 21,
   "metadata": {},
   "outputs": [],
   "source": [
    "def play_one_episode(env, t, q, tr):\n",
    "    done = False\n",
    "    episode_length = 0\n",
    "    s = env.reset()\n",
    "    s = tr.transform(s)\n",
    "    while not done:\n",
    "        episode_length += 1\n",
    "        a = get_action(env, t, s, q)\n",
    "        s1, r, done, _ = env.step(a)\n",
    "        s1 = tr.transform(s1)\n",
    "        \n",
    "        if done and episode_length < 199:\n",
    "            r = -300\n",
    "        \n",
    "        if done:\n",
    "            target = r\n",
    "        else:\n",
    "            target = r + GAMMA * np.max(q[s1])\n",
    "            \n",
    "        q[s][a] += ALPHA * (target - q[s][a])\n",
    "        \n",
    "        s = s1\n",
    "    \n",
    "    return episode_length        "
   ]
  },
  {
   "cell_type": "code",
   "execution_count": 27,
   "metadata": {},
   "outputs": [
    {
     "name": "stdout",
     "output_type": "stream",
     "text": [
      "0 21\n",
      "100 20\n",
      "200 81\n",
      "300 38\n",
      "400 103\n",
      "500 123\n",
      "600 67\n",
      "700 132\n",
      "800 92\n",
      "900 124\n",
      "1000 118\n",
      "1100 156\n",
      "1200 114\n",
      "1300 159\n",
      "1400 101\n",
      "1500 104\n",
      "1600 128\n",
      "1700 127\n",
      "1800 148\n",
      "1900 105\n",
      "2000 113\n",
      "2100 122\n",
      "2200 124\n",
      "2300 184\n",
      "2400 164\n",
      "2500 199\n",
      "2600 188\n",
      "2700 116\n",
      "2800 200\n",
      "2900 87\n",
      "3000 99\n",
      "3100 105\n",
      "3200 176\n",
      "3300 58\n",
      "3400 107\n",
      "3500 107\n",
      "3600 110\n",
      "3700 119\n",
      "3800 96\n",
      "3900 136\n",
      "4000 143\n",
      "4100 200\n",
      "4200 122\n",
      "4300 117\n",
      "4400 200\n",
      "4500 144\n",
      "4600 135\n",
      "4700 153\n",
      "4800 200\n",
      "4900 134\n",
      "5000 105\n",
      "5100 176\n",
      "5200 130\n",
      "5300 112\n",
      "5400 125\n",
      "5500 185\n",
      "5600 176\n",
      "5700 105\n",
      "5800 115\n",
      "5900 91\n",
      "6000 200\n",
      "6100 141\n",
      "6200 107\n",
      "6300 164\n",
      "6400 186\n",
      "6500 111\n",
      "6600 145\n",
      "6700 100\n",
      "6800 92\n",
      "6900 186\n",
      "7000 109\n",
      "7100 109\n",
      "7200 193\n",
      "7300 200\n",
      "7400 131\n",
      "7500 104\n",
      "7600 110\n",
      "7700 200\n",
      "7800 112\n",
      "7900 192\n",
      "8000 110\n",
      "8100 127\n",
      "8200 100\n",
      "8300 140\n",
      "8400 103\n",
      "8500 200\n",
      "8600 200\n",
      "8700 111\n",
      "8800 129\n",
      "8900 171\n",
      "9000 103\n",
      "9100 134\n",
      "9200 180\n",
      "9300 153\n",
      "9400 99\n",
      "9500 196\n",
      "9600 148\n",
      "9700 110\n",
      "9800 149\n",
      "9900 165\n"
     ]
    }
   ],
   "source": [
    "env = gym.make('CartPole-v0')\n",
    "num_states = 10**env.observation_space.shape[0]\n",
    "num_actions = env.action_space.n\n",
    "q = np.random.uniform(low=-1, high=1, size=(num_states, num_actions))\n",
    "\n",
    "tr = FeatureTransformer()\n",
    "episode_lengths = np.empty(N_EPISODES)\n",
    "\n",
    "for episode in range(N_EPISODES):\n",
    "    episode_length = play_one_episode(env, episode, q, tr)\n",
    "    if episode % 100 == 0:\n",
    "        print(episode, episode_length)\n",
    "    episode_lengths[episode] = episode_length"
   ]
  },
  {
   "cell_type": "code",
   "execution_count": 28,
   "metadata": {},
   "outputs": [
    {
     "data": {
      "text/plain": [
       "[<matplotlib.lines.Line2D at 0x27403daa488>]"
      ]
     },
     "execution_count": 28,
     "metadata": {},
     "output_type": "execute_result"
    },
    {
     "data": {
      "image/png": "[encoded data removed]",
      "text/plain": [
       "<Figure size 432x288 with 1 Axes>"
      ]
     },
     "metadata": {
      "needs_background": "light"
     },
     "output_type": "display_data"
    }
   ],
   "source": [
    "plt.plot(episode_lengths)"
   ]
  },
  {
   "cell_type": "code",
   "execution_count": 29,
   "metadata": {},
   "outputs": [
    {
     "data": {
      "image/png": "[encoded data removed]",
      "text/plain": [
       "<Figure size 432x288 with 1 Axes>"
      ]
     },
     "metadata": {
      "needs_background": "light"
     },
     "output_type": "display_data"
    }
   ],
   "source": [
    "plot_running_avg(episode_lengths)"
   ]
  },
  {
   "cell_type": "code",
   "execution_count": null,
   "metadata": {},
   "outputs": [],
   "source": []
  }
 ],
 "metadata": {
  "kernelspec": {
   "display_name": "Python 3",
   "language": "python",
   "name": "python3"
  },
  "language_info": {
   "codemirror_mode": {
    "name": "ipython",
    "version": 3
   },
   "file_extension": ".py",
   "mimetype": "text/x-python",
   "name": "python",
   "nbconvert_exporter": "python",
   "pygments_lexer": "ipython3",
   "version": "3.7.6"
  }
 },
 "nbformat": 4,
 "nbformat_minor": 4
}
