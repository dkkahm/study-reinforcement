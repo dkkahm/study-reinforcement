{
 "cells": [
  {
   "cell_type": "code",
   "execution_count": 1,
   "metadata": {},
   "outputs": [],
   "source": [
    "import gym\n",
    "import numpy as np\n",
    "import matplotlib.pyplot as plt\n",
    "import imp"
   ]
  },
  {
   "cell_type": "code",
   "execution_count": 43,
   "metadata": {},
   "outputs": [],
   "source": [
    "import dqn_agent"
   ]
  },
  {
   "cell_type": "code",
   "execution_count": 44,
   "metadata": {
    "scrolled": true
   },
   "outputs": [],
   "source": [
    "env = gym.make('CartPole-v1')"
   ]
  },
  {
   "cell_type": "code",
   "execution_count": 67,
   "metadata": {},
   "outputs": [
    {
     "data": {
      "text/plain": [
       "<module 'dqn_agent' from 'D:\\\\Projects\\\\Reinforcement\\\\study-reinforcement\\\\lazyprogrammer\\\\advanced\\\\dqn_agent.py'>"
      ]
     },
     "execution_count": 67,
     "metadata": {},
     "output_type": "execute_result"
    }
   ],
   "source": [
    "imp.reload(dqn_agent)"
   ]
  },
  {
   "cell_type": "code",
   "execution_count": 75,
   "metadata": {},
   "outputs": [],
   "source": [
    "class MyDQNAgent(dqn_agent.DQNAgent):\n",
    "    def __init__(self, env, gamma = 0.9, replay_memory_size=2000, start_train_size=1000, batch_size=64,\n",
    "                 learning_rate=0.001, epsilon_decay=0.999, epsilon_min=0.01):\n",
    "        super().__init__(env,\n",
    "              gamma=gamma,\n",
    "              replay_memory_size=replay_memory_size,\n",
    "              start_train_size=start_train_size,\n",
    "              batch_size=batch_size,\n",
    "              learning_rate=learning_rate,\n",
    "              epsilon_decay=epsilon_decay,\n",
    "              epsilon_min=epsilon_min\n",
    "             )\n",
    "        \n",
    "    def _adjust_reward(self, t, s, a, r, s1, done):\n",
    "        return -300 if done and t < 500 else r\n",
    "    \n",
    "    def _early_break(self, t, s, a, r, s1, done):\n",
    "        return True if t >= 500 else False"
   ]
  },
  {
   "cell_type": "code",
   "execution_count": 76,
   "metadata": {},
   "outputs": [],
   "source": [
    "agent = MyDQNAgent(env)"
   ]
  },
  {
   "cell_type": "code",
   "execution_count": 77,
   "metadata": {},
   "outputs": [],
   "source": [
    "N_EPISODE = 300"
   ]
  },
  {
   "cell_type": "code",
   "execution_count": 78,
   "metadata": {},
   "outputs": [
    {
     "name": "stdout",
     "output_type": "stream",
     "text": [
      "0 13\n",
      "100 228\n",
      "200 498\n"
     ]
    }
   ],
   "source": [
    "episode_lengths = np.empty((N_EPISODE, ))\n",
    "for episode in range(N_EPISODE):\n",
    "    episode_length, _ = agent.train_episode()\n",
    "    episode_lengths[episode] = episode_length\n",
    "    \n",
    "    if episode % 100 == 0:\n",
    "        print(episode, episode_length)"
   ]
  },
  {
   "cell_type": "code",
   "execution_count": 79,
   "metadata": {},
   "outputs": [],
   "source": [
    "def no_early_stop(self, t, s, a, r, s1, done):\n",
    "    return False\n",
    "\n",
    "agent._early_break = no_early_stop.__get__(agent, MyDQNAgent)"
   ]
  },
  {
   "cell_type": "code",
   "execution_count": 83,
   "metadata": {},
   "outputs": [
    {
     "data": {
      "text/plain": [
       "(500, 500.0)"
      ]
     },
     "execution_count": 83,
     "metadata": {},
     "output_type": "execute_result"
    }
   ],
   "source": [
    "agent.run_episode(render=True)"
   ]
  },
  {
   "cell_type": "code",
   "execution_count": null,
   "metadata": {},
   "outputs": [],
   "source": []
  }
 ],
 "metadata": {
  "kernelspec": {
   "display_name": "Python 3",
   "language": "python",
   "name": "python3"
  },
  "language_info": {
   "codemirror_mode": {
    "name": "ipython",
    "version": 3
   },
   "file_extension": ".py",
   "mimetype": "text/x-python",
   "name": "python",
   "nbconvert_exporter": "python",
   "pygments_lexer": "ipython3",
   "version": "3.7.7"
  }
 },
 "nbformat": 4,
 "nbformat_minor": 4
}
