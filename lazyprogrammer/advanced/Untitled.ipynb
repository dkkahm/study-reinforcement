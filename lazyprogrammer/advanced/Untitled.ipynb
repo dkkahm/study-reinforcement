{
 "cells": [
  {
   "cell_type": "code",
   "execution_count": 1,
   "metadata": {},
   "outputs": [
    {
     "name": "stderr",
     "output_type": "stream",
     "text": [
      "Using TensorFlow backend.\n"
     ]
    }
   ],
   "source": [
    "import gym\n",
    "import dqn_agent\n",
    "import numpy as np"
   ]
  },
  {
   "cell_type": "code",
   "execution_count": 2,
   "metadata": {},
   "outputs": [],
   "source": [
    "env = gym.make('MountainCar-v0')"
   ]
  },
  {
   "cell_type": "code",
   "execution_count": 3,
   "metadata": {},
   "outputs": [],
   "source": [
    "agent = dqn_agent.DQNAgent(env)"
   ]
  },
  {
   "cell_type": "code",
   "execution_count": 8,
   "metadata": {},
   "outputs": [],
   "source": [
    "N_EPISODE = 1000"
   ]
  },
  {
   "cell_type": "code",
   "execution_count": 13,
   "metadata": {},
   "outputs": [
    {
     "name": "stdout",
     "output_type": "stream",
     "text": [
      "0 188 -188.0\n",
      "100 200 -200.0\n",
      "200 200 -200.0\n",
      "300 200 -200.0\n",
      "400 200 -200.0\n",
      "500 157 -157.0\n",
      "600 133 -133.0\n",
      "700 200 -200.0\n",
      "800 200 -200.0\n",
      "900 200 -200.0\n"
     ]
    }
   ],
   "source": [
    "episode_lengths = np.empty((N_EPISODE, ))\n",
    "for episode in range(N_EPISODE):\n",
    "    episode_length, total_rewards = agent.train_episode()\n",
    "    episode_lengths[episode] = episode_length\n",
    "    \n",
    "    if episode % 100 == 0:\n",
    "        print(episode, episode_length, total_rewards)"
   ]
  },
  {
   "cell_type": "code",
   "execution_count": null,
   "metadata": {},
   "outputs": [],
   "source": []
  }
 ],
 "metadata": {
  "kernelspec": {
   "display_name": "Python 3",
   "language": "python",
   "name": "python3"
  },
  "language_info": {
   "codemirror_mode": {
    "name": "ipython",
    "version": 3
   },
   "file_extension": ".py",
   "mimetype": "text/x-python",
   "name": "python",
   "nbconvert_exporter": "python",
   "pygments_lexer": "ipython3",
   "version": "3.7.6"
  }
 },
 "nbformat": 4,
 "nbformat_minor": 4
}
