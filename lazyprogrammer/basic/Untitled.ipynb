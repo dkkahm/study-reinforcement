{
 "cells": [
  {
   "cell_type": "code",
   "execution_count": 1,
   "metadata": {},
   "outputs": [],
   "source": [
    "import numpy as np\n",
    "import matplotlib.pyplot as plt\n",
    "from grid_world import standard_grid, negative_grid"
   ]
  },
  {
   "cell_type": "code",
   "execution_count": 2,
   "metadata": {},
   "outputs": [],
   "source": [
    "def print_values(V, g):\n",
    "    for i in range(g.rows):\n",
    "        print(\"---------------------------\")\n",
    "        for j in range(g.cols):\n",
    "            v = V.get((i,j), 0)\n",
    "            if v >= 0:\n",
    "                print(\" %.2f|\" % v, end=\"\")\n",
    "            else:\n",
    "                print(\"%.2f|\" % v, end=\"\") # -ve sign takes up an extra space\n",
    "        print(\"\")\n",
    "\n",
    "\n",
    "def print_policy(P, g):\n",
    "    for i in range(g.rows):\n",
    "        print(\"---------------------------\")\n",
    "        for j in range(g.cols):\n",
    "            a = P.get((i,j), ' ')\n",
    "            print(\"  %s  |\" % a, end=\"\")\n",
    "        print(\"\")"
   ]
  },
  {
   "cell_type": "code",
   "execution_count": 3,
   "metadata": {},
   "outputs": [],
   "source": [
    "SMALL_ENOUGH = 1e-3\n",
    "GAMMA = 0.9\n",
    "ALL_POSSIBLE_ACTIONS = ('U', 'D', 'L', 'R')"
   ]
  },
  {
   "cell_type": "code",
   "execution_count": null,
   "metadata": {},
   "outputs": [
    {
     "name": "stdout",
     "output_type": "stream",
     "text": [
      "rewards:\n",
      "---------------------------\n",
      "-0.10|-0.10|-0.10| 1.00|\n",
      "---------------------------\n",
      "-0.10| 0.00|-0.10|-1.00|\n",
      "---------------------------\n",
      "-0.10|-0.10|-0.10|-0.10|\n",
      "initial policy:\n",
      "---------------------------\n",
      "  D  |  U  |  R  |     |\n",
      "---------------------------\n",
      "  D  |     |  R  |     |\n",
      "---------------------------\n",
      "  R  |  R  |  U  |  R  |\n"
     ]
    }
   ],
   "source": [
    "# this grid gives you a reward of -0.1 for every non-terminal state\n",
    "# we want to see if this will encourage finding a shorter path to the goal\n",
    "grid = negative_grid()\n",
    "\n",
    "# print rewards\n",
    "print(\"rewards:\")\n",
    "print_values(grid.rewards, grid)\n",
    "\n",
    "# state -> action\n",
    "# we'll randomly choose an action and update as we learn\n",
    "policy = {}\n",
    "for s in grid.actions.keys():\n",
    "    policy[s] = np.random.choice(ALL_POSSIBLE_ACTIONS)\n",
    "\n",
    "# initial policy\n",
    "print(\"initial policy:\")\n",
    "print_policy(policy, grid)\n",
    "\n",
    "# initialize V(s)\n",
    "V = {}\n",
    "states = grid.all_states()\n",
    "for s in states:\n",
    "    # V[s] = 0\n",
    "    if s in grid.actions:\n",
    "        V[s] = np.random.random()\n",
    "    else:\n",
    "      # terminal state\n",
    "        V[s] = 0\n",
    "\n",
    "# repeat until convergence - will break out when policy does not change\n",
    "while True:\n",
    "\n",
    "    # policy evaluation step - we already know how to do this!\n",
    "    while True:\n",
    "        biggest_change = 0\n",
    "        for s in states:\n",
    "            old_v = V[s]\n",
    "\n",
    "            # V(s) only has value if it's not a terminal state\n",
    "            if s in policy:\n",
    "                a = policy[s]\n",
    "                grid.set_state(s)\n",
    "                r = grid.move(a)\n",
    "                V[s] = r + GAMMA * V[grid.current_state()]\n",
    "                biggest_change = max(biggest_change, np.abs(old_v - V[s]))\n",
    "\n",
    "        if biggest_change < SMALL_ENOUGH:\n",
    "            break\n",
    "\n",
    "        # policy improvement step\n",
    "        is_policy_converged = True\n",
    "        for s in states:\n",
    "            if s in policy:\n",
    "                old_a = policy[s]\n",
    "                new_a = None\n",
    "                best_value = float('-inf')\n",
    "                # loop through all possible actions to find the best current action\n",
    "                for a in ALL_POSSIBLE_ACTIONS:\n",
    "                    grid.set_state(s)\n",
    "                    r = grid.move(a)\n",
    "                    v = r + GAMMA * V[grid.current_state()]\n",
    "                    if v > best_value:\n",
    "                        best_value = v\n",
    "                        new_a = a\n",
    "                policy[s] = new_a\n",
    "                if new_a != old_a:\n",
    "                    is_policy_converged = False\n",
    "\n",
    "        if is_policy_converged:\n",
    "            break\n",
    "\n",
    "print(\"values:\")\n",
    "print_values(V, grid)\n",
    "print(\"policy:\")\n",
    "print_policy(policy, grid)"
   ]
  },
  {
   "cell_type": "code",
   "execution_count": null,
   "metadata": {},
   "outputs": [],
   "source": []
  }
 ],
 "metadata": {
  "kernelspec": {
   "display_name": "Python 3",
   "language": "python",
   "name": "python3"
  },
  "language_info": {
   "codemirror_mode": {
    "name": "ipython",
    "version": 3
   },
   "file_extension": ".py",
   "mimetype": "text/x-python",
   "name": "python",
   "nbconvert_exporter": "python",
   "pygments_lexer": "ipython3",
   "version": "3.7.4"
  }
 },
 "nbformat": 4,
 "nbformat_minor": 4
}
