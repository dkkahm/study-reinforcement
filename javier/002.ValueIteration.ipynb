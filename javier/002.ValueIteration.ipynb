{
 "cells": [
  {
   "cell_type": "code",
   "execution_count": 1,
   "id": "0de9642e-cb37-454c-bc94-c26b4c981f78",
   "metadata": {},
   "outputs": [],
   "source": [
    "import numpy as np\n",
    "import matplotlib\n",
    "from matplotlib import animation\n",
    "from matplotlib import pyplot as plt\n",
    "\n",
    "from envs import Maze\n",
    "from utils import plot_policy, plot_values, test_agent"
   ]
  },
  {
   "cell_type": "markdown",
   "id": "edd701a2-4158-422d-9fb0-d3021715de8b",
   "metadata": {},
   "source": [
    "# Value Iteration"
   ]
  },
  {
   "cell_type": "code",
   "execution_count": 2,
   "id": "dd174318-5a63-48a7-be3e-3f00386f666c",
   "metadata": {},
   "outputs": [],
   "source": [
    "def render_env(env):\n",
    "    frame = env.render(mode='rgb_array')\n",
    "    plt.axis('off')\n",
    "    plt.imshow(frame)\n",
    "    return frame"
   ]
  },
  {
   "cell_type": "code",
   "execution_count": 3,
   "id": "ccb0a60d-5740-4e5a-ac1c-32a182f562b6",
   "metadata": {},
   "outputs": [],
   "source": [
    "env = Maze()\n",
    "initial_state = env.reset()"
   ]
  },
  {
   "cell_type": "code",
   "execution_count": 10,
   "id": "c009ee5e-2186-435d-8dfa-5a6b4ad87aeb",
   "metadata": {},
   "outputs": [
    {
     "data": {
      "image/png": "[encoded data removed]",
      "text/plain": [
       "<Figure size 640x480 with 1 Axes>"
      ]
     },
     "metadata": {},
     "output_type": "display_data"
    }
   ],
   "source": [
    "frame = render_env(env)"
   ]
  },
  {
   "cell_type": "code",
   "execution_count": 6,
   "id": "b97b251c-4554-4678-ba23-e8ca025c842d",
   "metadata": {},
   "outputs": [
    {
     "name": "stdout",
     "output_type": "stream",
     "text": [
      "Observation space shape: [5 5]\n",
      "Number of actions: 4\n"
     ]
    }
   ],
   "source": [
    "print(f\"Observation space shape: {env.observation_space.nvec}\")\n",
    "print(f\"Number of actions: {env.action_space.n}\")"
   ]
  },
  {
   "cell_type": "markdown",
   "id": "9fb8b48b-aa65-4f7a-b2cc-f2b5489e1ed7",
   "metadata": {},
   "source": [
    "# Define the policy"
   ]
  },
  {
   "cell_type": "markdown",
   "id": "6fd3b3a8-91ed-4a8d-ba3d-e08537ad1f07",
   "metadata": {},
   "source": [
    "### Create the policy"
   ]
  },
  {
   "cell_type": "code",
   "execution_count": 43,
   "id": "2904891d-3275-4920-8e8f-5d760451221a",
   "metadata": {},
   "outputs": [],
   "source": [
    "policy_probs = np.full((5, 5, 4), 0.25)"
   ]
  },
  {
   "cell_type": "code",
   "execution_count": 5,
   "id": "f9708ff3-af13-4610-b1e3-eb9e26a47081",
   "metadata": {},
   "outputs": [],
   "source": [
    "def policy(state):\n",
    "    return policy_probs[state]"
   ]
  },
  {
   "cell_type": "markdown",
   "id": "ed95c6f6-839c-442c-8f23-20a7b977e555",
   "metadata": {},
   "source": [
    "### Test the policy with state (0, 0)"
   ]
  },
  {
   "cell_type": "code",
   "execution_count": 9,
   "id": "c15e07fe-88b1-459c-8646-62a036e0d01b",
   "metadata": {},
   "outputs": [
    {
     "name": "stdout",
     "output_type": "stream",
     "text": [
      "Probability of taking action 0: 0.25\n",
      "Probability of taking action 1: 0.25\n",
      "Probability of taking action 2: 0.25\n",
      "Probability of taking action 3: 0.25\n"
     ]
    }
   ],
   "source": [
    "action_probs = policy((0, 0))\n",
    "for action, prob in zip(range(4), action_probs):\n",
    "    print(f\"Probability of taking action {action}: {prob}\")"
   ]
  },
  {
   "cell_type": "markdown",
   "id": "40576e85-b810-43f3-bcf8-f95585721c8e",
   "metadata": {},
   "source": [
    "### See how the random policy does in the maze"
   ]
  },
  {
   "cell_type": "code",
   "execution_count": 10,
   "id": "536e6b01-63b8-44ad-82e6-bb5da3f93c75",
   "metadata": {},
   "outputs": [
    {
     "data": {
      "text/html": [
       "<video width=\"500\" height=\"500\" controls autoplay>\n",
       "  <source type=\"video/mp4\" src=\"data:video/mp4;base64,AAAAIGZ0eXBNNFYgAAACAE00ViBpc29taXNvMmF2YzEAAAAIZnJlZQAARs9tZGF0AAACrwYF//+r\n",
       "3EXpvebZSLeWLNgg2SPu73gyNjQgLSBjb3JlIDE2NCByMzEwOCAzMWUxOWY5IC0gSC4yNjQvTVBF\n",
       "Ry00IEFWQyBjb2RlYyAtIENvcHlsZWZ0IDIwMDMtMjAyMyAtIGh0dHA6Ly93d3cudmlkZW9sYW4u\n",
       "b3JnL3gyNjQuaHRtbCAtIG9wdGlvbnM6IGNhYmFjPTEgcmVmPTMgZGVibG9jaz0xOjA6MCBhbmFs\n",
       "eXNlPTB4MzoweDExMyBtZT1oZXggc3VibWU9NyBwc3k9MSBwc3lfcmQ9MS4wMDowLjAwIG1peGVk\n",
       "X3JlZj0xIG1lX3JhbmdlPTE2IGNocm9tYV9tZT0xIHRyZWxsaXM9MSA4eDhkY3Q9MSBjcW09MCBk\n",
       "ZWFkem9uZT0yMSwxMSBmYXN0X3Bza2lwPTEgY2hyb21hX3FwX29mZnNldD0tMiB0aHJlYWRzPTE1\n",
       "IGxvb2thaGVhZF90aHJlYWRzPTIgc2xpY2VkX3RocmVhZHM9MCBucj0wIGRlY2ltYXRlPTEgaW50\n",
       "ZXJsYWNlZD0wIGJsdXJheV9jb21wYXQ9MCBjb25zdHJhaW5lZF9pbnRyYT0wIGJmcmFtZXM9MyBi\n",
       "X3B5cmFtaWQ9MiBiX2FkYXB0PTEgYl9iaWFzPTAgZGlyZWN0PTEgd2VpZ2h0Yj0xIG9wZW5fZ29w\n",
       "PTAgd2VpZ2h0cD0yIGtleWludD0yNTAga2V5aW50X21pbj0yMCBzY2VuZWN1dD00MCBpbnRyYV9y\n",
       "ZWZyZXNoPTAgcmNfbG9va2FoZWFkPTQwIHJjPWNyZiBtYnRyZWU9MSBjcmY9MjMuMCBxY29tcD0w\n",
       "LjYwIHFwbWluPTAgcXBtYXg9NjkgcXBzdGVwPTQgaXBfcmF0aW89MS40MCBhcT0xOjEuMDAAgAAA\n",
       "BTRliIQAn9lnQQTHEoEe/T1jMRSYbUUAvtTDsX6fxD3ncLpVqjUtz6cF+e1vGI9S7YAAAAMAAAMC\n",
       "BTnRNQD/xjwzk2bjryV1oPi8fGS5/PKp35xJ1/81PWLRYWCDIRP7HhDbmPTJE+G3I7Uhcj8xrqyH\n",
       "Xfo0H/Wj5ufsCVtpeUsv8PJgIzLp4QI+Tvhsmr9a0HQUn43SNxUZs+flPHNXXZ3/kUEnMTezntvf\n",
       "xoWM7CQfcy84tI97wOM1c3SMCpZ0zGizfWlNo3/ynAAATcbk1shtapPnyyqZ7wSuuKZtVgCB5jZZ\n",
       "aSU2vs8CYa9A2mraJP9UL6F/yStQ5EsQGBY2Cz+SK+UA7g5XyUCMgjNueF+n4lNQcIOEa7wY38I9\n",
       "KuWEI8uMAAADAsmNww3LFvrZRe72g7UR1yBccNZXz/JPxgtqLSj782NrExErzlOus0QqfAJaJHrL\n",
       "OxGQwPJFoYVs3QAAsitv/lbAT7Yj2ok+1R+WKlbOkCuVYQ+9Kc1KJBbbUa+Rprz7IM4ETjTKGfru\n",
       "a8FYlaLfXciojbib+D7sO6ja0eGz4SBRjCLM7DFoR/TEgJ5wmGfTbYVN84ooipJJh4It7H2tiPo9\n",
       "LEtCwmla2yYrmPjvIVkgAKJLdiaHOLTqwWPUPKq6LACrRLHOxR4d83buUCUTvGAUTb+1IUCQpGVC\n",
       "MrIiHfevO6icy9IAPkKigHMT4l8q/sHB3vZy4MegbdwpNpNUbibBgpI3q4Bz5vKoZAJRj4zK7rz6\n",
       "mpX6gnHM7szshrCuQlW1eG97ouQ8oyuoEWt5UuhpI30W5Sd0GiYhzqYlXQX9aFDHOh6z6UaNLos/\n",
       "bNdBlWcUXA3t7wEabCez3HpZfsAeNs11qMCGTO2Jfw9kbvSmgVBqyYp40xNj4XTZaCYpLdvNTEGX\n",
       "9TNGnVZK1CUGDpXcVLxCN2CLySIW5boKR7RzU5paWSzdMMOpRUH15PC/fwp280+wrySqStrEtAZT\n",
       "2uFob0AKDs6w2nVTa4oJEBS63zEVq2KCOXFpE+lJbGDj5va6darr39r6i4/EEvpGBI0wzcbh9lRV\n",
       "hchRV1FwfxlxlqpbrgkLsv0TLxBk5s6EKSksuqmYpbujFqBYeq0ycjWi3OFSWlx8wUisbqKWssiD\n",
       "nMAsLJPGoH+PbvTE1OrypgAvibSwLxz7wA1qoHiWxtRa/lZBO4lPO2inlypvjGpcIqxzadZSN5WA\n",
       "WOt5sNw5uvi0V5PTTW/hPNmfWceeGXpEAABJSGKF0o/qk8quvWDBORndLIwyf+dy6+twU7CqQKe0\n",
       "Z8PcoPXNbuT3cvS3AowsidAktwSIGUreLTXoUX2r+otuwf3d7xk436Joju/ZU07/bZDMBQ3FnFHE\n",
       "dYkoZVFme8xuoaVMa+lsSWYLq2aMrvIz813hij51laNMBuDPYS0yYJKy+cw1k1xxX46wu3YjwfRq\n",
       "zzwAfngJ+JPvUQHp58SjP7jPHF0ubTCvcUwAplMLUkFD+xXmTH68gXr4+l1m4YmU71qvu9bT/IE5\n",
       "fjp/rawHb/L0P7izgbWAB0udF0US3YBcul53O6jx0BGtdHReJ8d3BX7ZAisEAJJmfjgc+xq2y51i\n",
       "CEl0zb2M6I9419WAZtJWPv6AXPS0ER5kyg7dWd5wIWfX/MXonBXYTMYCDViywO/hZ1q5r/pcGBXd\n",
       "hSAA+WtKvR4+gl/snARL+hRZqeF54ffABXPMPCrauvoIfjwbSaSg3yzy0kOZ5LcSEthpodpg5NgC\n",
       "bXD28fpeCCXXWifSAGQDXay5Y/1D1UEAAAGVQZohbEn/AB8vLgA+txAmk2Y/LuOxJJBbMt22XfkA\n",
       "PUidKPY9m8RG6UHOnhPEwY9JdlE1v34iVy+xZ1ttIGYoInpCnTsL/FrnfWqQ04IM8zKG3H3xYbb/\n",
       "zovAV/V9OiC+jf9F585HwU6ZL/B0U1nPQMp10MdS5TNEyXZlqqOcTlJnoBp2FSpOFnY6FPm4Fg6m\n",
       "LMvuWfg86nuXBck5FzqeQ+/pI5/9TBJFnRSQnL4xYfZoEmT7O0s0kxYn08nGgeWzJNpYv1RKoyoR\n",
       "C1ZEYa8RePzbJa8enlsyaFTPfPJHjgOMZuH8UNQSKNHhDxzThfny6aUg+6eMJEr2UmdlTTEh9pa3\n",
       "IcQenjCzPo9HdqiKgS8SEPBeX+maE7neNyuJJAvWckXHyaeeY11F9EoSr0z476LDAyyqHa/LXsOH\n",
       "TQfuzUXiJUKGCqzBvi6B23YwHsAVZL3v3AAByCp9kwekUcjaAUs3m6DrrOVBlcf/HiXlskd1pYuN\n",
       "oV8iBNKCuBGBfATfi3l91sx0wAAAAwAAAwAZJJlgANmAAAAAVUGaQjwhkymEnwAd1wYfFDuxgo6d\n",
       "CcrJuFS6RKHwZKtsUvc0LYusXIAo6ao9J1WiKeBgKC+YZuvdAGpGy7Xtuny/OngIooNC4psKzulZ\n",
       "pztso3X1LKEAAAF/QZpjSeEPJlMCTwAd1wXpnIvr9VJxgza/eZfYt/3W3p1iM0+Eo0jx6vwN+fx1\n",
       "RJ+IOvHq8YL4p2YY0xbLylVIHOBpLfMmUWwnK8W8gwXp1Fjm81JV0VW0mA1LxugdQjPn37juERBW\n",
       "tThUrFtw4+GXByqxg7fYwa5wPi6U5oquRaIB0zf6lA47qoHGdd39DTwNH0lCzMmPQJ21IgRLCd9v\n",
       "T3YZVzLBGlSxvwZ31ti62/5PiiqzZHYhoBKbqAULDaCM/xvukBFkL0v6ehAhIQWu6H0sSAX8eyLm\n",
       "wVxCPXuWZ5FdcX97iXJW+oBSrHjeLued8QtWhzwwg9/gTq976TeGwMOe768f3gNedoOa3wEhlwD2\n",
       "iMWiC1iJf8dqpngo2cyVP49652j2oIBEpt5L8qobPkH1wyrlVKgqL5IiUV/epDh/saT3BiuKxitN\n",
       "oi81YL1kMeYa5cpd0EZHEdaNjGYN2+OPHuhlPfrfsp9JxwT5NxP3dOwLBqad9f5PwAAADjgAAAAz\n",
       "QZqESeEPJlMCTwAd1wXpnX4ACMAACPDuGiUmznRgW+yx+oAGPc+wRAN7I0Xce8gAADehAAAAQkGa\n",
       "qEnhDyZTAk8AHdqjlwjnW+RM0bp7dXMODP16od9NwIkRdXqxplW+n9Ovhht8gEKXvOZPQKhLcrII\n",
       "IQAAAwAScQAAAERBnsZFETwl/zjgCESuAM+3515nT2PZWk6RINE1ZGLqa5rvXqu1JkdkZIThhbFp\n",
       "UgZINHL2/h4+oQ7DrAA+wAAAAwB8wQAAAB8BnuV0Qt8+gAPgAQMlsyqA/7e0uxcyiTZ6IAAAAwJ3\n",
       "AAAAGAGe52pC3zWtToYTj8PhNSsuoQAAAwAG9AAAAZ9BmulJqEFomUwJPwAUX+U6LaZV5mNcte14\n",
       "DbKLH1wPVk4/4CHqH9TYJudZGmxGV0x6QATW1mbwGSjTmRKAHO7jBOf7XTI4JTgCByjPOSuZDVow\n",
       "3mhNleaC2sVgYsVA0COYNZs2o/7U45dsq8tKuVrDH6FKiehcNvZO8gbhGTxDkkFl7/S1z6T1c5+V\n",
       "dDjYQc3nTyqTBFV/XsJIhWKLfvi7J9bEdbue+G39RBe3mta9LYNxetwxsvv/EYX47+7r/MmgD1IU\n",
       "TOUNtqMvyKzUu/tM4CcfnjoWq/Gc+CPjEe3gDaXWjp0XlikjHrtSmKh/yBKSACWSLLKzmczbWCNf\n",
       "talzFaykJLCONvn/dxtQCU/kU/6hEpGqvOTXoVGESl0e3QGhd/ON3/dJjz0HML87PS8jJjqmhwgF\n",
       "YJUJwE3FK2CrvZmC/crc/e0QV4ScEeA+YmrMQS7yq4aG9ELSL5a+tshuCxJCThUHrm00zNeLXhb9\n",
       "IOP/oj2E2lOp6KbOfHhAdDeXqnbCoDZCpUigI2/Nif+7+iOfUQJfT41paw7QABQQAAAAQUGbCknh\n",
       "ClJlMCT/ABOmW7x/DgjYBRBrIGAIVx7Vmpi6LI9dLNO74663jMEXLv8Hm937y4bKZXeAPABB3g5w\n",
       "AAspAAABkUGbLknhDomUwJP/AB8/z2eCfZywmQH3KS829hteNl0JZAvKgYs+VIE+v7FeO5bVwXkz\n",
       "aA7YfR3Rs5ajzweWiL/O8UHtmHj6oj0X16aCTkIbQZ1fVuI/CYPL5kLIoCLcCFnoNW0wdKcRKixu\n",
       "mNoAnbqk7iKLG3Lsn9nVwGRSFwKct9QOSmH5oj0C541a1oIaTwCC66/25y0+Tu+1bUXrDdc6jXHo\n",
       "E7anRhb7VAR6K8AS5/XYQat8d7OsfgjM7we2W/AR2wO+3r1LxVebC8ksbIH5BDIEocnTO278TFmJ\n",
       "yc2eJcLiU2cuYVQbTNJYNnaeqyaVdLdCINacb8zGFfAm5TsUpil6aPGNy74nFzQKIJwAczAsHTvi\n",
       "faAC0CYwx2fvVBpQdhLvcESM8tc7F+91LG4rw5aft4yxfmbYlSvAsUJbQ9Ho9zZ5R5z5UTj6DhA5\n",
       "zAYqLwFHMkERE3m1MIs001c2ge44E925ONfmk47zKzKxdD+pP3VDZG9vSeFoLbNeBXF5C24PUAAO\n",
       "aEA1AAADAMCAAAAASEGfTEURPCX/OQyib4/St1y4ZyrnYN94UPVEorXhYa2LbiQntScPj+5Swf9v\n",
       "larPzI6hRrlY9OttE2hsI95JGO9loP5HoAAA/wAAACUBn2t0Qt8/FoCeyosFngdmbpd44JjNElGH\n",
       "7nQAPD4AAAMAAC7hAAAAHQGfbWpC3z3DXR5JyNABl5Ha8FMNi38WyAAAAwH/AAAAN0Gbb0moQWiZ\n",
       "TAk/AB3osuMJ8AvIavt9Dj2JI+7ZpdFjwghDCAjZ12T2YuJviMTMqWEAAAMARcEAAAGhQZuRSeEK\n",
       "UmUwURLJ/wATngj7UuH+VX24hPQUOiXTgvwPIYQ/4CHqH9TYJudZGmxGV0x6QATygWVqNpmnmRKA\n",
       "HO7jBOf7XTI4JRgCByjRR4XMiIvGDeaE2V5VutFQCH/Yg6CuNR6cEMaGFeYKUlS0z2jTyOKkHrs3\n",
       "y9hBehcNvZO3VMxhd4BUHll7/S1z6T1c5+VdDf0Qc5+iLghV0gTkCKFzVxXdO9k+07eAVrUBxhDo\n",
       "e3mta9LYNxetwhsvwBVgNn0gf1kLfzw65CB1E+21GX5FZqXf2+DovJ+nS0MnYZz4I+MQLYeNpdaO\n",
       "nReO4lsmH1LkA5KxyDKPYSy2+3OQ8Fgp0FYlIYCSNMjWU1xtU38blmRzezCNIeax8F/S5FoI9ugN\n",
       "CDA+cwdbC7MmOYYAQg/zxgQNmJejEWvObBuVrsJslrMqUXRWISZxNNwfzA7vGxNWIglyNz96dpId\n",
       "buQNTwOANHJOr6AgKth00zRfM6ISc9Ok97bvodjTJkU2c+PCA6G8vVO2cQH4FRuoIUsbB6esT0R1\n",
       "CKA+JTGxvR+wAAqYAAAAJQGfsGpC3zZga8TwFbol1MBxEIOBvvPXE9P6+952l6jxMAAAg4AAAAGh\n",
       "QZuzSeEOiZTBRMn/AAAb7/Kc6Gq3otEM8Twa2iwEk259EqBvP/FtU4+NbQTP5CkEl3zZdCWQMiDk\n",
       "ILp4XQ5xjzlCVg0Ld6ftCVvbaIVGuvJ7w9yE11DnDR8bS9sFXXV4r2tE0JaZS/zuhJn13Vca4MJI\n",
       "ABkJVlruRjbgzb2C0lhZ4aeqUO2LTBPkD7mJHULEQFlpZVXjXWubMl0RaXoHEPWxzIlDTQZhBNOZ\n",
       "GlHsv68g/dzXAFoGsfAo/5BwP7ahdchJarQifjRT4XwDvGSv0rzCLalKOIgKaEtbWoNHQl/DyvMU\n",
       "jtioppHmP8ylFXyflrHy50FOJiRSaeZ9pbbXqtub46kaoWmXqb3h+l88jbyIEy/MET2uGMo26D1F\n",
       "Zv2FPYI5TqTI6mKU31adm6iPFs8xa4T4CTGC5MfKcfMcCMY/12L7EXRCQIuEQJwC2UsVYS6G3KcM\n",
       "UK1iTBUbHbpo3f8Tk6//RGxwc42Ovw5yJuFXMMzkuqfse2EdrzjGNBnbpTd8XyU/vXgrhe11kj9L\n",
       "XhtCDoFQ2iJz+6QfqiB3IBlRAAAAIwGf0mpC3zQd2QW9BEss7jsDpK/WIK8JO/pGl09AvxAAANCA\n",
       "AAABjEGb10nhDyZTAk8AAAMAMt/lOi5aQgBhaFZKocxUrav5IDk3hD3fxghNz2Ucqm8IxFy/qpPm\n",
       "ekil2MFZTjoSyDA2F1SBBHG0HumNpVi1LHxtQP3LY5dWLGQK3NdAjNjQZMvsk8ylLt7iSVSS2Vy9\n",
       "OPWENr9tZ9E2IKN8tarQ44VI+npYCO9+sNiB1BZdcRKZ+wRS0LPQpsuJj3iOZUXH+aKO+os86Ko/\n",
       "NQLshJ0Tt+RNhlcIcU1vfpa/4F+QYb2Gizoc4XsJbfUMNmYw8+cy5V7bfdcIMMThC3OvCbn2OZyW\n",
       "8LW9dbDICw8MNlgmEVRjG7e5hXM0L24cGxshBDUX0/3bLLhToivcDINDRwdlTSHWSNy1TUk38GaX\n",
       "w65s7WG2TSxh7rM8nOVGsetj38i7uCNhDDVL2mAgx9aRZ2p8ctAR8sup56WHivBbxmYb0giDQgeP\n",
       "mF8kCqzcRE6kpR/JPsleEU9R6rA7K8KKRVZpZBzL8L9RCFxTLH3EatHzm1zBcdA0rgFpU6Ycegq7\n",
       "gAAAADxBn/VFETwl/y8MZQICAd1GIP0xACL0CURidRiQBJUjWUivnep4WoiGOHtfPIw4Yok/9YzU\n",
       "0nnvSlfgN6EAAAAiAZ4UdELfAAC3gESP+vI5jBAbfS0EgyLQkgktIGZajF8MWAAAABgBnhZqQt8A\n",
       "AAMBWZr0k2BqKmNpiVQAEvEAAABDQZoYSahBaJlMCT8AAAMAMkvHcWeuaM6e0uAH07Xcdi7C+tZq\n",
       "iMQtitTv4qUkOCf8mP5Niz9HFd6vE1nnVoBggqOx0wAAAZ5BmjtJ4QpSZTAk/wAAG0/20vxETUP6\n",
       "mwTc6yNNiMrpj0gAmtrM3gMlGnMiUAOd3GCc/2umRwTS0sri94oz3/85CHVEx5wQtazpKHEP+xDQ\n",
       "I5g1mzaj/tTjl2yry0xUvlb86DbWw+6xpTE6BVwjJ4hySCy9/pa59J6uc/Kuh50OG0fJUssUK6Kd\n",
       "ewkiFZDRFy4YUvrw8ArWoS68HQ9vNa16Wwbi9b2lXk8jHAbPpA/rIWZRtMGMmcobbUZfkVmpd/bi\n",
       "V1WGuo/MEI3WM9JfGLhmpzItVp0XoHQKntSTWGO9xZoUkAEskWWVnM5m2sEa/a1LmK1lIUyKM+3p\n",
       "VzI2oBKfyKf9QiUjVXnJoL6RgguV8CLHDJHF0N/3SY89BzC5gHtLyTB4R4OEArBKhOAm4pWwVd7M\n",
       "wX7lbn72iCvCTgjwHzE1ZiCWgW5mUDAQtIvlr62yG4LEliPhUJbh00zNeLXhb9IOP/odOZt7rZ6K\n",
       "bOfHhAdDeXqnbCoDZCpUigI13i5ld2jwm4vRHJGxrS1SSwu4+iHgCz7AHWi6MDtAK2AAAAAmQZ5Z\n",
       "RTRMKf8yucokU1KYvpDi0WWSvTbqLoFCpos4k7ibooAAE3EAAAAVAZ56akLfAGcesAdk8iHhbQAA\n",
       "AwMqAAABh0GafEmoQWiZTAk/ABNqdfqpOMGbX7zL7Fv+629Os6iAoFGjpkrMDfn8dUSfiDrx6vGC\n",
       "+KdmGNMWy8pVSBzgaS3zJlFsJyvcVuNCw9Kxzeakq6KraTAkGnkUOoGpT79x3f3ytanCpWLbhx8M\n",
       "uDlVjB8pZLZMxZfBNOQJI6nvaaZKSM67v6GngaPpKFmZtPQJ21IgRLCTafsEAslvGnkPjkwVAgbm\n",
       "j4Fjf1W1E326+p+H8U3UAoWG0EZ/jfeV0eFnof55rV1TvTPCClyMwubBXEI9e5baJWSxTY7sDAiQ\n",
       "WgFKseN4u553xLVUnPDCD3+BOr9eYTxlOqo5WeOBbXnhiQy4B7RGLLldTFZ+qPsvvTbTvsoteY7R\n",
       "7UEAiU28l+SIuP2tR7qrlVKgqL5IiUQRWHlELPlfAmmzW5+7L+N42NUzIY8w1y5S7rBjq12Ju/EX\n",
       "rt8cePdDKe/W/YgeOOGnybifu6dgWI0pjkVjOC42pUBkADZLbxeDs8GCD13nAAHF3TA01Rm8cYsA\n",
       "AAITQZqASeEKUmUwJP8AE54I+1KCOuBvaaXIvKpfQkgs3p3znavvPF4sfEeiK1CkPvMMIm0GxLw0\n",
       "zN8YIdpzckbL/j7gTt1Jzkw05NJKLjp0B/fpDVy30K+xa6WQbjCowKOQiIqJq09dFiu4FBoicsBO\n",
       "fwvREPII3QfvbSbyPKZdwzrpvFUbk/7NwSgRsmhNam1l/HThEv0CX+05dWZQ/MTSUcDefxgicOLD\n",
       "6HhlHnKCf3wdcAdSOTj+e9zl5kFhIji6rjKOMHOagQBTEgjPFBFPEI8SZqQc/msYxFut4LXFYwcn\n",
       "c8OvPPa+/LOMswsPJuQF1arBNX/K6ENqq1uCnkUS+sdXRpRHZO7KbP5ObR18bXuJ9QMRfKZ8Q0nO\n",
       "psra0nTOyTW4AACaxJLqUcr/9Zva6tMqRVfd1Cce5iAmitpQODx8G0Jd8ZU0P+9PC7HdIm1KN5X5\n",
       "jF8A3qxUnaYceq14oNjq97imSXdMeJ1rsFmk0AsEeOtCxX/2K8Jk2r5sG/4z3lQEbpaEE+cO0Hvm\n",
       "tQjqK4O8KyJZRLxJBO1ti8L7HQON2MU7SzQtaP6P7Uk929TFdgNbFC+PYbbnEpKHyBtfc2ZYyg5D\n",
       "9J4EvoUapvE3FrCK+qcneg8Owra7lItVloOFc4Ez2ZvkRpCS4EbhJPzTeyPNmvhEMFsmOUAB0GpS\n",
       "BdC1/EwPUuSaOp6vQkmpsAAAAwOXAAAAJkGevkU0TCX/MUAA0KAKZ+SuOB/rbEP+iaDJUkupif8G\n",
       "w6gAAAoIAAAAIAGe3XRC3zZgAEjSBDgrvkHxVuYdOgG0vT0KAAADADPgAAAAFwGe32pC3xLIKDRl\n",
       "MJq3KDNAAAADAHLBAAAAQkGaxEmoQWiZTAk/ABOmXuknIQk7dqTxv7YLOJNlJzT1aHu+Nx5kO+zE\n",
       "Ev71UuolPJ+gZoRWuef1MBfe3eg+gAABMwAAACJBnuJFESwl/zHPdajWAK80vxwpt02gUt+NwjxN\n",
       "cyAAAMCBAAAAGAGfAXRC3xKWpfHnRx8DcfzNSAAAAwAMqAAAACEBnwNqQt827NHjWsBYHAWTSETw\n",
       "4xCnlGqXIQ1vSAAACRkAAAA3QZsGSahBbJlMFEyfABOf0ar8P32ABEeKQ2/gNjOyPhkXk5XIQaHv\n",
       "H4cgqUjghreJe8rAAAAMaQAAAB4BnyVqQt82YCBUwQKZ/9MJdXI7k1SLOD3jQAAABN0AAAGLQZsn\n",
       "SeEKUmUwJP8ADfVflAD+AtdNtwh8j52IeA0sqrN4alo2CLcb8t+vUNWRg3ON1rDEo7bch2dvaRVr\n",
       "n57ZBzC0NzdlEz3A6nXG3IUvj00MhpPsDWLsqyNx/tb4e3QswuL/Gkwj6mqj6ZaVpuQPhRsv1yvM\n",
       "dY916VWxY+azgPa8aeAdIJSnDMJSm1V0uyVjtxLt7aTxyxYphCwc1huwoYGazAqXH7pmudVr2ciy\n",
       "p4eF8BTTQ1kTXg9NQzDkAxED16HOs6TPzYvCyd5bF1HY18zMibh1x1tlAAAQ1aVp0itSAFiyUuCn\n",
       "cQpd07JWvcPFIjrRu9eJl/3YZMf1Q+6z6FXJmJZuIh0QWIM/FQGQ312D3EZJthHKBSpD5VP9hdj4\n",
       "yEXNsh98oJTIL4FDHicaWBzhRGSTclpek3QckAJjUauajFfXBsL7Z0B9vD4R491VDsxOrozz4Jz0\n",
       "6ab9bUj9aiUjn0Ks0WyDnKV5puNc9vM3JKHx/SHQmAOeCAuPOharjV9ZaQ/3gAAAFtEAAAGBQZtK\n",
       "SeEOiZTAk/8ACvrgvTCw/2qwc438cq8gs/XLKtlZTK5if4sZnhfuDHDBUXXwadZR7HC8ju4Ct+2G\n",
       "1b29XxkeOuT4wAYjX8q9jmy63xBWX7t1sWiX3/V9iOQiWuQHr0QPgFdw8xrR2GsQT7VavC+8EeP3\n",
       "Ww75ucaMfOdQEIShSb9+l0AwnrGQ5efbB7JdnlSHYxl/QYavcs6m4ezslwzAkwvQSHXLG0Iuw5nH\n",
       "OraWi7fG7aszf2Zg5A6kRkv8H5yWAF7HitEpV/8j87HofFjGfpnhTp8DC/UWsmPQHZg+GIqbv0Xm\n",
       "zGGd+T7IkRXXrcse5raZyj4/SYrMGzX/PeD4yy7YHZwYsYGZiNE1/h5m77+WLIh7wOAAdMBUoq92\n",
       "vVF62oLvPBUcACE7YVpQqTkucBNU4Vz/sZII3hOOXp9xxRQLqrKjJ7ZjamfwOoYzLYjcanPsHbQP\n",
       "UoOYs1ZX0tSYA3pSTLtduNDvp6GxJwvcycCivI37ht3cVLZSeAAM+AAAACtBn2hFETwp/zIXIdmg\n",
       "pjeZtgrG/lhEDqDV7EOFWoriVhC9iLn9cwAAAwFNAAAAHAGfiWpC3zMtFeI5eG9lEmYgGP9qOHOr\n",
       "gAAAu4EAAAA8QZuLSahBaJlMCT8ACx1ZngqGTV3O72A1+C5kqGaeowpn3JrpQNeKBbXf0lGdzbvR\n",
       "tB/Z0TbK5AMgAB0wAAABlUGbrknhClJlMCT/AAtW4XLgN79ZHXP/iuZTSTID7lJebexJl5lkexwv\n",
       "KgYs+VIE+v5gCND/bgvJm0BxDQwGZ3LMUH/nGiL/O8UHtmHj6oj0X2BQrRNu6qtNxQX3c3leZCxw\n",
       "kQJR6Q12D3e8isv5LodXUCOvZPotZFBnzl2T+zt30GkxLDhT4Hy2o93XxnM9kkwnr+wucJmD6DJV\n",
       "/E8Q7IDb1hqeLV5Hkx/ggLwlnIcJKUjl7ZNCu0t6bjlWcVoQOI5UOqxACGdZFBFfpgGvLKBgqvPZ\n",
       "O82NkDzgraUMq+phMKLY0Q6hjt6gZ/0lj+CDP1yK0omztPWRU2ykBIoBmYeahXk4xI+OBCmECzet\n",
       "ytykCatCuVu8glUjFNp01cAWp5XIanWnvQ2RC5n25RoQSHOae0XFiiK1+9vgNtWo/AS7i18VWYGr\n",
       "aM4DYk58qJx9Bwgc5gkprOGybStHCmJTUHv0M/jGrm1J6POipyAuiwb9HA0jmKEVqFkLDjIxWuPe\n",
       "rHOJ5J8jcqCOu3B8JH42/mAAAAMBbQAAADRBn8xFNEwp/zIXIdkS3tB3OgSZf6RwUjApwmKKA32Y\n",
       "kSmkbRAWNq8hTFoRqaj6wqwAAAZVAAAAIwGf7WpC3zMtI/4+CBFZe8AAfYA6lTE7mlWxbmjCgAAA\n",
       "AwJHAAAANUGb8EmoQWiZTBTyfwAK/PbvH9iP2gNUUJXJx3ayln/MJ5fU++vgbyXfSySF+EirGAAA\n",
       "AwP9AAAAIgGeD2pC3zNtJRgCgILHhLGMVAKg8n72eCZevgBMgoAAATsAAAGRQZoSSeEKUmUwUsn/\n",
       "AA33+SCKgIeZMwzRK9yGj/YVz0CXj65diMY5HTFx9D9QPVchb1QbyW5tDuKR1A1+EK9vSEQ2S+kq\n",
       "ZdSi+kKzHHPpc3Ax8CqAj3OUwixIzl9e8bO0R1MXA6BcPJGGmakNnqVXxQVwgWpliL0aKsgO3Uj7\n",
       "4V4LxSViwTSXVp631MTSK6BhGid06LAgdCKWx4DNPoAj3m4lUinhy6gG5m+g7USmiCakP8XtRsF5\n",
       "kMpvfFgQZbOEq0JYOxAZsc/lO4oV8X5cjc/91I4w8uGr4rO133lcODYsA5AV2aPP8D6rSD+ldwuZ\n",
       "FEJ8+YH+5Kdw2wv8Pl2sNiBmJmtSFoKAL5nIMApOgElkhZqADoJrW1ij90+vqYrSbK60yBK5WSid\n",
       "pZ51U3t+BAcNbea9h2CFeIgZeHQnayhA36yHHs5OY0QeTaf1P9D98Cs9oyK60qIwkwDFWmDw1eaW\n",
       "yPObZrkK7Ky7Dw/VZFy7O7DmrxqLq0PM9XE466y4XnpI2JSWBSZAC6LwAAADAtoAAAAoAZ4xakLf\n",
       "L0AZY2SGrxiBDAlzGJfHSvV5NMxA88qbmq32TXGAAABbQQAAADZBmjRJ4Q6JlMFEyf8ADp/xSdn8\n",
       "9xyAKbfDvrQvJ8ashjlaIEHzQqtRM2I9NVIQA6pYwyu4AUkAAAAcAZ5TakLfLw4tQxU0gAN6R+aE\n",
       "ZDOL1CvUAAAHdAAAAXxBmlhJ4Q8mUwJPAAr7VHFonrmRwrYPSDiUYFF5In9RP4sZnhfuDHDBUXXw\n",
       "adZR7HC8ju4Ct+2G1b79XA1WOuT4wAYjX8q9jmy63xBWX7t1sM2yP+r7EchEtcgPXogfAK7h5jWj\n",
       "sNYgdsJdeF94I8futh3zc40Y+dZQIQlCkH7Kbdh2KR1PiYoLaOS7PKkOxjL+gw1e5Z1Nw9nZLhxl\n",
       "MJRkcyAtwyxf9oic6tpaLt8btqzN/ZmDkDqRGS/wfnKCgXseK0SlX/yPzseh8WMZ+meFOnwML9Ra\n",
       "yY9AdmAcQgpu/QYbMYZ35PsiRFdetyx7mtpnKPj9N6swbNf894PjLLtgdnBixgZmI0TX+Hmbvv5Y\n",
       "siHotO8+0wFSir3a9UXragu88FRwAIEKgSlCpOS5wE1ThXP+xkgjeE45en3HFFAuqsp83tmNqV1Z\n",
       "6hjMtiNxqc+wdtA9Sg5izVlfS1JgDWlJMu1240O+nobEnC9zJwKK8jfuG3dxUtmGIAAd0QAAADdB\n",
       "nnZFETwl/yn3Yh3P+YDrkuByvyhY+UxEg0GirePTdwKZ0l7OoCUSGcrgIzrxIetn/leWAAH+AAAA\n",
       "HQGelXRC3ycgASb6Q5fX4Au9q4DkGYOvnIAAAAXdAAAAGgGel2pC3wBHIZs8WtLbphNynZhX2wgA\n",
       "ABxxAAABmEGam0moQWiZTAk/AAAUL/YTKb6UvdwSAvGWg3U95kj00fsvkvtfWrv7VV98SkjwLk+g\n",
       "49Yg/l/SUPHvMBqmIEGIg3jJ51VQfPjISdRtF8fiszT6lB1jkssiQPl87lWigcgnJ7zVYuaXCOV9\n",
       "Aq9rydKmqU1hmTMd1QDxciHZ4ybfpXKFBoCc0HMCmXixO8PznCSiQ4j+v+YwNfM/Ji9XgkUcInzV\n",
       "hPKTlIqItyQMWZEWnKSlUlKufXMXijy/6Vz1ZegpZbYo7xtxYlALyMum2HC1bjqMh4ncgkx8a6o7\n",
       "+g5Dv5aiDM1Z8PmkWRbVEmRrNAP95W1Xudix2VhBHwynKxaTJh8/uw3WnRwGeNHe7+7C6Q5g1OuA\n",
       "pRozAq28H0rHvY62NNpNEiLt4QrdTPSMC9aiK3RP7E6XChFpa6OSo8b+7dWQBFWrRSMalZjkO9Kt\n",
       "uD9Wk83Tkd1zoeiEABgBxpEHwY81qhhh5irSoMY6ZILya7Uwg4CiHfWGBeFbQSjAJZc5HpClAzma\n",
       "LXucd/iwSYIdiJQf5NgEnAAAADdBnrlFESwp/y1NqKQ1d4rHVN6Pus5/wrLausHgIUHy3FzC97Av\n",
       "vwehe3gQIlreUE1b4oWkAIeBAAAAHAGe2mpC3wAdbqL6L3WB0tn39sklThVIEGAACXgAAAA5QZrc\n",
       "SahBbJlMCT8AABPr30PzFi9pNt4GDK/1EKYq4bB0SgbNb8dCSO2yYQeZA2Hn7LAvxbT4kAtpAAAB\n",
       "iEGa/0nhClJlMCT/AAsn+2l+JK8m8FWbw1LRsEW435b9YTys83xqEipJ3LYJqxS7hKiern6ASDmF\n",
       "obm7KJnuB1OuZe1CBLRoZDSfYGsXZVkbj/bt8/Sg+Sv+82kwj5v6G5xqVpuQPhRsv1yvNYMc1VOF\n",
       "yVOYVlSUUFf6pBypThmEqHuGe/gssRUWcDe7mc1huwbao668cZesCAGdVr2ciyp4eF8BVV4C07E1\n",
       "1szh2CCYZ4U+kRG1nSZ+bF17DNc0PzNjXzMyJuHXHW3IvU2Jo4ukALFkpcFO2pwm2RSte4eKRHWk\n",
       "uuy6RZJHyJ1o+2sirG6U/gNlVZJ0QWIM/NPO6tm32+liLc6yhHlU/2F2PjIRc2yH3ygnwyjRoZKT\n",
       "bhzDz+3PKBclpckPdckAJjUauajFfXBsL1Eql/LTnMce6qh2YnV0Z58CwNMnAJLmsQowlI59AhzQ\n",
       "mWHtWlS1Bp1rwB+F2HKVsXjOogLjzoWq41fWWkU1sL3Oz8bHv0fBEH8m/0JtjSzAAAbNAAAALEGf\n",
       "HUU0TCn/LVwiEPGc46zhi7EujSFtlLXibrZsANmpUH7PfdHxbJCQAAHpAAAAHAGfPmpC3yjb3AEO\n",
       "GcPEhrwqyCCoKUCCAAADAqYAAAA6QZsiSahBaJlMCT8AC4f2E+Ts9nsxUkXGhCvBVlBU5yij6nYZ\n",
       "NG6SvYZFJVm016soAJWA1uvoHSQI+QAAACdBn0BFESwp/y1NqGCgQ+5Du+yxrMS9pMDsNvm0aqqf\n",
       "SM4HQgAACkgAAAASAZ9hakLfA0kdnV1nJAAAAwGzAAAAPUGbZEmoQWyZTBRMnwALHVmeCoZNXc7v\n",
       "YDX4LmSoZp6jCmfcmulArR2WSO+qSt8S1cjPQaNmwZgJHQAAV8AAAAAhAZ+DakLfLpEmv0A1l7qD\n",
       "sQ/4UTsMbcbNJKPXwgAAAwEDAAABlUGbh0nhClJlMCT/AAr7VHFooL9s++CfZywmQH3KS829iTLz\n",
       "LI9jheVAxZ8qQJ9fz+qtRixYgVu0BxDQwGZ3LMUH/nGiL/O8UHtmHj6oj0X2BQrRNz8CusyMfwVn\n",
       "yvMhY4SIEo9Ia7ixtk/bOsBHYRTtAE7dUpbmQZ85dk/s7d8ccQ4c7d8D5bqewc5qFyTPTWEx4BBd\n",
       "dfLc5afJ8Q7IDb1hqeLWU3fZ/ggLwlnIcJKUjlI1yapnYabjlWcVoQOI5UOqxACGdZFBjDJf+vLK\n",
       "BgqvPZO82NkDzgrcAAMu35id5x4sC63t6gZ/0lj+CDP1yK0omztPUtqqFBlH18TivNQrycYkfHAh\n",
       "TCBZvW5WzJKV0A2u3eQSqRim06a2ALsF4eXPUTYL0/sfbYTrDKuUaEEhzmntFxbEsiM9USxSz318\n",
       "LhvPxRV6bETVtGcBsSc+VE4+g4QOcwPmXLWYqnvg2fLHPmm6Z/GNXNqTYXXSmaAdDHCM/aVTeUXe\n",
       "h/rrgl/pqrpfc2p9mz4ri8hgzrxVYwAAAwB/gQAAADRBn6VFNEwp/y1cIhAnFAQXCEOwMpybN/JT\n",
       "z3KKA32YkCmcbRAT4ZE8sBQ3e7SAAAADAH+BAAAAJQGfxmpC3yCUqCZmath1qADKrnUvjM/omqnw\n",
       "tzkaE1gAAAMAKmEAAAA2QZvJSahBaJlMFPJ/AAr89u8f2I/aBANfci4HejUfKogIXAIRIJGun6F0\n",
       "m9vukUDC5QAAAwFBAAAAIwGf6GpC3y6RJtQAFpAxgO7bjhJpKPbxWrYDWgcwAAADAARcAAABkkGb\n",
       "7EnhClJlMCT/AA33+SCKgIeZMwzRK9yGj/YVz0CXj65diMKs+UY/fDWwPVchb1QbyW5tDuKR1A1+\n",
       "EK9vSEQ2S+kqZdSi+kKzHHPpc3Ax8CqAj3OUwjRMzl9fJy/1/sa2N5/u9kOB1BxTELHq6ie/r9QD\n",
       "ERo8jTKgB8jfSbXQdaOiUr7iqNm1CQWM3oVpEVFtt7rMo2SnOIq6Er3feghXNSen7p/qQ2CFsJLs\n",
       "lUCXdCoQ1BjYooi+LBjQNaFsmpelmoJ11OKDX/+7XZRli7+7uRLImQ6hc404JxCQOL4rnbRn/cmE\n",
       "zDlV+qVpswIHcDsqABsDIgJk+O9mKlxORLqf+PRL5OOZH0knYdi5+AEb7VuAF8+VM4zyAe++O3io\n",
       "X14QrLv7dE4Aas6LZ3ZeecY25h5tjO6t8XLMBM+zt4hjRM99VOzlWq60czkbeBwRxZiYiR9gQ4tk\n",
       "whJCdnl5B2k/FbIY4/jf06r5zszD6dZxWX0fbRbzmRih5OurfwMjAFTmySeOFWEwTcAKK/AAAAMB\n",
       "9wAAADJBngpFNEwp/y41iYtbKzHJSYGkfQbo4+aZ0pmFXFtI5r5a0zUfQVRsoJMepgAAAwATMAAA\n",
       "AB4BnitqQt8vs1cyg8tJwaWHVjQBIwS7R4AAAAMAVsAAAAF5QZouSahBaJlMFPJ/ABNqdfqpOMGb\n",
       "X7zL7Fv+629Os6iAoFGjpkrMDfn8dUSfiDrx6vGC+KdmGNMWy8pVSBzgaS3zJlFsJyvcVuNCw9Kx\n",
       "zeakq6KraTAkGnkUOoGpT79x3CIgrWpwqVi24cfDLg5VYwjjL8L6blrEkie6+DJAtEA6Zv9Sgcd1\n",
       "UDjOu7+hp4Gj6ShZl/HoE7akQIlhO+3p7q7KffPCTiLBGu762xdbf8nxRVZsjsQ0AlN1AKFhtBGf\n",
       "433pf9MRozKkyuf881q6p3pnhBfx7IubBXEI9e5ZkEwe2iQ7OGpgfyseN4u553xC1aHPDCD3+BOr\n",
       "2chZ2UKBJy0rwGvO0HNb4CQy4B7RGLhKy536ZJF1Gh9L62Ci15jtHtQQCJTbyX5Y2F8hER1hXVCF\n",
       "KVA1nJV6iXtF64H+xpQ19aiFYxWm0ReVqmnaPncsV2zWtQ/134i9dvjjx7oZT3637M4+ik6fBvh+\n",
       "np2BXGAAegkgAAADA7sAAAAwAZ5NakLfNnEtZaKvtF/Uj2Mg/Mt4APNx5UA35BVRl7Fxu3ssRUXD\n",
       "uldgAAADAFBBAAABk0GaT0nhClJlMCT/AB8/z2eCfZywmQH3KS829hteNl0JZAvKgYs+VIE+v7Fe\n",
       "O5bVwXkzaA7YfR3Rs5ajzweWiL/O8UHtmHj6oj0X2BQrRN95XmWb86qIUOjy+ZCxwkQJR6Q15eje\n",
       "jKseuzB1H8GOEsr2T6LWRQZ85dk/s7eAyKezysCgJQOSNSHecmU5yYxQXn03fYXOEzB9Bkq/ieId\n",
       "kBt6w1PFswBkBwqdscm9qgN0lKRuVqIApY097b8JYQnjVAgBDOsigwRkjEBiUjsVXnYHVLGyB5wV\n",
       "yHMxnnpic3IccqEtE7BQnxjyS47CUBmYSibO09NurJJdrqmqpn1cos2IPAm6IslaWNy8mL+5lND+\n",
       "bAPNgMjN06bAkCTIMe8Bosw0iUiL8RBZ9uUaEEhzmntFxZ+gPA7tH8Yy7oaF3st+Sb68Iw70s/lH\n",
       "nPlROPoOEDnMClJ/pg6eQgzAkjU0rBo5q5tSXTzopKTjX5pOO8ysysYRQwqvh1Ritce9WOcTyT5G\n",
       "5UEdduD4uUAArK7T9gAABJ0AAAF5QZpwSeEOiZTAk/8AHdcR9hDql5ajFUmyEKKJinuQAucVq7Fi\n",
       "Ec9kBdzQVapKVy+xZ1ttIGVY62Z1eFSPxGOIjzUbv6mjPMyhtx98WG2/86LwFf1fJa5irfchFN9e\n",
       "1Kpkv8HRS1VJgPFKEGxrKZomS7MtVRzicpMvoyzv8mIXFnY6FPm4Fg6mLMvuWfg86nuXBck5Fzqe\n",
       "UPaUurQUdcqLkbaiafm6Qy11X2c1iKwyhHc+nk40Dy2ZJtLF+qJVhywctItWHK2VHq3+wTx5ZrZN\n",
       "CpnvnfQ7Ckl40FK3p0sGjwh4wxCNYilVVqrtzam5YSb/s67piQ+0tbkOIPaA5Zn0enAfgWoEvEhD\n",
       "wXl/pmhO53jcriRqnL4L6f73oe/QdRfRKEq9P8U9JE5u1D2bwnVbfDpoP3ZqLxEqFDBVZg3xdA7b\n",
       "sYD2zIQfr37gAA5BU+yYPSKORtAKWE84dn9L5qXj/49vtJVoVI2p1ud4oUb9Cq4EYQ8BOBgABdwA\n",
       "AABBQZqTSeEPJlMCTwAd10TrxwedM9wq1w/IfsKfyhqU2GA9GwIrcrgzYxcNT+17EoygmxT1nThh\n",
       "RBDXwXZmlu0AAQ8AAAAsQZ6xRRE8Kf89DQl0A7UZon4gwvemyt7sbh+lOiHN6JleHg1JpVAAAAMA\n",
       "yoEAAAAVAZ7SakLfHDGg9auaQlPKFEAAABJwAAAAP0Ga1EmoQWiZTAk/AB3osuMGZln1WFbATz6c\n",
       "cVLETS2qsHCRojnntv+lk+odhFE3QN9iuvIesweTv7H5iAAHHAAAAZ9BmvVJ4QpSZTAk/wAAID/s\n",
       "J8kuneRtjXEoBVMeVR6df5hw0c3P/AosDlecEzfnu6+1xn2dCRfJYJXnmhj/pWpo9W/OhsMqjfO9\n",
       "21+b9/HHYsxpoMowrXH+I5w3W+NepQBiS0IlqzFlb6dSNsk/9KL94FX215zcFIMNGmBuwVlqEt8h\n",
       "frHNbTPmyyKOfGo1TW2+IMZtRcQtniCk0OBP4/mPomkZq4UsjHFDQj0GhYA9d/wu1Ms3dMBOzInM\n",
       "VZDWomJ2OwKOSLIbgfxMLTnDtiA/pylen2nfj4kenHub3CzrKf1+vYcOnUQHn7dZTi1OsQIb1TRO\n",
       "bLKxQ2rfz44pzYDtZ0sm44K4z9n4+yEPUO1aiD6AOyc2IP9k/poSxRv0IlOddJpzcORp0WtO3jCX\n",
       "Wsd0wyEYa6wRi4qkvCq4by39lAc7JOTyslF4l3j1/Hc9Z972c8KZ8T8Xbtkrwn3rEQkIKs/hyyNh\n",
       "q5pzCk50C27GYcNcLRBbh5R7FfCuD2fLI9/Dbjcbh3vFy4US7HSkL5KOcPYqHlMEx1Ye4JBrAB1R\n",
       "AAABlEGbFknhDomUwJP/AAADADqf5TouWjloVs0A5fELJ2TsiWv3RxXvvbv4wQm57KOjirOT3t7m\n",
       "Te4rVjmsG5tUtIWFXXifWV3SBo/SG6A3Na1QRNwRuwE/jXqFgjSeYb+6n0ZbxUgsR/Hm0/RDyXtQ\n",
       "DQ2ynVaO+G9S/gTTeAq2K0G/exbw/X0JSEiE87SbMh7UuLFIX+nzLzaWs9DgF/Ecp04doNUitCsT\n",
       "wx0jtLG7HXYsOA0PV0SOSm0VrS3THtOvGD3bYj//vGLLUF2E1tap1FE3dYeUyZ7Gg/T0pKCMoHmL\n",
       "n9BW9uFdEWAZ3NFFOFjyRy/v2IcEhbvPkRNgfobAesO5jv/ZxJI/JRyabeFaK4RiGKkWaQP4guw9\n",
       "jBs4z7MsJIntOn80XlP0G9pk28F283wAJXowJhwCQo/5RQkXTE7CPpIosPAvkNPmTJTqSEbLpjP/\n",
       "P2Cv3ZPBCgEkemER12fU/1M43Q0rKRy1K4ky8UJ1G2hwf7bNNQsHuERd1F8YC9bh18rKlJztqhwA\n",
       "FqXG6AOPGI1IAAABikGbN0nhDyZTAm8AAAMAAN3+ht2EHl/Hg5kGfETxGqgI2pXQwn/yEY5cquwG\n",
       "cSZt7EkvnZR7HCkhEaYZkeD6+7J11QCkdbZURAkARNx/W3baJqBjWiL/m4ALAUKcIYQsUkTNQTTz\n",
       "l8xhbOLOW1tkMvRuw3ch/ODDboYRRMff0IvRQkZPPVvVd57eGsfH7eOybIe+m5vXzadRBjFSYjCP\n",
       "eKe5ww1V4aHfwUkaxRu8Bbfn7j6VgLznb4lmH5EyRJYFsZYjxVtHAjUOpkhO0/ayHUPvXvnHOBt8\n",
       "cwGAIbB5PDwELsIpvirxSYdy1ynJallBn8MawRUCVZPppyR1C8t3nYFjp30laBClRY1Cpq/l0IQ6\n",
       "rc3HkK7TzBZBYfpT4IKUutKsmtqWqUa7IEGFzCCCtfa/pBKnhwLAwKxWxlRFjt57c8Z5BFbRm5vE\n",
       "9P1UJ3m/CXj5WiFxPRE+kDcwxbvtDQ0c1Ew4Svi0ZOYITv1Pwqyy8N5eL8yNhxjorXHtVm7BbS6+\n",
       "Q05HLbg9uJ0AAAF3QZtaSeEPJlMCbwAAAwAAAwC2frkcML921Wh3H4lBl9m7nsp+0FUN/0ULB0Kx\n",
       "q7Ihra12MzKLvbbF7SHXD3m6/UWPFrBMaYtH3DsS6r248p7DcTyu/a5jS42pytjy/TWLrZVIJ8w+\n",
       "LYK4v2zLVORjXsHbETYPRjMNg9+utXyRDoGyE3VSWPDs+yKSLcJL5eQ0ZHmHqyC6GIxClQdgab/R\n",
       "dwkTdlsx3ApVDHXZLrEPNseHvJKMIh30OqLc2RLsETimCQzcAwlIpgY3d5FABAZ1uQIn/9cxoTn7\n",
       "QNj5bAFMnirwOMKgL0SQNUCYURTGM6WOJ2uJ7ZFmoMAQhzXNd7+gY5M0WWTBwXdFHUEr4HpWQbp4\n",
       "148+BfJthSRr0UUeaFg5WxjziM7YfEzWkmstFM7osEKuEJQo4HAo7hQmpqlrF8C/POgzPw2dzYAd\n",
       "JkWBxbvEf4tBNmSGAgxy4TuqYnDuuZNgYqDgcoV5dR32mE54lo3jrgN65bphAAAANUGfeEURPCn/\n",
       "LNGypAyqsAAANVW0sAg210SHOJU45IQP8l5g84+Nvf/Et+2O8MfYpbIXnJeAAAAAHQGfmWpC3wAA\n",
       "AwABFGS6jZv3xo7VRHQiU63o/kXBAAAAPUGbnEmoQWiZTBTxHwAAAwAAAwFXNDVWRzANa/16hilM\n",
       "TYHw8Gnwneo2sxH/6KJYfKPNozNBw5Arjy42wkMAAAAgAZ+7akLfLpEm1XSAAABoMw8Coau6uTc+\n",
       "eNJ4mRVeqscAAAA2QZu/SeEKUmUwIj8AAAMAAAMBWv1v+aL6ErBbH8yDkY4mUWgGA3JmDBW665xf\n",
       "stVzOVFxklunAAAAKkGf3UU0TCn/LNGym4QgAAAP2QxpMLfwtKTgMQjMA0YoH+8QL+wo2DfJIAAA\n",
       "ABYBn/5qQt8AAAMAARSk0swNZNBZ1P2JAAAAN0Gb4EmoQWiZTAivAAADAAADAvgeurPq2LxpOPB8\n",
       "tIlNvnYvHK864MBIffedt3je16O5lceW6YEAAAAzQZoBSeEKUmUwIr8AAAMAAAMC//GNSqC8gXP6\n",
       "OSB2M8Lka+RGAwB7c7iZpOPBz/l+dRN/AAABj0GaIknhDomUwIr/AAADAAADApH0mME4BzZvkxdc\n",
       "zu9Q2GtIcUwwVzaDDpHViCc6IgIsYtQ53zqUwZjTgWug0n1hAu86tAjP0G4Ey8ANoBQaaaly73u9\n",
       "NywZpYM4F3TCO8KPzaOB6jof7Pmx8dZGW0MHEGGBepYHOkRV9pdVWi4gla4v8XfBjGOsqzejAcRK\n",
       "/miFupmFv1iHWidkI4Kh5nh4+Tfk3btZcfIPThyCnfGD3yS/+wPqi/L4t8tYG/+/rQBt350e0PMQ\n",
       "+E+EzNbhLIAqK4rwB/NB3w3m1zgQAAZU6S0gsEbNFkVX9lxhxNxst/r9OdAhZY7GfOiFZUrAM8VX\n",
       "A7VASpKVrlZqzGyBm0MHYCL2T7QbnXAJUhpTq0WA+viiYl2SZRQ+v+p6tVi6EX4Rf5DN4+x1k2ED\n",
       "Vcma/21adyFVS1CBlM7jqHmbHsF5QcHiU/ymmRkpsaFOEBd8Pk7LkbK8J7CQxKC0zFl5tm/YTtXP\n",
       "8xF5QDPaXZhKAtCAg6Bnc/Ry+838CMoj84mZQQAAAaZBmkNJ4Q8mUwIz/wAAAwADk77Q2K53sOs8\n",
       "bn49gCv8uMSuQv8m367cjbX7lkepHCNVwizGoba8Q5j65OvJZU4ktr07gdCZmMXWw3HrCJdaP8SR\n",
       "IU5B9kxfOm4IAHASCxVt39dcFWvyvcUhi87UuBTIFztmkSjoMIA6DFPmqAdde0wLDQSq6u9KMYt9\n",
       "5XoxnYchBq57mwNsPGLkxiUCBm1j3cYkOducGM7piw4cbpGItJMIcdEkO/bMDeU6USjT2vqypy6F\n",
       "P4eGJsmCncDXcSuec+5iVkeqlP517cAnud3rlTycxYoRa3d502CCdV1JSjUzEkkmiQdXAEjI8mUF\n",
       "mdYRZHXfWISupspNrPltnROJ2OqrWiwZJYloPqiK4mFFDo8qIOZ6+vg4G9uRtzpKy0SwN0+cb7p/\n",
       "aRI2OQYxQgsJ8JFgAJ9O98EIL3KrtSAZyDlMBBbjSEh2QZdmWzVY2UPFCOrNzCFhxW8vpzxX8bD3\n",
       "+L/YqYzyFm55xCRQi2ftVFtLw4Ursx4T2qLvxnwA0qqt3SLJj5fZXApuzsMBBISmbRAL0IYiYAAA\n",
       "AZ9BmmVJ4Q8mUwURPHcAAAMABmiSbDX6Li/ssnutp05VbSie+UJg7UgZiGwcG4QV/OO6DiMOeMkk\n",
       "/+pVf0w+Gk5UKo9CW6TgLAj60TjGL3XjVMF6M7DjpKo/OAeZxS7IE+z0WzSaKsJsT5arrj+0aQBS\n",
       "XRcT4hhvHyHGdznx0w0iy4H0Wamyyc2Gnw+lMCGj4q3fsqloOh7bU8lzdSkuwDXLTzBhocHoJWV8\n",
       "BMy/qdrc+nf2XP/TH2wik/q1es7WyBCTavVHOk8WQc+LJUw4Ps6S2gxe9l76cJsUpco1py8vdbbH\n",
       "tUA4YYOTcj+BVOZ1+p0WhXo5bAASQ3uLpMOApAbXiCOMzA9gKP9OGqjuxOlCBnA8BIBIe76/nzjz\n",
       "VJlQW0d1zHFMwGNLtz3moWMrw/khgpmwwcLEgAy1TEWY32+CIdvPw7I6epSJTtHSXqVU4oq62QVl\n",
       "dwblUzgT3CIovrnn4O6dMJqe2jP8g5EfbEKjVWUlMRJsP7n9pyb873r9h9vJIgwqOG5lkOz4R1Qy\n",
       "R+hve8oGw907jmv5khB02MGBAAAALAGehGpC3y4VLdS0PgAANBdCm2Xz3b1QKKu4CA2HzXAN8ezE\n",
       "r9ke6krsj9r/AAABjkGah0nhDyZTBTwl/wAAAwAM0yTtSplT13xzttYADMAZmLylw6PSuhuqq4JJ\n",
       "/zQGf8ZY+AU54XOWMlJd6vt2jXDzKVbusaN2JShe3wEB7gnT+izrf9ywQu9UdQXUGUOPHyBhVUBd\n",
       "WVJq/F2+I/JsuHcGrKCm6EGqrwNrXEyJm2nzvrSF+/y99l+Uxj8mYwAZyFNyyTQch7pFhNAGuKBx\n",
       "FasxPba0NyUgKgckENAgZ+UIaUFLOGbT/lU/n5g9H8r4DXXbmV1s+orF6rJ8fTVmtzKNcthcG2vT\n",
       "J22T/3pFOJX8zQ1MaM5ynV1EZfBQmUnUNoK/WuBu4es1NbGH6KwpSMihJ9EQHaTDKCIxbkMvMHBi\n",
       "l4peUaHNZbyyrIN1LBDQy7NbfmDknSt/z1+s1ey2EsYhv4cJNLL1VD/gGxrtg6pOobeZAXi+u6Dj\n",
       "Bm1J3Enqwe64eR2mqn8NqigGh5YyX/TF4BWuOrHL59qXk01vqCT9Z/I5rbKewTaVAghV9J6H7poO\n",
       "gRsFFibzeQ9xL3WhAAAANQGepmpC3y4VLdS0PgAALWq3kM66zmdE77gjUuNxz7FNnqXxZLABPxYj\n",
       "n2jEwoAbnWxrX6EhAAABb0GaqEnhDyZTAhb/AAADAAAj3ODrpJTp0z4fWswSR9U32I3UavdEF02Y\n",
       "onbzLu5Gcv0tZXRNmXkNXYucVz9qnm7QDG1Y/yG6EOdS10WMuJ5mCDuuUwZyCFbFNjUSHx8YR9Md\n",
       "k1tnIPOKfpYpxNgEC+GJQPrifYO+NFITSeZ/drO8xj6Wp5t91aqryXVtrNAVUKGu7tREn+JRTNYW\n",
       "C7PKw9/LgIyHWZKQ1gf/Ffxjs9/2poQtVEZK0dq405ly8nbs1BZ919On/wIWwcse8ADIabbpIWQQ\n",
       "7tfvbY4p1KrnOTMxhdNvg09mL/+0Bb4Zw37v3kfQWpE0v4xi2MEZcP1b0M/OuQOgRDIaaXYCcof/\n",
       "QZxrOscm2Y1wMk1wdvAr5psEj6Tjz8cF+wihkUc3pLriiz8wmrd8VjjpvOS2/2G0vVcDaYltoid+\n",
       "8pMadId0TuFbnzy4dI3/mR+gjm2O6M9MTAw6DR+eZSxEHP0hRZtTWYAAAAdnbW9vdgAAAGxtdmhk\n",
       "AAAAAAAAAAAAAAAAAAAD6AAAFIIAAQAAAQAAAAAAAAAAAAAAAAEAAAAAAAAAAAAAAAAAAAABAAAA\n",
       "AAAAAAAAAAAAAABAAAAAAAAAAAAAAAAAAAAAAAAAAAAAAAAAAAAAAAAAAgAABpJ0cmFrAAAAXHRr\n",
       "aGQAAAADAAAAAAAAAAAAAAABAAAAAAAAFIIAAAAAAAAAAAAAAAAAAAAAAAEAAAAAAAAAAAAAAAAA\n",
       "AAABAAAAAAAAAAAAAAAAAABAAAAAAfQAAAH0AAAAAAAkZWR0cwAAABxlbHN0AAAAAAAAAAEAABSC\n",
       "AAAEAAABAAAAAAYKbWRpYQAAACBtZGhkAAAAAAAAAAAAAAAAAAAoAAAA0gBVxAAAAAAALWhkbHIA\n",
       "AAAAAAAAAHZpZGUAAAAAAAAAAAAAAABWaWRlb0hhbmRsZXIAAAAFtW1pbmYAAAAUdm1oZAAAAAEA\n",
       "AAAAAAAAAAAAACRkaW5mAAAAHGRyZWYAAAAAAAAAAQAAAAx1cmwgAAAAAQAABXVzdGJsAAAAuXN0\n",
       "c2QAAAAAAAAAAQAAAKlhdmMxAAAAAAAAAAEAAAAAAAAAAAAAAAAAAAAAAfQB9ABIAAAASAAAAAAA\n",
       "AAABAAAAAAAAAAAAAAAAAAAAAAAAAAAAAAAAAAAAAAAAAAAAGP//AAAAN2F2Y0MBZAAe/+EAGmdk\n",
       "AB6s2UCAEHnnhAAAAwAEAAADAKA8WLZYAQAGaOvjyyLA/fj4AAAAABx1dWlka2hA8l8kT8W6OaUb\n",
       "zwMj8wAAAAAAAAAYc3R0cwAAAAAAAAABAAAAaQAAAgAAAAAUc3RzcwAAAAAAAAABAAAAAQAAAqBj\n",
       "dHRzAAAAAAAAAFIAAAAFAAAEAAAAAAEAAAoAAAAAAQAABAAAAAABAAAAAAAAAAEAAAIAAAAAAgAA\n",
       "BAAAAAABAAAKAAAAAAEAAAQAAAAAAQAAAAAAAAABAAACAAAAAAEAAAQAAAAAAQAABgAAAAABAAAC\n",
       "AAAAAAEAAAYAAAAAAQAAAgAAAAABAAAKAAAAAAEAAAQAAAAAAQAAAAAAAAABAAACAAAAAAEAAAQA\n",
       "AAAAAQAACAAAAAACAAACAAAAAAEAAAQAAAAAAQAACgAAAAABAAAEAAAAAAEAAAAAAAAAAQAAAgAA\n",
       "AAABAAAKAAAAAAEAAAQAAAAAAQAAAAAAAAABAAACAAAAAAEAAAYAAAAAAQAAAgAAAAABAAAEAAAA\n",
       "AAEAAAgAAAAAAgAAAgAAAAABAAAEAAAAAAEAAAgAAAAAAgAAAgAAAAABAAAGAAAAAAEAAAIAAAAA\n",
       "AQAABgAAAAABAAACAAAAAAEAAAYAAAAAAQAAAgAAAAABAAAKAAAAAAEAAAQAAAAAAQAAAAAAAAAB\n",
       "AAACAAAAAAEAAAgAAAAAAgAAAgAAAAABAAAEAAAAAAEAAAgAAAAAAgAAAgAAAAABAAAIAAAAAAIA\n",
       "AAIAAAAAAQAABgAAAAABAAACAAAAAAEAAAgAAAAAAgAAAgAAAAABAAAGAAAAAAEAAAIAAAAAAQAA\n",
       "CAAAAAACAAACAAAAAAEAAAYAAAAAAQAAAgAAAAACAAAEAAAAAAEAAAgAAAAAAgAAAgAAAAAEAAAE\n",
       "AAAAAAEAAAgAAAAAAgAAAgAAAAABAAAGAAAAAAEAAAIAAAAAAQAACAAAAAACAAACAAAAAAQAAAQA\n",
       "AAAAAQAABgAAAAABAAACAAAAAAEAAAYAAAAAAQAAAgAAAAABAAAEAAAAABxzdHNjAAAAAAAAAAEA\n",
       "AAABAAAAaQAAAAEAAAG4c3RzegAAAAAAAAAAAAAAaQAAB+sAAAGZAAAAWQAAAYMAAAA3AAAARgAA\n",
       "AEgAAAAjAAAAHAAAAaMAAABFAAABlQAAAEwAAAApAAAAIQAAADsAAAGlAAAAKQAAAaUAAAAnAAAB\n",
       "kAAAAEAAAAAmAAAAHAAAAEcAAAGiAAAAKgAAABkAAAGLAAACFwAAACoAAAAkAAAAGwAAAEYAAAAm\n",
       "AAAAHAAAACUAAAA7AAAAIgAAAY8AAAGFAAAALwAAACAAAABAAAABmQAAADgAAAAnAAAAOQAAACYA\n",
       "AAGVAAAALAAAADoAAAAgAAABgAAAADsAAAAhAAAAHgAAAZwAAAA7AAAAIAAAAD0AAAGMAAAAMAAA\n",
       "ACAAAAA+AAAAKwAAABYAAABBAAAAJQAAAZkAAAA4AAAAKQAAADoAAAAnAAABlgAAADYAAAAiAAAB\n",
       "fQAAADQAAAGXAAABfQAAAEUAAAAwAAAAGQAAAEMAAAGjAAABmAAAAY4AAAF7AAAAOQAAACEAAABB\n",
       "AAAAJAAAADoAAAAuAAAAGgAAADsAAAA3AAABkwAAAaoAAAGjAAAAMAAAAZIAAAA5AAABcwAAABRz\n",
       "dGNvAAAAAAAAAAEAAAAwAAAAYXVkdGEAAABZbWV0YQAAAAAAAAAhaGRscgAAAAAAAAAAbWRpcmFw\n",
       "cGwAAAAAAAAAAAAAAAAsaWxzdAAAACSpdG9vAAAAHGRhdGEAAAABAAAAAExhdmY2MS4xLjEwMA==\n",
       "\">\n",
       "  Your browser does not support the video tag.\n",
       "</video>"
      ],
      "text/plain": [
       "<IPython.core.display.HTML object>"
      ]
     },
     "execution_count": 10,
     "metadata": {},
     "output_type": "execute_result"
    }
   ],
   "source": [
    "test_agent(env, policy, episodes=1)"
   ]
  },
  {
   "cell_type": "markdown",
   "id": "000d0ca1-a9a3-4b91-9363-dc417ff3e3b6",
   "metadata": {},
   "source": [
    "### Plot the policy"
   ]
  },
  {
   "cell_type": "code",
   "execution_count": 20,
   "id": "89a8fe04-4ec7-4053-8cda-f0f43e152d0b",
   "metadata": {},
   "outputs": [
    {
     "data": {
      "text/plain": [
       "array([[[1., 0., 0., 0.],\n",
       "        [1., 0., 0., 0.],\n",
       "        [1., 0., 0., 0.],\n",
       "        [1., 0., 0., 0.],\n",
       "        [1., 0., 0., 0.]],\n",
       "\n",
       "       [[0., 1., 0., 0.],\n",
       "        [0., 1., 0., 0.],\n",
       "        [1., 0., 0., 0.],\n",
       "        [0., 1., 0., 0.],\n",
       "        [0., 1., 0., 0.]],\n",
       "\n",
       "       [[0., 1., 0., 0.],\n",
       "        [0., 1., 0., 0.],\n",
       "        [0., 1., 0., 0.],\n",
       "        [0., 1., 0., 0.],\n",
       "        [0., 1., 0., 0.]],\n",
       "\n",
       "       [[0., 1., 0., 0.],\n",
       "        [0., 1., 0., 0.],\n",
       "        [1., 0., 0., 0.],\n",
       "        [1., 0., 0., 0.],\n",
       "        [1., 0., 0., 0.]],\n",
       "\n",
       "       [[0., 1., 0., 0.],\n",
       "        [1., 0., 0., 0.],\n",
       "        [0., 1., 0., 0.],\n",
       "        [0., 1., 0., 0.],\n",
       "        [0., 1., 0., 0.]]])"
      ]
     },
     "execution_count": 20,
     "metadata": {},
     "output_type": "execute_result"
    }
   ],
   "source": [
    "policy_probs"
   ]
  },
  {
   "cell_type": "code",
   "execution_count": 48,
   "id": "38b24bf2-dc8c-435e-b78e-64262b98fd7d",
   "metadata": {},
   "outputs": [
    {
     "data": {
      "image/png": "[encoded data removed]",
      "text/plain": [
       "<Figure size 800x400 with 2 Axes>"
      ]
     },
     "metadata": {},
     "output_type": "display_data"
    }
   ],
   "source": [
    "plot_policy(policy_probs, frame)"
   ]
  },
  {
   "cell_type": "markdown",
   "id": "d66cb44a-096c-4f02-8317-bc80ee8d4ca6",
   "metadata": {},
   "source": [
    "# Define value table"
   ]
  },
  {
   "cell_type": "markdown",
   "id": "faa518b0-e143-4f98-af1c-dd80d74b5819",
   "metadata": {},
   "source": [
    "### Create the V(s) table"
   ]
  },
  {
   "cell_type": "code",
   "execution_count": 44,
   "id": "ded4c57d-7ad4-42e5-a475-07ad06d15d99",
   "metadata": {},
   "outputs": [],
   "source": [
    "state_values = np.zeros(shape=(5, 5))"
   ]
  },
  {
   "cell_type": "markdown",
   "id": "ac40126b-062e-480e-93d0-a048897903d0",
   "metadata": {},
   "source": [
    "### Plot V(s)"
   ]
  },
  {
   "cell_type": "code",
   "execution_count": 47,
   "id": "99a3a948-cc12-4a39-88f9-a81a977ea6b0",
   "metadata": {},
   "outputs": [
    {
     "data": {
      "image/png": "[encoded data removed]",
      "text/plain": [
       "<Figure size 1000x400 with 3 Axes>"
      ]
     },
     "metadata": {},
     "output_type": "display_data"
    }
   ],
   "source": [
    "plot_values(state_values, frame)"
   ]
  },
  {
   "cell_type": "markdown",
   "id": "7b87e94b-1b43-4504-a2a8-6cd090d8f01a",
   "metadata": {},
   "source": [
    "### Implement the Value Iteration algorithm"
   ]
  },
  {
   "cell_type": "code",
   "execution_count": 49,
   "id": "05a4157f-2802-4e94-8307-27aa11de0cf0",
   "metadata": {},
   "outputs": [],
   "source": [
    "def value_iteration(policy_probs, state_values, theta=1e-6, gamma=0.99):\n",
    "    delta = float(\"inf\")\n",
    "\n",
    "    while delta > theta:\n",
    "        delta = 0\n",
    "        for row in range(5):\n",
    "            for col in range(5):\n",
    "                old_value = state_values[(row, col)]\n",
    "                action_probs = None\n",
    "                max_qsa = float(\"-inf\")\n",
    "\n",
    "                for action in range(4):\n",
    "                    next_state, reward, _, _ = env.simulate_step((row, col), action)\n",
    "                    qsa = reward + gamma * state_values[next_state]\n",
    "\n",
    "                    if qsa > max_qsa:\n",
    "                        max_qsa = qsa\n",
    "                        action_probs = np.zeros(4)\n",
    "                        action_probs[action] = 1.\n",
    "\n",
    "                state_values[(row, col)] = max_qsa\n",
    "                policy_probs[(row, col)] = action_probs\n",
    "\n",
    "                delta = max(delta, abs(max_qsa - old_value))"
   ]
  },
  {
   "cell_type": "code",
   "execution_count": 50,
   "id": "c3142c4b-06b1-4adc-96d9-d03e84d8df69",
   "metadata": {},
   "outputs": [],
   "source": [
    "value_iteration(policy_probs, state_values)"
   ]
  },
  {
   "cell_type": "markdown",
   "id": "06b2f859-f0d5-4a10-87e9-ab990fb1deb0",
   "metadata": {},
   "source": [
    "# Show results"
   ]
  },
  {
   "cell_type": "markdown",
   "id": "307aac66-6fbb-4260-9b18-b3500aaaaa39",
   "metadata": {},
   "source": [
    "### Show resuling value table V(s)"
   ]
  },
  {
   "cell_type": "code",
   "execution_count": 51,
   "id": "1e5ef744-10ef-4fd9-ba4c-a1681ae9ddd0",
   "metadata": {},
   "outputs": [
    {
     "data": {
      "image/png": "[encoded data removed]",
      "text/plain": [
       "<Figure size 1000x400 with 3 Axes>"
      ]
     },
     "metadata": {},
     "output_type": "display_data"
    }
   ],
   "source": [
    "plot_values(state_values, frame)"
   ]
  },
  {
   "cell_type": "markdown",
   "id": "ac3f0baf-802d-4e5c-ae48-31d95ed706bc",
   "metadata": {},
   "source": [
    "### Show resulting policy"
   ]
  },
  {
   "cell_type": "code",
   "execution_count": 52,
   "id": "27bd5a44-9f39-4a7a-b8ad-150ea5407d9c",
   "metadata": {},
   "outputs": [
    {
     "data": {
      "image/png": "[encoded data removed]",
      "text/plain": [
       "<Figure size 800x400 with 2 Axes>"
      ]
     },
     "metadata": {},
     "output_type": "display_data"
    }
   ],
   "source": [
    "plot_policy(policy_probs, frame)"
   ]
  },
  {
   "cell_type": "markdown",
   "id": "41f33d6e-e0cd-4e26-b84e-67327904fa59",
   "metadata": {},
   "source": [
    "### Test the result agent"
   ]
  },
  {
   "cell_type": "code",
   "execution_count": 23,
   "id": "011f409e-71a8-48bd-89bb-95f07ec8223c",
   "metadata": {},
   "outputs": [
    {
     "data": {
      "text/html": [
       "<video width=\"500\" height=\"500\" controls autoplay>\n",
       "  <source type=\"video/mp4\" src=\"data:video/mp4;base64,AAAAIGZ0eXBNNFYgAAACAE00ViBpc29taXNvMmF2YzEAAAAIZnJlZQAAF7ltZGF0AAACrwYF//+r\n",
       "3EXpvebZSLeWLNgg2SPu73gyNjQgLSBjb3JlIDE2NCByMzEwOCAzMWUxOWY5IC0gSC4yNjQvTVBF\n",
       "Ry00IEFWQyBjb2RlYyAtIENvcHlsZWZ0IDIwMDMtMjAyMyAtIGh0dHA6Ly93d3cudmlkZW9sYW4u\n",
       "b3JnL3gyNjQuaHRtbCAtIG9wdGlvbnM6IGNhYmFjPTEgcmVmPTMgZGVibG9jaz0xOjA6MCBhbmFs\n",
       "eXNlPTB4MzoweDExMyBtZT1oZXggc3VibWU9NyBwc3k9MSBwc3lfcmQ9MS4wMDowLjAwIG1peGVk\n",
       "X3JlZj0xIG1lX3JhbmdlPTE2IGNocm9tYV9tZT0xIHRyZWxsaXM9MSA4eDhkY3Q9MSBjcW09MCBk\n",
       "ZWFkem9uZT0yMSwxMSBmYXN0X3Bza2lwPTEgY2hyb21hX3FwX29mZnNldD0tMiB0aHJlYWRzPTE1\n",
       "IGxvb2thaGVhZF90aHJlYWRzPTIgc2xpY2VkX3RocmVhZHM9MCBucj0wIGRlY2ltYXRlPTEgaW50\n",
       "ZXJsYWNlZD0wIGJsdXJheV9jb21wYXQ9MCBjb25zdHJhaW5lZF9pbnRyYT0wIGJmcmFtZXM9MyBi\n",
       "X3B5cmFtaWQ9MiBiX2FkYXB0PTEgYl9iaWFzPTAgZGlyZWN0PTEgd2VpZ2h0Yj0xIG9wZW5fZ29w\n",
       "PTAgd2VpZ2h0cD0yIGtleWludD0yNTAga2V5aW50X21pbj0yMCBzY2VuZWN1dD00MCBpbnRyYV9y\n",
       "ZWZyZXNoPTAgcmNfbG9va2FoZWFkPTQwIHJjPWNyZiBtYnRyZWU9MSBjcmY9MjMuMCBxY29tcD0w\n",
       "LjYwIHFwbWluPTAgcXBtYXg9NjkgcXBzdGVwPTQgaXBfcmF0aW89MS40MCBhcT0xOjEuMDAAgAAA\n",
       "BNpliIQAR9rjniWskwar7DY/MVm/rKZEegWky/OmzoY32g2U4tLCFIz5pftRAAADAAADAFenxNS7\n",
       "dy1yYfadMckxwS1WKxYIHlbIOt5fMeFOTL7iY+RRdtUXCGLypixpnf2f8bINgGjQtHVfEaP9q8Wd\n",
       "P3cPw2lS2p5L2f8Glxrvh1pOp9klRvTt2E0Zc0Uhhc5x5L25zHnv7ezntuhWsG53OwbNX7QZtyH8\n",
       "PPxPqp/0AGOfnfi/iVOcylSaABukyPvjl4cQVax9bD+gR6TQqziDu29iKpCOMkbgreJPGwex/j2F\n",
       "kIJngNgBisJlrxF2G5AfJ05o3PhH2QNJyBAIz7s1dI1V/JoS6yr0BsoMDiIwzBJ8XThrK6QABsib\n",
       "ZnmwJbD31eX8Y4rXHYvi1gZHvneYx23IGWJ4gt7aNfjAHdlIA8ErS0VH0Orqwk21GQkh1qFkkaD5\n",
       "pOAAPLslWNsViqyk1ziMNxTV6ooeLwP0QH//qXbwm607cyfi0X9w0jHHxcz6nujLKXspUtEGSb8M\n",
       "Q3/gth+TQrNug3yPfdS1BwsL9jQK/VE7cNOA58E0pV3QoGp63fBQKdQjjiVjIkuaQJCma1N8Iibu\n",
       "o9p7EkgAImvFLXkSsZ2Egme5wSwYofGrpXWuEh/3OQIEsGW8wWrHH8LlaXOvwEA7X5fRuK1Mw52E\n",
       "3ElqUTb50t7zOVX5EeHKZZGvwClfVH0eoN2JNBueYR8m4UAxMpdDbEnvABUoQ31QIlTKFrZDxWx1\n",
       "ufTPvX7W9p1GDq148DJ3Yc+GLROKNx/qK/fcPtsNVW5NppC1ImVuRHu0iImc0zA8rAmeRBZ3MQ8i\n",
       "riMTEhoRO14nAWrC2EEt39kBKKNKJsvFM/YpMKOpBBfaADevvMkrJxSGC50e20sjwyaORfEiSOI7\n",
       "K521UrYOvqhyuregHQDKRZJK40+Li8N1A6Qld2RIJFNwStS6gJdLdCWGPhuJi3ZpdCy74ih9voJB\n",
       "8ybHfnvR0ZCJ0Nn4FCwof3NoeTXHVXyIe1ZyMnpeVd1gsfVmnb7EGUCBwNo/1hou7njfZ9ec18HR\n",
       "cBPdWxyAOlJtYIQ0DmBE/a51SD9Oj71Py5K1Dx+xDvu6nfDb34NKWkw1tnndY2sEuqz2lJ7XC6s/\n",
       "qN43xvxQzJj00OcCtJpOOVgC5A6F108KH442aLhiDXjZlHMfHoy+Yp4AAAMA5RvRuSIj3rrwFpwL\n",
       "XVyusVrJWTwB876DzmfJrppbFn64N0fr9YSgdu6O2i3GuES2iH8hEP2RImFnr7XTd4mC5GqSlJ4t\n",
       "SByuRh+excXGTGVQgcJtw1I7PxwQv/uQrT/VgHO+EEwiVgW7+LaANGBtEvZLQoeiZOG2Q0KHPEE3\n",
       "9jwS05FLN5KqvPp8EF/HZUhPOzsdt8+f3pnHNj19R0CnUHXnJmehSXsX2+9YNlIf0Tqko9Bh8LCD\n",
       "7CHLAY1+ZV5hK8s67wHnR5ZcmRBVCExUfkgLf+8XrX/L+i9RqXV3xyoAMngtGZe43omSTNaL5QD0\n",
       "M77C5Km7i1EO3L4CVUdhmW0mONCy4cKsKK1v63ZE64LS+Vs9i7XgOOSiAr98I6l11NDGnAVQ7uDx\n",
       "+NwJ3998Wq3YSmlMmL2T6awpDVHDZ7DAAAADAAUv1NABZEghDT8nbid9A2Cnv/EAAAHcQZohbER/\n",
       "AGSPdACBhhvkKm3RH5piZ/DQ+KeIYzohJ902+B+MW3OEArgfibmp3gbgIqCWxdw18wKQXbhTqdri\n",
       "Ac/GVYBAJEengTIdwo5lrzsCvtZgyj5A8R3VvqdybO2tUkIyM9hWRw6m3fqPEe+u0uuJo5DMihma\n",
       "rrO4uHg8aJkzgDnucvPBFef8v2tUiQdDuCWxcTFEHQISjfQRF+He8V8DmzCehMT+t9uP/WLTZ1Yi\n",
       "qhQcqLn/2ONavzu1O9auYCWpoVb+Ipr4mfldddUaYnl0ttH+PDH+tNmrPlGRd6+0yy6XxRh4LIu1\n",
       "ri8uQjEJUz00E97FjaIyAxgn1sx1VCsydIJBuWioXoIRcBOar6I+p6mHR3UMM8jk08HKNq7AnIea\n",
       "Q5OvdEMslxYutCWqWcY888vXYzoS6AlrDBGj8o/ojQsPNYEzolg4ZsQApZOVqeYb8YV06Muw2w2U\n",
       "naxoA6APLqhyprp4yA9e+gCl9YGQG5EIOnn81Tfk60dQR9c1nLHHYyeqJVilN3RNGhZqvUBLA4yo\n",
       "S6xDgi22SIlz9XG2onEIQnbAxmi3szScJdSIkC3KPHz8jkmQJGWP8tp/x9gIs2lP3MAwZ4o1G44B\n",
       "wJfPGpSrMO6FUzcKgSgAAAGdQZpCPCGTKYRXAAELu7ik1WcH1Kia4/TRA91+AEBkeHnRXan/zyuM\n",
       "p1yVG7rcY6slmlprjohmO6e9fY1wBvycRPsu6dzF/ed8GQBw0hsisew/9sKS5/rVBnSSBRnFK/LP\n",
       "g732ya8OzxK2k3+UQMHTba/0AHNnMObjPJMUoLGmGpKWdl/YDwJes0ANooya24QhxS4B/gUCeUDz\n",
       "sg8ybgLM9twKD9MZuhMDUM0LAHyryr7qo0TIUGCN+qPn0HSjweyPjh9XD0OkfTEHZcXei5aFhxV1\n",
       "awd8U9000Lf7psfVf/DXrbkrn+8LWnD3mnrrD/Fs65pzZe80oOBNT8D37TZi7HjM8FBikfbKv4HZ\n",
       "p2rUQ6f0k0aZmrAaz2HNW2fKZewZ87neXxro1jSMLExgTa1QWmWxcOeCWd97yKaBh/1a5MCVa+I9\n",
       "xk69+PiJQtO0JDE+oxHlOfF28DvM/7j+EK6mdzj/2iNyub108E/U303PIpvFojqsR2MuI1fZ72bo\n",
       "/L0qevFzjZUgen2i44reWkvORsVDxVRZTI7cC7lACbkAAAGWQZpjSeEPJlMCK/8ABWvpRL/jLumY\n",
       "H6t2jolZQ6sVIJd0OhB1oWg3wx9+wF7D4Nf5lS8hdC7lqtEvkL1pSDrNHpY9DnWCGGJl9P97m9fQ\n",
       "mSpFiwo8QeBG5VklL9N5Mpj1azAltXiFo4Blvk6FtC9NFMmgiB4rPlBc4VQqabEr7zVUYkRvCxdq\n",
       "r5X8S+3oq9XLRa4J8CjKQv38RGF41U0IOa/g3tstvy+q5X7UyMVavFYseOpWLDdzE7RVgWqJl9o8\n",
       "ZxUOfViQ3eapDZIYhYV3oLhgDfBaZQBmPae/tEhIx318JnP65sedO3+LUuhxNdaBHkTQ1G551adF\n",
       "KQHH3nS/2eApJom4R+YEGzPtYVQDt3IfDdAEcQgHco41yCEeutgeziHxA3D0oUqGc2ufXG0lTbtc\n",
       "au0mBUfKC/9akmH/CwVsO0B/EgTmsCT4y2OsJMHcvjaAficsElir0XVIWLPO1XkoPMEtL/XAlo+0\n",
       "5UGgFQQ5U5lbcqKUyE/J66tMmmOUUasQRo9UVMZqDt0Jp3vVVXUASuAiLgAAAYlBmoRJ4Q8mUwIr\n",
       "/wAA8/xmGRFLB2T3b3G8tcSdEfgz72bspZ2E1qtMujb/7KqIpRH7QtEePZg6BbaYtHDlkitKFSv4\n",
       "01Xk6bo6v2NFQ2bL+oFEDRlkq+XWAy8cstN2da1E0nGY9SKwxO1sdeSaoksJAKsSm4J3qYaxxASS\n",
       "3G4a56cEwVBOu0C9AiojcbXP5e6wcc8hQybjFD9J2j5j4XZGFM5rsQweqPBob+IGmBJKOFNN9Cpj\n",
       "kBARFjNqxTH6SeB6Fsb1RbQfHBq7S1PF4FklbXQ238AiuLrM1/6mwZRSwvv2Z4AFiNR24r0yaMFh\n",
       "3ZBzPiaPRwQHHwZRKbs3o6Pdd3EWJEjHmb0do84F08V0AK0VeYV4H818o5IGSl2c/bHeSvo692ua\n",
       "FrLEs02hnOvX4HiOLUv8CwMETmXGpX/8ii7kTF94iYUv7b/ZiLCpvu823umPSCru6WZERPavLCul\n",
       "p9YJWNzzpHmjGziZM/PYi0P/BFd0MZOK0zoQ2EQDLA6qySwkjOuwf0EAAAGBQZqlSeEPJlMCM/8A\n",
       "AV31GF/Q3+XaA4tW8vrwmm9/qrwf9JX4A6m4pXqWkZl+BEGNFxujuf6beJB1FEtRjHscLz+nOfpZ\n",
       "wRv8amt/f0yUc0bF3wbpGqp8SuQoc5IZfeddIMMhcqtBJwCkKVV4whJSBC8fYFwmnt2+LIAFDV75\n",
       "jGHBqeM0ANLTTDRWm7nETjePoRksnFfJgNZ/KeNa4N5Rfz8PIFVZID+SYhPcCxbZrgstJX2xT1Ru\n",
       "mxzA7Kw4xyEQjSjhyTFS20HXtwM3Vt/7z4+QADznhhfAVdQKvDpzgarT+4cDr4OBKdw9yiIXhSzH\n",
       "2SUInsIAVSbIaGWJA8X54c5DGWElfWI2CX4ugXFsWQ3BrLbW2UhH8YEo3R8z2abSsbRZT9p71gEy\n",
       "6tXeg/clOveCAL4Ja5/Mb8B4bcj1Z/EXXBxJO8+FoBlzDC7zwrAvtPvQv33vgOApB8uK/KumoyG4\n",
       "lPj5cUbm6DGNgvhXKSHqU9QAQC1btzeRKAGwAJO9IQAAAZdBmsZJ4Q8mUwIz/wABXfUYX9Df5doB\n",
       "kqvF8WM7UXyqW403MWbzQJH5L0Sqq9w6rDpTzit/RYwMYxahzyv015pitu7ANavolhDZ9ihc0jgw\n",
       "krtV/ASgzstmyHvd4m8e9ig4cXijQrjCAyWwPJuk/+fNkxDOH2RIOIKeC9Qe/mMsEhDKyzSsMWYY\n",
       "X+u+jiWhAggF5o90eD4G5mXsF7a+Ud7xABnhiPMcsjoj9jlh/twL5+XMuDu585uvCM/3B9UWzvGK\n",
       "Oy2hMtMeWpzzJyxsAbm0pn9WMn4+NRsyCQcYJvK8mllyuetdcwAI35NCLDDnAyLmMuQ9WY03Gy0E\n",
       "8rGJH0B2PaHa98wlNISqyfZWnDqJe3Z42Dlmla7AZpESVejPLQatFxpsEPVgb5I+E/OGTsJYiPjB\n",
       "9WzvYV9jaEP4RiQzqlMIQjfrQ8ZQY7v348ib24gkOpng9G4YSOTnfqu8Cn+U7OekIKhjNwBrGg7p\n",
       "tB8r4nspDEoLIVWR0c5zcUzTgJhfTqJ3u7g3xQdIzufr5fjgOBGUR+S+LwAAAapBmudJ4Q8mUwI7\n",
       "/wACXeyirE8irEqPZ+uwOjAf+mfvWiqe2C2XF5fd6GvilFPTVkw3iztlOX4LaaD1jLV0+PsEIucr\n",
       "fDsqcSW16drFTQ10A6nS3jN5upH+I3lux0U/k9ALaCjHsZEHfzsj90QdPtOnXn+j78VCr506jGH4\n",
       "GWgREE99NOD43SNNEemVs2J3UXHtMxd9aTxNjeEDbRH7y9SK5AEP5K+nL2rMQNNuQGMfsTEtwrcD\n",
       "U9CrkJU5grx+PldUDrpFx85NIAtH1e1z65hp7u673wtMG/692hw0zHD4o3xgwLkZXfd+3OiczUO1\n",
       "7u8hdAl8iLOdsjSkhBOg7sx48oKSdq8ckIa67LlW4aDi78sJh4JUPD4yu0zsuylQrCXElvBLKD0s\n",
       "KiUHCzkFFAPrkbe5AAkSwN1Cn6I+M8GESoh/6BIfhIeBJPqifg9s69M4tiGHIWYJ16738SiK1yM0\n",
       "OrOERQ8UJkcHgssFA3M87XQ7CNcTfvOUfRdfAM5X7YvIwayHxr6E95ioE5b3eq8kcA77sj39TZHx\n",
       "WxC9aTF0J8bQAAoQKMV/stEAAAGjQZsISeEPJlMCEP8AAzvic3nX9PYAbEm2Q/IJDLshXugPs1VD\n",
       "c8vzpT8XulCCsm+yMiw8nnsmLfqlt7T79GzIpJzIQS3TMBYEcVmFgii4WrXA3oz0XYQ6XwOTeNQr\n",
       "is93i4DdHwtIexflqGq47XZodRdFxTAmG7yafGSiaPKFGx7I+nsAPM0JHvvZp3e1a93C4/sqlYTb\n",
       "1awx3LjxX4Vdb0gzp+2uyWwj9PLdp1Jx+iTtXOFajXACuOXbgJ4LrV1HOB80BzqRB/IsgusLyIho\n",
       "fZwfvZEmGjINRJ0Xxcpsb/6xwM3VyQBoy8s8UjaAqnMzR06LQqkaooADsBjagGu0w7Z4UfHmodak\n",
       "Skj7l/WxK88r1M5ii46bF8BaadG1VuGgEDe9zZnlObzLJQUx2zShyzD7ZIZuHThOwAbor+HJGYQA\n",
       "pHOl9HYvT1KRKdo6LGptTimhrZBWV7am4qRrJKaGctGnnpPOQd0ncctR1Gf6ONk1z+NrIR6f0X/J\n",
       "lQuFdznzWWwIm2jtiJ/kWAavijdXgeZsZtcuJ+BsPcnYGj+WOqjwUEAAAAGUQZspSeEPJlMCEv8A\n",
       "BbOMbaqug48RLosf+4kGkpB/7RgSFUPuvUQucb8HFkA18m3W5sDDt+LdqfgtpfwfNCufrLn9ijBt\n",
       "dniQg5atNxXarM8LS10aCRXnQmHaZIqfgowGbQiZKzc8Y7A9r59Q+qokiRFdn61D41NJg0pmanLN\n",
       "h9bhBfQkC0oq0TueHeoQnbSQcuYEfbsALLm9ZEtgNyf53DOulINTEAApelSVxo73QRUG5I8H4Jxw\n",
       "k5dFSDABdxaPNQZ7qvfWjaqrAwRZaIqvNbbbei3vRJQ45zZ4zevb5AJR2ZOuX6k6KhIjLtswAe5S\n",
       "WefRZOdh4XqnQIJh+PlC9aXH07pYa/11qvcwnL8GY79nU4nPYGKgmUrykQwrtIDxkLEH1j1xgxEV\n",
       "F53bIJxjTaa1AM3IQ2dbBGqmHkPj/H6c7ogpeJFHey85fpqQkLssdhwvijKJFwRDJO/OS0JIgnnX\n",
       "2+i7MCwQuy7u9vNKeT9pGXQv8exOb0WGadOv+LwRxnGXKXZx1vNJoAAU7sOhrU+SPfgAAAFnQZtK\n",
       "SeEPJlMCFv8ACLc4EZulMdgGZdzihUBumMdFEVUi54XoSj/9OQf/CDDiz97sZ9ur3RBlYwOaMt5c\n",
       "kfrdWNeNejgx0vIQ8/Gq6ltU6ehq5W1Yp9VtUOY6QaA+cTyqk3x+aKwjozyX8meyDcz6WRl/NwHp\n",
       "5IBnZTYgy/CjLaqgfUM+0NNqQME7a++7VmFDnkM5IxkI/kG4+1i+wuJr6c+MeTALqvLGkeWyZsO9\n",
       "tbhrA/J5JIZgo0UxqI2i/cxaHhkrHY7x6hXvV8uLdDlMmhbfOhhLYE7pLlk+g/ra6XGWjtBp0oO3\n",
       "C7e7+evVqu2QVy2PTRh+BBd5j0RLmN0GxQcsnxf/8ZZqUvKLcfC5hA9uL5O0SZwMn5ZAb5TwcKMi\n",
       "7eFXHz303yKVqXI+eYZYfFVfR4/GVSlcJzZ5diTfAuYf3iIqFR3RKEPTTNKDH/GFZGz3EbksNMTA\n",
       "NnDG2eoViF0vvn3VXBkAAANnbW9vdgAAAGxtdmhkAAAAAAAAAAAAAAAAAAAD6AAAAiYAAQAAAQAA\n",
       "AAAAAAAAAAAAAAEAAAAAAAAAAAAAAAAAAAABAAAAAAAAAAAAAAAAAABAAAAAAAAAAAAAAAAAAAAA\n",
       "AAAAAAAAAAAAAAAAAAAAAgAAApJ0cmFrAAAAXHRraGQAAAADAAAAAAAAAAAAAAABAAAAAAAAAiYA\n",
       "AAAAAAAAAAAAAAAAAAAAAAEAAAAAAAAAAAAAAAAAAAABAAAAAAAAAAAAAAAAAABAAAAAAfQAAAH0\n",
       "AAAAAAAkZWR0cwAAABxlbHN0AAAAAAAAAAEAAAImAAAEAAABAAAAAAIKbWRpYQAAACBtZGhkAAAA\n",
       "AAAAAAAAAAAAAAAoAAAAFgBVxAAAAAAALWhkbHIAAAAAAAAAAHZpZGUAAAAAAAAAAAAAAABWaWRl\n",
       "b0hhbmRsZXIAAAABtW1pbmYAAAAUdm1oZAAAAAEAAAAAAAAAAAAAACRkaW5mAAAAHGRyZWYAAAAA\n",
       "AAAAAQAAAAx1cmwgAAAAAQAAAXVzdGJsAAAAuXN0c2QAAAAAAAAAAQAAAKlhdmMxAAAAAAAAAAEA\n",
       "AAAAAAAAAAAAAAAAAAAAAfQB9ABIAAAASAAAAAAAAAABAAAAAAAAAAAAAAAAAAAAAAAAAAAAAAAA\n",
       "AAAAAAAAAAAAGP//AAAAN2F2Y0MBZAAe/+EAGmdkAB6s2UCAEHnnhAAAAwAEAAADAKA8WLZYAQAG\n",
       "aOvjyyLA/fj4AAAAABx1dWlka2hA8l8kT8W6OaUbzwMj8wAAAAAAAAAYc3R0cwAAAAAAAAABAAAA\n",
       "CwAAAgAAAAAUc3RzcwAAAAAAAAABAAAAAQAAABhjdHRzAAAAAAAAAAEAAAALAAAEAAAAABxzdHNj\n",
       "AAAAAAAAAAEAAAABAAAACwAAAAEAAABAc3RzegAAAAAAAAAAAAAACwAAB5EAAAHgAAABoQAAAZoA\n",
       "AAGNAAABhQAAAZsAAAGuAAABpwAAAZgAAAFrAAAAFHN0Y28AAAAAAAAAAQAAADAAAABhdWR0YQAA\n",
       "AFltZXRhAAAAAAAAACFoZGxyAAAAAAAAAABtZGlyYXBwbAAAAAAAAAAAAAAAACxpbHN0AAAAJKl0\n",
       "b28AAAAcZGF0YQAAAAEAAAAATGF2ZjYxLjEuMTAw\n",
       "\">\n",
       "  Your browser does not support the video tag.\n",
       "</video>"
      ],
      "text/plain": [
       "<IPython.core.display.HTML object>"
      ]
     },
     "execution_count": 23,
     "metadata": {},
     "output_type": "execute_result"
    }
   ],
   "source": [
    "test_agent(env, policy, episodes=1)"
   ]
  },
  {
   "cell_type": "code",
   "execution_count": null,
   "id": "b85c2f9d-a508-4402-aa94-750bff0ed17b",
   "metadata": {},
   "outputs": [],
   "source": []
  }
 ],
 "metadata": {
  "kernelspec": {
   "display_name": "Python 3 (ipykernel)",
   "language": "python",
   "name": "python3"
  },
  "language_info": {
   "codemirror_mode": {
    "name": "ipython",
    "version": 3
   },
   "file_extension": ".py",
   "mimetype": "text/x-python",
   "name": "python",
   "nbconvert_exporter": "python",
   "pygments_lexer": "ipython3",
   "version": "3.12.7"
  }
 },
 "nbformat": 4,
 "nbformat_minor": 5
}
