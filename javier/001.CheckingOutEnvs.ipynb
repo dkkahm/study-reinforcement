{
 "cells": [
  {
   "cell_type": "code",
   "execution_count": 1,
   "id": "0de9642e-cb37-454c-bc94-c26b4c981f78",
   "metadata": {},
   "outputs": [],
   "source": [
    "import numpy as np\n",
    "import matplotlib\n",
    "from matplotlib import animation\n",
    "from matplotlib import pyplot as plt\n",
    "\n",
    "from IPython import display\n",
    "from IPython.display import HTML\n",
    "\n",
    "from envs import Maze"
   ]
  },
  {
   "cell_type": "markdown",
   "id": "edd701a2-4158-422d-9fb0-d3021715de8b",
   "metadata": {},
   "source": [
    "# Checking out Env"
   ]
  },
  {
   "cell_type": "code",
   "execution_count": 2,
   "id": "ccb0a60d-5740-4e5a-ac1c-32a182f562b6",
   "metadata": {},
   "outputs": [],
   "source": [
    "env = Maze()"
   ]
  },
  {
   "cell_type": "code",
   "execution_count": 3,
   "id": "5f4fe0dd-8ce6-44c5-b6d5-eb09916f942f",
   "metadata": {},
   "outputs": [
    {
     "name": "stdout",
     "output_type": "stream",
     "text": [
      "The new episode will start in state: (0, 0)\n"
     ]
    }
   ],
   "source": [
    "initial_state = env.reset()\n",
    "print(f\"The new episode will start in state: {initial_state}\")"
   ]
  },
  {
   "cell_type": "code",
   "execution_count": 4,
   "id": "4960ead4-3cf0-40de-ba1e-1bc636e522b5",
   "metadata": {},
   "outputs": [
    {
     "data": {
      "text/plain": [
       "<matplotlib.image.AxesImage at 0x109c3fa70>"
      ]
     },
     "execution_count": 4,
     "metadata": {},
     "output_type": "execute_result"
    },
    {
     "data": {
      "image/png": "[encoded data removed]",
      "text/plain": [
       "<Figure size 640x480 with 1 Axes>"
      ]
     },
     "metadata": {},
     "output_type": "display_data"
    }
   ],
   "source": [
    "frame = env.render(mode='rgb_array')\n",
    "plt.axis('off')\n",
    "plt.title(f\"State: {initial_state}\")\n",
    "plt.imshow(frame)"
   ]
  },
  {
   "cell_type": "code",
   "execution_count": null,
   "id": "b5ca1ecd-6e44-46b6-9405-419300311428",
   "metadata": {},
   "outputs": [],
   "source": [
    "action = 2\n",
    "next_state, reward, done, info = env.step(action)\n",
    "print(f\"After moving down 1 row, the agent is in state: {next_state}\")\n",
    "print(f\"After moving down 1 row, we got a reward of: {reward}\")\n",
    "print(\"After moving down 1 row, the task is\", \"\" if done else \"not\", \"finished\")"
   ]
  },
  {
   "cell_type": "code",
   "execution_count": null,
   "id": "7b4545db-f35a-438f-a5fe-2267de228316",
   "metadata": {},
   "outputs": [],
   "source": [
    "frame = env.render(mode='rgb_array')\n",
    "plt.axis('off')\n",
    "plt.title(f\"State: {next_state}\")\n",
    "plt.imshow(frame)"
   ]
  },
  {
   "cell_type": "code",
   "execution_count": null,
   "id": "ffbb7b33-91c1-40be-9098-98307f6798a6",
   "metadata": {},
   "outputs": [],
   "source": [
    "env = Maze()\n",
    "state = env.reset()\n",
    "trajectory = []\n",
    "for _ in range(3):\n",
    "    action = env.action_space.sample()\n",
    "    next_state, reward, done, extra_info = env.step(action)\n",
    "    trajectory.append([state, action, reward, done, next_state])\n",
    "    state = next_state\n",
    "env.close()\n",
    "\n",
    "print(f\"Congrats! You just generated your first trajectory:\\n{trajectory}\")"
   ]
  },
  {
   "cell_type": "code",
   "execution_count": null,
   "id": "7ba71ec6-3ef7-4e89-acab-dbc38ee192a6",
   "metadata": {},
   "outputs": [],
   "source": [
    "frame = env.render(mode='rgb_array')\n",
    "plt.axis('off')\n",
    "plt.title(f\"State: {next_state}\")\n",
    "plt.imshow(frame)"
   ]
  },
  {
   "cell_type": "code",
   "execution_count": null,
   "id": "f4feafdb-03fb-48be-879e-3a30744fa4a5",
   "metadata": {},
   "outputs": [],
   "source": [
    "env = Maze()\n",
    "state = env.reset()\n",
    "episode = []\n",
    "done = False\n",
    "while not done:\n",
    "    action = env.action_space.sample()\n",
    "    next_state, reward, done, extra_info = env.step(action)\n",
    "    episode.append([state, action, reward, done, next_state])\n",
    "    state = next_state\n",
    "env.close()\n",
    "\n",
    "print(f\"Congrats! You just generated your first episode:\\n{episode}\")"
   ]
  },
  {
   "cell_type": "code",
   "execution_count": null,
   "id": "0c4eda04-2a2d-4ac9-aeea-1fe25cecbedb",
   "metadata": {},
   "outputs": [],
   "source": [
    "frame = env.render(mode='rgb_array')\n",
    "plt.axis('off')\n",
    "plt.title(f\"State: {next_state}\")\n",
    "plt.imshow(frame)"
   ]
  },
  {
   "cell_type": "code",
   "execution_count": null,
   "id": "b85c2f9d-a508-4402-aa94-750bff0ed17b",
   "metadata": {},
   "outputs": [],
   "source": []
  }
 ],
 "metadata": {
  "kernelspec": {
   "display_name": "Python 3 (ipykernel)",
   "language": "python",
   "name": "python3"
  },
  "language_info": {
   "codemirror_mode": {
    "name": "ipython",
    "version": 3
   },
   "file_extension": ".py",
   "mimetype": "text/x-python",
   "name": "python",
   "nbconvert_exporter": "python",
   "pygments_lexer": "ipython3",
   "version": "3.12.7"
  }
 },
 "nbformat": 4,
 "nbformat_minor": 5
}
