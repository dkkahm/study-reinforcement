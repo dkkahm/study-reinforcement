{
 "cells": [
  {
   "cell_type": "code",
   "execution_count": 1,
   "id": "0de9642e-cb37-454c-bc94-c26b4c981f78",
   "metadata": {},
   "outputs": [],
   "source": [
    "import numpy as np\n",
    "import matplotlib\n",
    "from matplotlib import animation\n",
    "from matplotlib import pyplot as plt\n",
    "\n",
    "from envs import Maze\n",
    "from utils import plot_policy, plot_values, test_agent"
   ]
  },
  {
   "cell_type": "markdown",
   "id": "edd701a2-4158-422d-9fb0-d3021715de8b",
   "metadata": {},
   "source": [
    "# Policy Iteration"
   ]
  },
  {
   "cell_type": "code",
   "execution_count": 2,
   "id": "dd174318-5a63-48a7-be3e-3f00386f666c",
   "metadata": {},
   "outputs": [],
   "source": [
    "def render_env(env):\n",
    "    frame = env.render(mode='rgb_array')\n",
    "    plt.axis('off')\n",
    "    plt.imshow(frame)\n",
    "    return frame"
   ]
  },
  {
   "cell_type": "code",
   "execution_count": 3,
   "id": "ccb0a60d-5740-4e5a-ac1c-32a182f562b6",
   "metadata": {},
   "outputs": [],
   "source": [
    "env = Maze()\n",
    "initial_state = env.reset()"
   ]
  },
  {
   "cell_type": "code",
   "execution_count": 4,
   "id": "c009ee5e-2186-435d-8dfa-5a6b4ad87aeb",
   "metadata": {},
   "outputs": [
    {
     "data": {
      "image/png": "[encoded data removed]",
      "text/plain": [
       "<Figure size 640x480 with 1 Axes>"
      ]
     },
     "metadata": {},
     "output_type": "display_data"
    }
   ],
   "source": [
    "frame = render_env(env)"
   ]
  },
  {
   "cell_type": "code",
   "execution_count": 5,
   "id": "b97b251c-4554-4678-ba23-e8ca025c842d",
   "metadata": {},
   "outputs": [
    {
     "name": "stdout",
     "output_type": "stream",
     "text": [
      "Observation space shape: [5 5]\n",
      "Number of actions: 4\n"
     ]
    }
   ],
   "source": [
    "print(f\"Observation space shape: {env.observation_space.nvec}\")\n",
    "print(f\"Number of actions: {env.action_space.n}\")"
   ]
  },
  {
   "cell_type": "markdown",
   "id": "9fb8b48b-aa65-4f7a-b2cc-f2b5489e1ed7",
   "metadata": {},
   "source": [
    "# Define the policy"
   ]
  },
  {
   "cell_type": "markdown",
   "id": "6fd3b3a8-91ed-4a8d-ba3d-e08537ad1f07",
   "metadata": {},
   "source": [
    "### Create the policy"
   ]
  },
  {
   "cell_type": "code",
   "execution_count": 6,
   "id": "2904891d-3275-4920-8e8f-5d760451221a",
   "metadata": {},
   "outputs": [],
   "source": [
    "policy_probs = np.full((5, 5, 4), 0.25)"
   ]
  },
  {
   "cell_type": "code",
   "execution_count": 7,
   "id": "f9708ff3-af13-4610-b1e3-eb9e26a47081",
   "metadata": {},
   "outputs": [],
   "source": [
    "def policy(state):\n",
    "    return policy_probs[state]"
   ]
  },
  {
   "cell_type": "markdown",
   "id": "ed95c6f6-839c-442c-8f23-20a7b977e555",
   "metadata": {},
   "source": [
    "### Test the policy with state (0, 0)"
   ]
  },
  {
   "cell_type": "code",
   "execution_count": 8,
   "id": "c15e07fe-88b1-459c-8646-62a036e0d01b",
   "metadata": {},
   "outputs": [
    {
     "name": "stdout",
     "output_type": "stream",
     "text": [
      "Probability of taking action 0: 0.25\n",
      "Probability of taking action 1: 0.25\n",
      "Probability of taking action 2: 0.25\n",
      "Probability of taking action 3: 0.25\n"
     ]
    }
   ],
   "source": [
    "action_probs = policy((0, 0))\n",
    "for action, prob in zip(range(4), action_probs):\n",
    "    print(f\"Probability of taking action {action}: {prob}\")"
   ]
  },
  {
   "cell_type": "markdown",
   "id": "40576e85-b810-43f3-bcf8-f95585721c8e",
   "metadata": {},
   "source": [
    "### See how the random policy does in the maze"
   ]
  },
  {
   "cell_type": "code",
   "execution_count": 9,
   "id": "536e6b01-63b8-44ad-82e6-bb5da3f93c75",
   "metadata": {},
   "outputs": [
    {
     "data": {
      "text/html": [
       "<video width=\"500\" height=\"500\" controls autoplay>\n",
       "  <source type=\"video/mp4\" src=\"data:video/mp4;base64,AAAAIGZ0eXBNNFYgAAACAE00ViBpc29taXNvMmF2YzEAAAAIZnJlZQAAVeNtZGF0AAACrwYF//+r\n",
       "3EXpvebZSLeWLNgg2SPu73gyNjQgLSBjb3JlIDE2NCByMzEwOCAzMWUxOWY5IC0gSC4yNjQvTVBF\n",
       "Ry00IEFWQyBjb2RlYyAtIENvcHlsZWZ0IDIwMDMtMjAyMyAtIGh0dHA6Ly93d3cudmlkZW9sYW4u\n",
       "b3JnL3gyNjQuaHRtbCAtIG9wdGlvbnM6IGNhYmFjPTEgcmVmPTMgZGVibG9jaz0xOjA6MCBhbmFs\n",
       "eXNlPTB4MzoweDExMyBtZT1oZXggc3VibWU9NyBwc3k9MSBwc3lfcmQ9MS4wMDowLjAwIG1peGVk\n",
       "X3JlZj0xIG1lX3JhbmdlPTE2IGNocm9tYV9tZT0xIHRyZWxsaXM9MSA4eDhkY3Q9MSBjcW09MCBk\n",
       "ZWFkem9uZT0yMSwxMSBmYXN0X3Bza2lwPTEgY2hyb21hX3FwX29mZnNldD0tMiB0aHJlYWRzPTE1\n",
       "IGxvb2thaGVhZF90aHJlYWRzPTIgc2xpY2VkX3RocmVhZHM9MCBucj0wIGRlY2ltYXRlPTEgaW50\n",
       "ZXJsYWNlZD0wIGJsdXJheV9jb21wYXQ9MCBjb25zdHJhaW5lZF9pbnRyYT0wIGJmcmFtZXM9MyBi\n",
       "X3B5cmFtaWQ9MiBiX2FkYXB0PTEgYl9iaWFzPTAgZGlyZWN0PTEgd2VpZ2h0Yj0xIG9wZW5fZ29w\n",
       "PTAgd2VpZ2h0cD0yIGtleWludD0yNTAga2V5aW50X21pbj0yMCBzY2VuZWN1dD00MCBpbnRyYV9y\n",
       "ZWZyZXNoPTAgcmNfbG9va2FoZWFkPTQwIHJjPWNyZiBtYnRyZWU9MSBjcmY9MjMuMCBxY29tcD0w\n",
       "LjYwIHFwbWluPTAgcXBtYXg9NjkgcXBzdGVwPTQgaXBfcmF0aW89MS40MCBhcT0xOjEuMDAAgAAA\n",
       "BX5liIQAn9lnQQTHEoEe/T1jMRSYbUUAvtTDsX6fxD3ncLpVqjUtz6cF+e1vGI9S7YAAAAMAAAMC\n",
       "BTnRNQD/xjwzk2bjryV1oPi8fGS5/PKp35xJ1/81PcOyaeEVuv3QdpQLL4AQO60E3U0JUvja01Rd\n",
       "B7h3Zui7p6jtSjv4eIZ24HF5hrd0gHamLzMmw/FZ2fThH82wYrnqfLfUTQHCUvZvO4bsafmthWYW\n",
       "wUk7ZVc/qblvpyPeS02hYXhiqloyLxDs+G+uoM8YtdURsPTxPfPpkMUSeLIwneQgsdz50Hmz84aA\n",
       "ANL0lcdP3oLhpNkw8fy1HDPVwqO1F5ptb8DX6Qzo4wB9hfNluTHsYiLP4GInk+BUblfsINNgfjf9\n",
       "0KdfBW4JDhmioZMI73D3EPD7uxPLwhpZgu/tT2stJwgLBDyODlFEbgiaeSuMAAAIRXtxcxzMff1i\n",
       "JSuMwkvcSiQCfLUrYfxYw/2HNfN9Fpreb8YdOb7QJ2pHqHAegjCYjUfhZlzDpRvyVQ0oQ4ME+wFO\n",
       "p5kCQAAhVOH3BImi0V2Z1MntMeu9yHd9ijen884oI88buJmDujPFgIaNSiTRQXKX1velj3qEjhQM\n",
       "NutRAFy6l9OHkaC5XnzUDQjM0WIfGozfqeZE1Z/OHd6KmLiQkuAlJIr06n+LTOYOocic9SSbcpOe\n",
       "MdK7kVhKQURWCDa6oPq1sQJZQQGu3wl5AT4hunNOLnMEn8T/J4AAEX3+u2ByD6pa4idSesaF0LxY\n",
       "QYUklFvWsKO1GzzBUgNj3uSnHjMDoTFDOq9QCh5Yampk1cS5WCIEdJOyuppCHWLtPxXkPe+efRSG\n",
       "aEQm4d13mTxHuT32SbL7faAvPhqe7w/x5mNklK98g79e40wBQRhLkBHFYn4HGvbKVa27vQMGCwCQ\n",
       "TKOrFILp2R56amkkoszwthh450AWfSjSFQEfamdReR1ZTN83+GEsxZQ/CZ5SZo5F3IikLQIZM7Ym\n",
       "slszZDULQ3XyV27vJFdf4hWBjWuDFSCrAlqGUFw66+wMKa3ZuEJK5+dJYjLDnD0YSsa8P2XX1HVo\n",
       "81U3rVilHhFc/VvzmYNJUP50kTa4iL4tRxfo4ATrBUrpsod+8xGdg/3sBcK99yqqemhMlk+JixSr\n",
       "GT4v/JAZn0MmLzSUlNYS1E5uoS8ouIUbSlUfhb22slWGTvpW4QcWQ1vN5FWyQ9XRjEn1eA/3XZ44\n",
       "iEEJGo1nhh73tpRP9DpkJYtvfngHPXjYHoO4o7FoBbkcv7vRDlG87h7Irdgg5tp7LHGuMLq59pmk\n",
       "PcQc/wN6LOlzRHxYtwzTDq5sYh+31PTh4fLUJqX2YILAAAADAOVDBLUA5GGap5V4NffTw69x1lnu\n",
       "o6yDyigjYIjkhOV/UdSb0vc6FlXKvA1H3y0kHBsJszy+PuS3eWv4FuoBgh5EDsKgqzdN31iTvgzH\n",
       "dBOFvrMr8DAqWgn+CmL1AW20RA2PVRzFaOHS5jdQ0qY10SEMsBxG6rjNoDe3C84oWYA9iDkdU6CB\n",
       "rDwNhCpWYrGiHj1Dy+89zetktESPin6llOyQrm/BcYxVzGxj2lmn0tprXv72VcBvRu4p1s7AbAO7\n",
       "lAP2B6AuRZijMKLbYo5Z2X0Bi9A+/MCMwyoWmjVyA9klDIlYvTZLCBAr/GWVL5G1mNBLEEGm88sd\n",
       "WA8BPOAHggUUBwWPlshaReqcAivHQjRtdq8imvifrRlgmeL2dY9m7OsA8zDtlfHDgLZBjhkOPOFo\n",
       "bKyLqgAm/6rmV1g5mp/wJOGGqPuJAyRtpDqSUI/jsc8UtnH/j4RUIffABXVqPi09YjYRNkWHdgwi\n",
       "OXDAIsKSDyyYrhy8JmFxp/MAUS5UJUOyJ0j/RqT6QAx9lVEK92xN5QAAAa9BmiJsSf8AHz+nDOS9\n",
       "SEVcatVScYM2v3mX2Lf91t6dRybw8XoNvj1fgb8/jqiT8QdePWi6OLe5Zpi2XlKqQOcDSW+ZMoth\n",
       "OVS35tkakPyx8bkq6KraS+qDt1Jqx0zthUVafdA02pwqVi24cfDLg5VYwdoul300z6SdfnNZbg3r\n",
       "1aafxf1KBx3VQOM67v6GngaPpKFmaBWgUPPhvje3p7GPA9GZYh5ryADbFOonwgUadVZsjsQ0AlN1\n",
       "AKFhtBGf433kLWhszP1ehE7FcCm3C2UvhlQOHWvJKcxwVxCPXuWUeuz3USJP7zu2zdt2DsMltFcG\n",
       "lhMlgTq+KfOap9xsHkehUdviQaGaAkMuAe0Ri3/HaOuF07Df7HH0vrYKLXmO0e1BAIlNvJflmRCD\n",
       "I/m/VclsUqA2noYiOst6kOH+xpPr78O0xitNoi81YIJgfdUxGgvVzWtQ/134i9dvjjx7oZT3637M\n",
       "zrd08+MOJ+np2BYUfjSak4UlFiedxt2AFmrw1d2ksPTqXYGk9eYAAAMAADQPzxF77xvAqA3G8wig\n",
       "3CisLNtb95PEsf2HcdbYHHg5YAAAADkBnkF5C38/YHMA8gPlRd2T5aOFHs646jMYpP4F6l0VanYG\n",
       "SfayeYAABaPYIUOwMAAumwgARuQa44EAAAGbQZpDPCGTKYSfABOeAvQGO38k/lRETMmYZole5DR/\n",
       "sK56BLx9cuxGMcjpi4+h+oHquQt6oN5Lc2h3FI6ga7ScPrYyIbJfSVMupRfSFZjjn0ubgY+BVAFz\n",
       "HKYRuQE5fXvGcFk6JTeWIbVhM7BxTELHq7P8VLWpliL0if1Uv8b/SbXQdY6g3aES9PiBj8wSK6Bh\n",
       "Gid06LAhMPh95ZlIzHTbtIQrmpPT907tdrH1WddQNClh9UX4jDJWYJM7/YErsrhUd/FvZ0NmoqT/\n",
       "jbywIR6RsQyjg3VNQ++rIcxAAAkj5HFeKQFdmjz/BCwv4AohhfRgQVWpvVVaaMR7C/w/9nD3IcUl\n",
       "5VlkQtx50bnjka8AI32s0cAPjVa2sUfun4SUeCwlY8fFl39uicANWdFs7svQL3rrH86BjR7J65kQ\n",
       "6E7WUINj5TO5dRmIiZOcjbwuXocc7POCQHXC5zCTAMVaYPDnJ9EgYaCVzHuvznZmH06zlaLygG/n\n",
       "rRdWh5qZ1gM7oVObJJ44VYTBWbwogAAEV9InwzjSmN0LC4E+bzIBAAAAOUGaZEnhDyZTAk8AE59U\n",
       "Rp4o8J7JALf2Mp32JUd8SK2+5LaMXKirDGtt5SFfXAALj0NuSQAAAwAd0QAAAaBBmoVJ4Q8mUwJP\n",
       "ABOf0cuAVDpb9TBv4s9oqqNUTcFSkErf/qHuof1Ngm51kabEZXTHpABNbWZvAZKNOZEoAc7uME5/\n",
       "tdMjglOSIHKM/BK5kNWjDeaE2V5qraxZ8UJUDQI5g1mzaj/tTjl2yry0r028Mfo8y2H3WNKYnQKu\n",
       "EZPEOSQWXv9LXPpPVzn5V0OJhBzhPvKpMEVX9ewkiFYiDe+Jsn08cKa574bf1EF7ea1r0tg3F63E\n",
       "34skEwhs+kD+shZlG0wYyZyhttRl+RWal39qS4Tj88dC1X4znwR8Yj28AbS60dOi8q0tU9d2gajZ\n",
       "RPAy0bgS8kmEstvtzkO83ULyYrWUhKPBxt80CZKWOZBXHT/qESkaq85NehUYRKXR7c8d5rCWb/uk\n",
       "x56DmF9bsWS7HR1TQ4O4sEqE4CbilbBV3szBfuVufvaIK8JOCPAfMTVmIJddVcNE2iFpF8tfW2Q3\n",
       "BYkhEwqDvyQUv/W8WvC36Qcf/RGEJaIAW8CNRuUpTAVyR8QGcGAvuiVIoCNrr2D+ofqwyl6I5I2N\n",
       "aWptoAAoIQAAAZhBmqZJ4Q8mUwJPAAAbAkR9s4hviBiyYAVY1UBA2rUk/viAhH65EwNy/f5cROSa\n",
       "2gmfyFIJLvmy6EsgZEHIQXTwuhu4nyrErBoW70/aEre20QqNdeT3h20JroHOGj42l7YKuuJphFaT\n",
       "Qbyo5Zkoc/hJACshKstehUHBn/C7S99nke6oGURM3hwTHHKOEkie7TzmVNf3nMIJoIBaDLjUIh96\n",
       "Mng2ceF7pDRiqB0KTcOMkWrIyy4SjtTEDVeja+0zXpKCzOG6mjrEdLt8uT89X/ZUYjuoGzra/nv1\n",
       "JoAQszblI4TRKPwwOsALdCEhRR6r4L6CL0JNHc2sLxmTajGKNDeuioAzKy5eMjO+AL8/9C6Fpr4+\n",
       "JdeEOZ/+2r8Qnd3LIchGtlDmiKAkvgkrQt5df1xLNVjuUb0Swj90P1wQf5rM22433hDc6kHFXpdW\n",
       "u2fyJmcM8JXjtNrFnqdkSoFjKcOi0lf/yk1Pu8MFLFPMSoKOn2hBfWEqSd0YcR7u1/evBXkticr3\n",
       "PsTk23M/kpnDUfIbas40E0RgBx0AAAGfQZrHSeEPJlMCTwAAG++iMZpOq74PBaMLi530/Y8l2YAh\n",
       "wTLnCGMAfvqElJMGOfA/+c+G9/GCE3PZuyJhSSCpF2nvNONabDfSuv89tV/KiduVzHDEd8uro7p0\n",
       "T4Enct3+7SedH8LDP+NzGogZl2vSOwLW7PMpUwQwZlUdr76ZUgDfoiyqnzFlc9JBCkFW+qCf0mH2\n",
       "FvAYuceHPCRMl5VKV3kqwqriicnnbipPtYqPLj/QBynUWedIk/sgGCsk8L/yZ91Ff/hhaObNDsDX\n",
       "zna5KXlkhDDtXzLKO00JUKNGmMXVObDnhIBEs62e+WvW/T1OeNm1rVQruuNLwatQrXxNPrV+GGyw\n",
       "/CLRlLdv4STmqUr24xwsByJT3P8WogNwFs1AJFzNnYvg0znryZWSYp84Jp8LCel6t8PLdxVzlPuM\n",
       "eWMwCbDF4pkHPbiXhkI5I/UbNRALyutH2BJ2s1ZiOs2Yw2O3ASDiedPpwiGSJ0lQWYqYztSz1t1R\n",
       "tdNZ5RCw0u4w0vLLR0lFjVKu8mnMI1a6fqR7VCCFX9OQZt+tqCTFgQAAAEVBmulJ4Q8mUwURPJ8A\n",
       "AAMAMkERvI03oAGehefag+9wa8a1HQbBmnpckIN0wAOyoPR8dwqwQbQXDYKPT9yHKMY9hDJjHTAA\n",
       "AAAiAZ8IakLfAh13xCaeHdIMG2weO2VQ8TlgizUVrOdE7SIMWAAAAEtBmwxJ4Q8mUwJPAAADADLf\n",
       "5TouWjloVs0BGR4AQkRwYZnCL5XpJO2vUllCiXVCwUetT+YMs9LvVGj+fWSsN9izgvDfyt3C498o\n",
       "Ku8AAAA2QZ8qRRE8Kf8CDWB4SaAAFJBeJDDBu3Lxh5sByzFfeenZI+q6p9mTHnEN3r/SQfbJLZJY\n",
       "7QpIAAAAGgGfS2pC3wDqXqAaqbHOGtcyVyd0zxpSAPmAAAAAQEGbT0moQWiZTAk/AAADADJMR0dn\n",
       "rmWqlhhcOWBs+R3HN74JxqJVjqH4b3MJGllW7QQ/9apCkHHUDZcHSR1YjjkAAAAnQZ9tRREsKf8C\n",
       "DWB4SZyQkf0Kp+CxWJYXBhw5x91W2J1E71dogE3BAAAAFAGfjmpC3wDqXqYwElrCt4zU3oGLAAAA\n",
       "QEGbkkmoQWyZTAk/AAADADLf5TouWkKFwhN2cNzz3wDX/4wduXTAXoH717vnKXIDLKP0dzHH70yp\n",
       "17ga1d/oKu4AAAAtQZ+wRRUsKf8CDWB4SZYA8KGQl+pp+GUTAKQHKn3EdDS5CYI7PDg7w4l0QCqg\n",
       "AAAAGAGf0WpC3wDqXqAbBnOnSSuOpOh9Im8DuwAAAEBBm9RJqEFsmUwUTJ8AAAMAMkzbvZ7mYHIy\n",
       "hz6p9wbF920HkKSOHjrge3raCmYGud+ECsTB6FTMU+KAZxnKsDKAAAAAIAGf82pC3wIdd8Qmiu0p\n",
       "NRvHCl/TAwUpr0HIaMUeggh4AAAAtkGb+EnhClJlMCT/AAADADLf5TouWkK3UATHXTxTY+lRa97A\n",
       "v/qskpJ63lveM57vFtI90JR8PgGrwHufUjPpvvbnXb64IOBJdMQ4sTONeejpDfXUGjDTC0Y56eUX\n",
       "zSqJTjTWUoEZJsONLHmR7bprWvGO+S6GSkK9MFJehl0OtPVw/tgHF8n+EC0ItbCcu7Ud7ohEOy8Y\n",
       "7/sbSwIMZKkN2e9045Kof/1bi5WF2QSnBaoHx1M0uAWpAAAAKUGeFkU0TCX/Aebzb2X4AXs1AM48\n",
       "IcGi5bdgRgO//3AtenMlwwkwOsHHAAAAHAGeNXRC3wAAt4BEj/ryOYwQG3z6qNfhCvLAVMEAAAAU\n",
       "AZ43akLfAOpeoBsaYEUybtgA8IEAAAAXQZo8SahBaJlMCT8AAAMAAAfX+6G+EvAAAAAWQZ5aRREs\n",
       "Jf8B5vNvZABSwDLgDIAwoQAAABABnnl0Qt8AAAMAHRmL5SGfAAAADgGee2pC3wDqXqAAADKhAAAB\n",
       "mUGafkmoQWyZTBRMnwAAAwIKNarVv/wIVaq68q7SPjW0Ez+QpBJeqe2q/lRIg5CC6eF0gg/p8dCV\n",
       "g0Ld6ftCVv3BFraIXk950GYx+QOc1HxtL2wVdcyT7BzTYHyo5ZkoephJAAMhKstehUHBn/C7S99n\n",
       "kfIHii8Ez3+matnSB6H3ayAsJJ1/ecwgmggJlDEZDIKh9xXgqZc+F7ozRiaB0KTcOMkWrIyzPO1n\n",
       "ymNeqo2vtM16Sgs02z13O0ant3y5Pz1f84raO6gbOtr/KzdNWCE2M4g0T3B6Pwv2sALdCEhRR6rw\n",
       "P6CL0JNHc2sLxrq1dtMNltroqAMysd3jIzvgC/P/Quhaa+PiGGoANP/21fiE7u49Ila4goc0RQEl\n",
       "8ElZlvLr+uJZqsXlDAg0Daw/ji0G4apJQ7G+8IbnUg4q9Lq+rIIImZwzwleO02sWep2JKgWMpw6L\n",
       "SV//KTU+7wwUkaXwoNUFftCC+sJUk5qQjTXsq/vXgryWxOV7n2JybbifyUyOaR+xJtZ0FSfPb9wY\n",
       "egABrgDgDQwjWccAAAAfAZ6dakLfAh13xCaMJHOu72iwe0cEPQJVOqQuc1aBWwAAAZ9BmoFJ4QpS\n",
       "ZTAk/wAAG0/20vxETUP6mwTc6yNNiMrpj0gAnlAsrUbTNPMiUAOd3GCc/2umRwTS0sri94oz3/97\n",
       "eMG80JstQnEExFih/2IOgrjUenBDGhhXmClJUtMVL5W/Og21sPusaUxOEQeMIPAKg8svf6WufSer\n",
       "nPyroedDhtHyVLLFCundDgVQua/oi5cMKX14eAVrUBxhDoe3mta9LYNxet7SryeRjgNn0gf1kLfz\n",
       "w65CB1E+21GX5FZqXf24ldVhrqPzBCN1jPSXxmQDicyLVadF53z605DQLiRWaFJABLJFllZzOZtr\n",
       "BAyRR0FYlIZ5DZBDKq5kbVV/Aypkc3swjSHmriz6RgZhdHtzx2EUrOVGGpJMmOYXMJNpeSYPGzEv\n",
       "P2LXnNg3K12E2S1mWKLsrEJM4mm4P5gd3jYmrEQS0C3MygWOFR3bjU8DgDRyT4x8KhLb8FL/3xm9\n",
       "EJOenSe9qFCWiEFXQlZxMILK1Ye+IDPVAawVG6ghSpeK3AjpVhsMI761MbG9LXKzdTJf8zywB84A\n",
       "Hm+0FwJ96gFbAAAAK0Gev0U0TCn/Ag1geSk8nFXHcV4x6lXPH005mdUxJ+kV35iW9rf5R4AA6oEA\n",
       "AAAYAZ7AakLfAOpmiODvdIr+j3ZQAAADAFBAAAABfkGawkmoQWiZTAk/ABNqdfqpOMGbX7zL7Fv+\n",
       "629Os6iAoFGjpkrMDfn8dUSfiDrx6vGC+KdmGNMWy8pVSBzgaS3zJlFsJyvcVuNCw9Kxzeakq6Kr\n",
       "aTAkGnkUOoGpT79x3CIgrWpwqVi24cfDLg5VYwfKWS2TMWXwTTjPv9Sgcd1UDjOu7+hp4Gj6ShZm\n",
       "bT0CdtSIESwnfb096Qap25DaZvso2nfW2Lrb/k+KKrNkdiGgEpuoBQsNoIz/G+8ro8LR7ISEFruh\n",
       "9LEgF/Hsi5sFcQj17lto4evmwbWwMCJvK/FBp/QalHnfELVoc8MIPf4E6v15hPIKd+8BrztBzW+A\n",
       "kMuAe0Riy5XUxWfhZAXgo2cyVP49652j2oIBEpt5L8kRcfpaj3VXKqVBUXyREor+9SHD/Y0ejBgL\n",
       "W5+7L+N42NUzIY8w1y5S7oIyOI60bGMwbt8cePdDKe/W/YgeOOGnybifu6dgWI0wcZEblKkqedoS\n",
       "ZavJP3ASgMSxBQAAPuEAAAGXQZrmSeEKUmUwJP8AE54DF7qsjSW+O+iImZMwzRK9yGj/YVz0CXj6\n",
       "5diMKs+UY/fDWwPVchb1QbyW5tDuKR1A1tPh4t3RTZL6Spl1KL6QrMcc+lzcDHwKn9AD562xG40Z\n",
       "tpOX+v9jWxvP93shwOoOKYhY9WKgRGVMJWHqPI0yoAfI30m10HWOjWsKLovMVnEtIqbLSIqLbb3W\n",
       "ZRslOcRV0JXu+9BCuak9P3T2Ynt8/jLx4pvgPuV3EYZKy9yPJsFSf3p7u7FztmoJ11OKDX/+7XZR\n",
       "li7+7uRLImQ5iAABb+7oFqjgnrRHNYNtZzSVX6pWmzAgtUVkUaR5JeMBid1lp73UUkJZz8eiXycc\n",
       "yPpJOw7Fz8AI32s16ARzaA3yR8J9mVNvFQvrwhWXf26JwA1Z0Wzuy9CPhtzVzbGd1b4uWYCZ9nbx\n",
       "DGiZ76qdnKtV1o5nI28JvjizEbCj7AhxbJhCSE7PLyDtJ+K2Qxx/G/p1XznZmH06zkmSa+2i7nMj\n",
       "FDyddW/gZGAKnNkk8cKsJgrKKlRQAAADAcsAAAA7QZ8ERTRMJf8xQADQrabD8JHRDFVmLJ75Wlhv\n",
       "MUmisR8q6utVfTY48WWIDuG17r9bmqUpk6ij4AAACTkAAAAeAZ8jdELfNmAASvsDJFFwyAwPRTfo\n",
       "uFQAAAMAAHHBAAAAHgGfJWpC3y+wzTyORWsNNlCgfXQAs2MhiAAAAwAyoQAAAD9BmyhJqEFomUwU\n",
       "8n8AE6Ze6Scht/aFckDLXlkzGYy9a3yR/pejLdeLucE9TnNIzucepVlcNvFP6EkAAAMAHdEAAAAn\n",
       "AZ9HakLfNnFiJGOLya8bAKBW0w0KoMXzA1oMNuGk3TVaAAADAFlAAAAAPEGbSknhClJlMFLJ/wAT\n",
       "n9HLg5dyiJUCox3JSlPxoWmqzShZ1H4WFwJsama0A7b8F0MxHwBvkiAAAAMBnwAAACEBn2lqQt82\n",
       "YCBU5xAzFMRKvc3YzoYNLJpql8AAAAMAxYEAAAA6QZtsSeEOiZTBRMn/ABOes9I9J8/HdrGXqO8H\n",
       "cETDOtQTSBhtgkdHYcHH6TgnWaABMftzFAAAAwAccAAAACMBn4tqQt82YV4qnRasI286QQqP6WjC\n",
       "NrPOVw0QYAAAAwANSAAAAZ9Bm41J4Q8mUwJPABOeAxe7Fqqz8vMupyJ85o4rXwPIX9/4iJqH9TYJ\n",
       "udZGmxGV0x6QATW1mbwGSjTmRKAHO7jBOf7XTI4JRgCByjP557/+chDqiY83+SwWBiLh/2IaBHMG\n",
       "s2bUf9qccu2VeWlXKVeuzWSonoXDb2TvIG4Rk8Q5JBZe/0tc+k9XOflXQ4NEHOQ+8qkwRVf17CSI\n",
       "ViJR2PCyfVxwprnvht/UQXt5rWvS2DcXrcHLL8AfGF+O/u6/zJoA9SFEzlDbajL8is1Lv7TNQnH5\n",
       "46FqvxnPgj4xHt4A2l1o6dF5Oyqp64M2kEP+TpSQASyRZZWczmbawRr9rUuYrWUhJT2QQyhOZG1A\n",
       "JT+RT/qESkaq85NghUYRKXR7c8d5rCWb/ukx56DmF8Hd2S7Ih1TQ4O4sEqE4CbilbBV3szBfuVuf\n",
       "vaIK8JOCPAfMTVmIJdhVcNHuCgpF8tfW2Q3BYkhCAqEXyQUv/W8WvC36Qcf/28hmcc929CVnEwgs\n",
       "rVh74gM4MBfdEcqExUK+DurnSrDKX3D4zY3N6CPgACFhAAAAOEGbrknhDyZTAk8AE54DfNBlfAA2\n",
       "koQMAQu/KypdhwAIudKMqrgpWRI0PEG4HYRKTABSKpe0AAUFAAABl0Gb0EnhDyZTBRE8nwATngL0\n",
       "zp/km7KAh5kzDNEr3IaP9hXPQJePrl2IxjkdMXH0P1A9VyFvVBvJbm0O4pHUDXOTh9bGRDZL6Spl\n",
       "1KL6QrMcc+lzcDHwKn/uY5TCNEzOX18nL/YBJ0Tw//d7IcDqDimIWPVzEN/RKgGIjR5GmnAD5G+k\n",
       "2ug6xs+DYn8YIGs4kGVKIchFRbbe6zKNkpwmh6hK933oIVzUnp+6crQ9vn8ZePMcC3bg6f1BjYpW\n",
       "EviwK5IW9093di52zUE66nFBuRixAriyjg3VNQ++rIcrAABCb7oF8XiudtGf9yYTPP4AohhfRgQV\n",
       "GpkUZZA1NmXfE7rLzXuopISzn49Evk452Wp0bnjka8AI32q8AMFjI1vo+E++/xqHG6MOXyzVLdE4\n",
       "Aas6LZ3ZehXw26sJtjO6t8XLMBM+zt4hjSEFCZ3LqMxETJzkbeET5BZihlE+0nXdnhCSE7PLyDto\n",
       "f/CQMNBK5j3X5zszD6dZyydsfbRajmRih5OvLg4xndCpzZJPHCrCYLXbAAADAA45AAAAJwGf72pC\n",
       "3zZgAO5etScBxOx+SP+/ixYrYuD9PrIH8dfyeoAAAAMDZgAAADZBm/FJ4Q8mUwJPABOeAvTPc4uQ\n",
       "FQYQAACcM4NJMdL6D0MAQu+1LK/HyqgALPttAkgAAAMA7oAAAAGaQZoSSeEPJlMCTwATngL0v6W1\n",
       "WDnG61Q6ezux4q4Hi0Ff8BD1D+psE3OsjTYjK6Y9IAJ5QLK1G0zTzIlADndxgnP9rpkcEonWQ6uV\n",
       "eNV8BEXjBvNCbK8qnWioBD/sQdBXGo9OCGNDCvMFKSpaVcpF67NhsNehcNvZO4Ih8Gxi/TpcUqX9\n",
       "04Unq5z8q6G/Ag5zn3lUmCKrGaOchc1cCNkYrXRTDwCtagOMIdD281rXpbBuL1uEFl+AKsBs+kD+\n",
       "shb+eHXIQOon22oy/IrNS7+0zQJx+eOhar8Zz4I+MQLceNpdaOnReOglpTp17kA5OOBLySYSy2+3\n",
       "OQ81gp0FYlIYOm6ZGrHLjaqv4GVMjm9mEaQ81krL+lwgXPgRVvTOfnMHWwuzJjmF/Qo/88UUJ5iX\n",
       "n7Frzmwbla7CbJazLFF2ViEmcTTcH8wO7xsTViIJdRc/enaCJW60DU8DgDRyTtj8ICrj4KX/vjN6\n",
       "ISc9Ok97cjoUUaKOBGo3KUpgK5I+IDPVAawVG6ghSzcOeuofqw2GEd9amNjeoj4AAhcAAAGaQZoz\n",
       "SeEPJlMCTwAAG+vLgAh8GzsVk6ROjUTJIuRD/kAH20CrnN4qup8cKiJyTW0Ez+QpBJd82XQlkDIg\n",
       "5CC6eF0VxL6QU/7BoW70/aEre20QqNdeT3kNkoh5jwho+Npe2CrricdtzSTuzUcsyUOfwkgBWQlW\n",
       "WvQqDgz/hdpe+zyPg8ih5Gnv9M1bOkD0vu1kBYSTr+85hBNBAQHzPJmDB9yFhUy58L3SGjFUDoUm\n",
       "4cZItWRlmEmkiv0M9VRtfaZr0lBZncudgRQMhu+XJ+er/sqMR3UDZ1tfqP/hIHWWZv47ILoN9znY\n",
       "MrnonCIcHqvgvoIvQk0dzawvGewUme69qfbRXYGhUDQyM74Avz/0LoWmvj7BEKrQCk+zr8Qnd3bW\n",
       "v7qJ1WjRFASXwSVoW8uv64lmqxfEMCDMbq6H64IP81mbbcb7whudSDir0urUX6ZxJ0nl8rx2m1iz\n",
       "1OyJUCxlOHRaSv/5San3eGCkl+ut7Y1KxoQX1hKkndGHEewGf714K46KJTVzTE5NtzP5KZw1HyG2\n",
       "rONBNEYAccAAAAKsQZpXSeEPJlMCTwAAAwAy3+U6LlpCt1AEx108U2PpUWvewLU0Vdo6psLXVKVa\n",
       "8f5paDPiN3EXhY/GLKDS/a6hITCzt9ph34AL8KV1+pz0fEe2eHEKU1Xst6z4Zah+OhcNLsGbPmCw\n",
       "GsXeLG031W41ac8hIIfI5Y4R4ChkWzvhk8r/wx1xb5rgphCmci13K9WhLZBwIr+D6u7eNYwwQTck\n",
       "wH2Bnjq6+ieVEEM2odXuT+u8onffhvr1TZXqhxKpplAcfWSZFRlG7AtNq0FDki/Sauo+5DkBECYV\n",
       "tswoQLy6gG2NpmEfDYy8ipgZk7US3wii5KsMvRfiGMcbSid0KVyeDyWRkKJtnU4TG/f+HbrnBEdt\n",
       "D4EOnBsPBoa/nWNHVuNCcnCdFlvA411BRs9rf65ABzE8lTAxjTsxSRa9uUnxZwWqXcbh/uS4FT9W\n",
       "tg7WSklwLO/BvCOqCJ5Ljz4jHiigwdQBK5tRNa6Ae/7LWv0gHax1stjSL5I2bC1RK4QdBYLa+exy\n",
       "cG+CkbzCfEpgoGqkM3k3CyaGJrRnCV9fwiJMzH9wCNXm1CcwE5+ndz/pccx8iDDI3kYcj/OC1lzF\n",
       "WzCSwYE6UsnFSeNkDma+pd7Eu65Ub5Y2FWHrVh6QR75M39Fa7T7Dad7M/HXfNOTms4m2geB4EDDL\n",
       "ZAI3x7xK39H8GFfph7PlcOMjomwf8va3f9k9fN6dfNZ/vVu91YHkqhyq4/CFnQzUYMGhrVewTPtn\n",
       "RyECMF3RmqQnYBtVAYyXJhfEnls68KDz1pLgVrJ/yrErEraJ4nCL0sGC5GTX/CpDANrlkKwR1TVs\n",
       "EN2B782JFT5cWLQcC5W8RVjgXqHk1D95Bf6Ei17odd2jpF9DcAAUduw26Hz1XapZdNH0XC0SSMYZ\n",
       "6vgqX1ZLFR6n6DWAAAAAJUGedUURPCX/KExsF/EDh16pVpAg4E+9iKtd2XovuFCWIivwFJEAAAAe\n",
       "AZ6UdELfAAC3gAWa/mfnYhgwzHGFq5kZU5btKCqgAAAAEwGelmpC3wDqXqAbBmiYpzPAAccAAAAX\n",
       "QZqbSahBaJlMCT8AAAMAAAfX6GJzgvMAAAAXQZ65RREsJf8oySEo82KAANZW5BiADlgAAAAQAZ7Y\n",
       "dELfAAADABz8a6JSQQAAABABntpqQt8A6l6gAkbCABswAAAAF0Ga30moQWyZTAk/AAADAAAH1+hi\n",
       "c4LzAAAAFEGe/UUVLCX/KMkhKPNigADVAAInAAAADwGfHHRC3wAAAwAcxnHImAAAAA8Bnx5qQt8A\n",
       "6l6gAkIAB6QAAAHpQZsDSahBbJlMCT8AAAMAMt4EKtSfps8lh+j08JJuV8kO0B5sugmfG0WVd6Mb\n",
       "V7YcnUeQKSf0zPPplJNqNSkERyi6u2P+bnlIA4ZA+U3dvyZABEBo8uBJD+Q8xbdHhzAYMkEfxYPM\n",
       "9IOgUWIaawinUq5cZZXtS37ma3lrth/c/3Mjr6YkO8we05yjpzvy4WThkylMEcsKMLeRb9BNl6/7\n",
       "M3MdyRCxs1mRQC+NyoxFORJEOHaPe4yfxPBn5ofrJWdhWomkfZqCcLe66d9FYGVqiPsjDjr7bfoD\n",
       "EeGq1+2NmETr+yDZxNcA9Yrz4wmrmXSP+wPSObtzR5MFqIYMBV1bml1VaRstFTjnjnuTPI9/Zqju\n",
       "RDdgI3CLqpypmRgARJUuG6znHgLlussYLRQvj3+0mfAybSqeILSIsd2B/x99f6RHYIT/CFun5/d0\n",
       "qYdvuESdzCmGx7XAWiPS8rW+EhirmUvDk+kYBEijOL+wyMwiNitYXPn9JNoaX7YlqMIfkf3KcMld\n",
       "uhzA3efRwSHiaypHkR2UlS2PyuZDp0Fv00zMrT+XxVZxRnCWjbclRCcscB+rnKms3OQ1RfBIL+nZ\n",
       "Ez+EMzzRDGai5Wi3VTjlVR0gSkkG9KFtqFasIF1A290d+i/ADoAIqIr7wKu5AAAAJUGfIUUVLCX/\n",
       "KMkhKPNihV0bMpzE/dJxyOVEhxxbmfm7rTFA/IAAAAAeAZ9AdELfAAC3gESmqie6tRFdpVYck3tu\n",
       "vsgHIGVBAAAAEwGfQmpC3wDqXqY3QH+L+2gACdgAAABEQZtHSahBbJlMCT8AAAMAMt/c4A/uFOEx\n",
       "AEx7EzudX7b4PU+YDg6zY9Hbr48fBYsCbddJi8Qy9L4NfGk5Yp3b/mr1XcEAAAAgQZ9lRRUsJf8o\n",
       "ySEo82KFUfVvmzMaf3K62+5X3+4YGhEAAAAgAZ+EdELfAAC6gpgb48tT43pOOGlit9UDuUTPlZpc\n",
       "kfEAAAASAZ+GakLfAOpeoBqpQBEQAPmBAAAAFUGbi0moQWyZTAk/AAADAAADAACvgAAAABNBn6lF\n",
       "FSwl/yjJISjzYoAAABJwAAAADgGfyHRC3wAAAwAAAwKDAAAADgGfympC3wDqXqAAADKgAAACSUGb\n",
       "z0moQWyZTAk/AAADADLeBCqtlqNzPAocqhg7jqx7kDrT866CZjE6zS3YhGlhRatd66KulMNEfFgT\n",
       "FYqdu/uvRRmRL0bgWQ8ByKllVqNQdNWBhDXZJdIIxr3tRXB9uUhGFoM1MrzRJ2MPb6WmUXDi4/iw\n",
       "eauGuawG0ehTr6kWsuWpsOdymoGZ0i4aKREi3pvGkmebl5fOMBefUBByi7OHHC77SOiLF+jehtyj\n",
       "8ivHrI/8CzR2lm2LkvArDsAV4/0ASeHPfPMfByCsxdObm/pjrt6OkaVUjpSlfqeXTXlQGf6cTx0K\n",
       "E7+smdIBPMlIEVBgaW7rdmi7UJ6rgCaRbSheTv5FHDk1Ke6+90bpOAifyqtL6G4ACDUpi4AkE/JV\n",
       "mEm2B2W0uNAK14tm3DIo3ASKLAnaPidolOS4jw7DjGsoq9xAikXyjRIaJZhTz+k+1TOiiniTo0jo\n",
       "P+cqWjfoytMo9AY11EcQj/C9GroXsICh3cIjR+e9g/WUJUxGqBQnCKFXwtYWq6GLWR43RwKdlIXJ\n",
       "eWt//aSvo4bi2arkFXZ2fn3wSF5jgozmNrEOHK1Qm+eQL1j3zLlR5RCtnyn6ltwB8oozc+vsb3YD\n",
       "SBWwW9CNl5J/Af8jYNeSTG7q0HPFhwyeuUcUGxIei/gmcGS1RWP37lXRDSQKf7V3ufsOgQS3q6K0\n",
       "x+0WtW7QijE27iYIASImQs/R0kZIhSnMZ5YCd4UYAKJX10bzYDIKdMWjx7P/l/MoWk87TsM/ITmY\n",
       "EcVAB1ZlA9DhfjgQ8AAAACNBn+1FFSwl/yjJISjzYoVR9W+bMnLj1GgatrPy3/V8TIBNwQAAABoB\n",
       "ngx0Qt8AAL46LIp+U0HpQzKqZXiiEFQBQwAAABMBng5qQt8A6l6uoBR7K6QgAPyBAAAARkGaE0mo\n",
       "QWyZTAk/AAADADLf5TouWkKFwhN2cNzz3wDX/4wdudGC63AbBmQFrKp62NSYMiXmKSNDrLm4oAJw\n",
       "l+v1MYoAW0AAAAAmQZ4xRRUsJf8oySEo82KFX4p5otqfeccSrHaVKCJoFzpCsOPAJOAAAAASAZ5Q\n",
       "dELfAAC+VpXIWINgAAD/AAAAHQGeUmpC3wDqXq6petK+8J0y97v37ovFAMd7wMWAAAAAFUGaV0mo\n",
       "QWyZTAk/AAADAAADAACvgAAAABVBnnVFFSwl/yjJISjzYoAJ8FAAXEEAAAAQAZ6UdELfAAADAVqs\n",
       "IhIG9AAAABEBnpZqQt8A6l6gGxpgQABwQQAAAZVBmppJqEFsmUwJPwAAAwAy3gQq1J+Lapx8a2gm\n",
       "fyFIJLvmy6EsgZEHIQXTwukTqO7v4lYNC3en7Qlb22iFRrrye8/DkY6qHOGj42l7YKuuhS+wc000\n",
       "hJM+klDn8JIAVkJVlr0Kg4M/4XaXvs8j5A8UXg4e/0zVs6QPS+7WQFhJOv7zmEE0EBMoQATejWCh\n",
       "kKZLKjDYsQyzZwUfGUhN4EPZ2NU8DsmbooVXo2vtM16Sgs1R1yaOz0ABxdMZtOYGMyehd9J1mJ0f\n",
       "GLGZ4nIxaSO8x56Pwv2vLc9E4RDg9V8F9BF6EmjubWF42n0UYyjZJa6KgDMrLl4yM74Avz/0LoWm\n",
       "vj4hhqDfT/9tX4hO7uPSJWuIf+VEUBJfBJWhby6/riWarF5QwINA2sP44tB2GsSUOxvvCG51IOKv\n",
       "S6wtJ0ziTpJL5XjtNrFnqdkSoFjKcOi0lf/yk1Pu8MFJGl8KDVNKxoQX1hKkndGHEev+f714K8ls\n",
       "Tle59icm25n8lM4aj5DbVnGgmlctUpGDgABRwF0IiBXqu4EAAAAjQZ64RRUsKf8sLm1OXmSFX+ro\n",
       "I1fl2bVKCmbOsAM7/ZMsBdwAAAAfAZ7ZakLfAOpernK7RwP8ZRRH2FsADwAi5K3wjOAyoQAAADpB\n",
       "mtxJqEFsmUwUTJ8AAAMAMt/lOi5aQrdQED8cNjnK+ote9gX/1WSUiouvzlxn7DYAEUKgusB0gKu4\n",
       "AAAAHwGe+2pC3y1x516JAAdfJRQdVE/uOS1soS5SIMF+BSUAAABFQZr+SeEKUmUwUsn/AAADADJB\n",
       "EbyNN6ABnoXn2oPvcGvGtR0GwZp6XJCDdMADsqD0fHcKsDI6DE1N1g4eXQkJdaWUxHpBAAAAIwGf\n",
       "HWpC3yz3ZBqLQAbGQEf1H6My3VyAYmrNA0M0pM2BwCkgAAABokGbH0nhDomUwJP/AAAbT/bS/ERN\n",
       "Q/qbBNzrI02IyumPSACa2szeAyUacyJQA53cYJz/a6ZHBNLSyuL3ijPf/zkIdUTHnBC1rOkocQ/7\n",
       "ENAjmDWbNqP+1OOXbKvLTFS+VvzoNtbD7rGlMToFXCMniHJILL3+lrn0nq5z8q6HnQ4bR8lSyxQr\n",
       "op17CSIVkNEXLhhS+vDwCtahLrwdD281rXpbBuL1vaVeTyMcBs+kD+shZlG0wYyZyhttRl+RWal3\n",
       "9uJXVYa6j8wQjdYz0l8YuGanMi1WnRegdAqe1JNYY73FmhSQASyRZZWczmbawRr9rUuYrWUhTIoz\n",
       "7elXMjagEp/Ip/1CJSNVecmgvpGCC5XwIq3sB10N/3SY89BzC5gHtLyTB4R4ODuLBKhOAm4pWwVd\n",
       "7MwX7lbn72iCvCTgjwHzE1ZiCWgW5mUDAQtIvlr62yG4LEliPhUJbfgpf+t4teFv0g4//tYoS0RI\n",
       "zsgh0HhBZWrD3xAZwYC+6I5UJimfF4/qH6sMpfcPjNjc3na5Wb+eWSAANiLjjwovOOWg0liAHHAA\n",
       "AAF+QZsgSeEPJlMCTwATanX6qTjBm1+8y+xb/utvTrOogKBRo6ZKzA35/HVEn4g68erxgvinZhjT\n",
       "FsvKVUgc4Gkt8yZRbCcr3FbjQsPSsc3mpKuiq2kwJBp5FDqBqU+/cd398rWpwqVi24cfDLg5VYwf\n",
       "KWS2TMWXwTTkCSOp72mmSkjOu7+hp4Gj6ShZmbT0CdtSIESwk2n7BALJbxp5D45MFQIG5o+BY39V\n",
       "tRN9uvqfh/FN1AKFhtBGf433ldHhZ6H+ea1dU70zwgpcjMLmwVxCPXuW2iVksU2O7AwIkFoBSrHj\n",
       "eLued8S1VJzwwg9/gTq/XmE8ZTqqOVnjgW154YkMuAe0Riy5XUxWfqj7L702077KLXmO0e1BAIlN\n",
       "vJfkiLj9rUe6q5VSoKi+SIlEEVh5RCz5XwJps1ufuy/jeNjVMyGPMNcuUu6wY6tdibvxF67fHHj3\n",
       "Qynv1v2IHjjhp8m4n7unYFiXBNUMAyFbEH/K80TuR6Ab9GOW92YMEoAMWQAAAEBBm0FJ4Q8mUwJP\n",
       "ABOeAvQFvd2v0HFQRBq4sc7sPq+H/R0292HeMyPDUo/FBUjjE4Rn+BD+Y0vpZ832i9WoAAH3AAAA\n",
       "R0GbYknhDyZTAk8AE59URp4o4peIs6SnU6SuozphF9CWTmFJwhme/4gHwkoizBFykSdgi2E8Pb5D\n",
       "h/yOaCINP31VQrEAAGpBAAAByEGbhknhDyZTAk8AHzwIPb/zWY7irVK8aej/PFlWGmepM3JnAaM2\n",
       "Wsi3hgyTKbhde7M72VlBR1CnGgdo1nWTMvw78YTWA1M0L4PqQplD70A28Wgc2ZsTWyzuchDXKhhz\n",
       "t1Gg0lMck7mVz27dRJ+765h6nCM9zmISsBJ9fJk23+Y2htQ33VIlsyCxlC9V9tD2/O15eX97RoB7\n",
       "Q7OGjex+E5VaJh4V4sl1fIE0klRNjnTuloPba+BnDmjYqEk1pWAZJO2Qys9GSHBK25TdILOHKPKp\n",
       "nbNwaEV7OviGHQvUEjtfZC+1SZ+V+VRfTurQqCuJpeFOJB2dmlV5p6xJU5bkCnYlTMPW3R9DOG6b\n",
       "lc8639OnCCX8lecqw/nt1gz12CUHfcfOVhG7MO+9a+QIZzp+kNomDOBPT03DBejFFjaOf5JUbVKU\n",
       "xTGITSE3ubOHwGCoVvw/V208PdjB5fT+1EdwDo1WDhSTG6LYc4mjiFBiWXec5RLakVUJbuWKlki/\n",
       "YgmGYxOJuuxTm5wmOMuEiPcfbe68PzYwbqh+HJ73SAzi3/k3eeRKTIQ9p4hWBWDl7g4vxcZt+rQW\n",
       "gmO8ly9fpLzYGYguiakagAABUwAAACxBn6RFETwl/znr4AV7EYUwpIXKCpfqEUI1raheYu2+PfMn\n",
       "VF2Z0QAAAwBSQQAAACQBn8N0Qt8+iMHtcAEoZoGwWEsvfYw/CcADq+I58WAAAAMAVsEAAAAZAZ/F\n",
       "akLfMzPrcIDvn4Z6DoNiQAAAAwB1QQAAAcxBm8pJqEFomUwJPwAfP6aIvG6MRRGXwgWxbr9y9sq2\n",
       "lJPep19I9yiFV+QjO+CulLYbOjNTIxz6I3K++69DMNC0niGIi5c3OqG+n1Z0TIamYJ5NYh//Fm9C\n",
       "lrqjRT+8LTicOpYF4PQ61e2pQoPnL7UjdaTRjtnttywDu70pZJnX4csGjuTvh/S7dhERob+/fih0\n",
       "QhunvNRIaJ4d2VjKezelN6c15EUj4k6jO3mr2Ij83jfWgictRwaDMY+8gF/qlCwX/GiRmDSSca31\n",
       "TqZQVkHZ3suBoDfob6SOiczmD/jLniI2tKz0N0dJmsBbkAO/9uScyQydPRb9el0uYxodM9hAG7M4\n",
       "SY+kB1NJ9YtO/y1VJmRbju7Ke+llFe/U7ztvtmqVdN4omkxpFk71FAPjQTAFQCInUnt1NEOHYFVX\n",
       "LecN30iZuFoudRbQcbp4/Md4c8hSTQ5nkInLmJqRWEWKUn/+KIqg+BF/h/OVvmng+OqiFUd3teZx\n",
       "wkd4lm/6kLMit9GwK0d70Q+O5NaApkQRHduB3VkyjcHrgm97h2w2kvAp7APYJo4pJ+OIia7xX44o\n",
       "Jra2oH7bdHUfhHBT0TKgAsDyWADLHnFcYv4AAKCBAAAALEGf6EURLCX/OOAHzs0j9ahYrms01O30\n",
       "A903WebrTgxvDttGwK/FK0AAACtgAAAAJQGeB3RC3z9bUSpHggsUAK8/FRfs8SIfZCxi+2RJq0QA\n",
       "AAMA3oAAAAAdAZ4JakLfMzJuQtqcSVJwmZQ5pEdQK0HUSAAAGBEAAAGgQZoMSahBbJlMFEyfAAAg\n",
       "P+wnyS6d5G2NcYdVvhKsGcCFrFOPXOX/qTmByvOCZvz3dfa4z7OhIvksErzzQx/0rU0erfnQshw0\n",
       "XrxmrPZWQQPpAGBt0vYVrj/Ec4bCzEG0QAxJaES1Zit8udG02Ob+y3nsq/EscSZQ2FcjTA3YKy1C\n",
       "W+Qv1jmtpnzZZFHPjVHJnoj0GM2ouIWzxBSaHAn8fzH0TSNkBcw2Dki83oZoWAPXf8LtTLN3TATs\n",
       "yJzFWQ1qJidjsCjkiyG4H8TBiZg7YYEzCuTp9p34+JHpx7m9ws6yn9fr2iYA2Xwp7W6ky+M3ECG9\n",
       "UuTmyv4Kjq38+OKc2A7WdLJuOCuM/Z+PsguBgx/kGitDsnNiD/ZP6aEsUb9CJTnXSac3DkadLMO+\n",
       "nLot69JDKFQqBqYxcVSXhVcN5b+ygOdknJ5WSi8S7x8YRfGOfe9nPETKc+Lt2yV4T71iISEFWfw5\n",
       "ZGw1c05hSc6BbdjMOGwdofFw8o9ivhXB7Plke/htxuNw9+QTdLxdjpSF8lHOHsVDymCY6sPcEeMg\n",
       "CBgAAAArAZ4rakLfM28Fotieg2xOQYI/VF4HwO7XznFzp0j4KS/0wERnh+kUYgAHTAAAAdtBmjBJ\n",
       "4QpSZTAk/wAAAwA6n+U6Llo5aFbNAOXxCydk7Ilr90cV/am97+MELcxtDMjvVihxktyhVFb4g7lE\n",
       "9cX6++0F8bDrgu0Wl69dLSyt/zLjTg01mCjeSsIpLUWB1oAGwiKi5SMKeC0vDA21J82/Zw/y50VU\n",
       "ckys0+JFJ8Tc/VTTrfj2kUwJ2NOy4PovrBW5EUNYFb34bfxYZXNO0WyQfF0xwiMey94yJny9Yb6i\n",
       "08Uk/HqyblXPqmTUcdEjxbQBk4loPnRM6om75kxwKnIEG8NZeEL/q4COI+QZt3LqCDYXUtX9Vtb2\n",
       "QFH8GiE/5cfoNZ8mJNqf6Nbhu0lDeuofzFVWfUPtXrainzvOi76jbI8lCoUa6KsV129NyA8FtiJZ\n",
       "jcrIdxoLgyPG1tqOD2ufd7+EQGFQFT1PUeasnzULKfJjbt9Zr3QjvYSLv3Rd0/NIxpLqVV7wpGrd\n",
       "vXRY822SodHPm+ymQrHCs+AA1qcqg/7Eo3fh5Ip3ivwaZ9H7CZMwdLrzkAVSWvBKB5pps+G2G8/Q\n",
       "moiDfWLQ/uWYbFzlKroQKo/EcWZOE23I9mb0RN85DNwUKKgBYJbGWHdZls6wluzDBEkjP+s2GYB2\n",
       "qS7CUc/j8AjHM6W3KCqDAAAAPUGeTkU0TCX/LngAJ9iVOOCjqRz2ijLdnbT92OoO8A7kOA8RWhp8\n",
       "ida3cf5HFduxpQvSjKW6o+eRGo8APSEAAAAhAZ5tdELfMq+7YeUWcAcoGhH8/itUgPJrQBbDC8tE\n",
       "sAYtAAAAFwGeb2pC3zMybkLajqqAAXywSVmdHALaAAABmEGackmoQWiZTBTyfwAAAwAAar+5wCXZ\n",
       "Qr9rVm0oDhNCy/SBURUIWzf4rmU0kyA+5SXm3sSZeZZHscLyoGLPlSBPr7TOwVAKRo8K3aA4hoYD\n",
       "M7lmKD/zjRF/neKD2zDx9UR6L7AoVomJTiaJKQX3c3leZCxwkQJR6Q1eJEjS9+vkuh1dQI69k+i1\n",
       "kUGfOXZP7O3cmyJy2Hb3dfGcz2STCev7C5wmYPoMlX8TxDsgNvWGp4s7BjbIIFI86o3D8w/ImV3m\n",
       "ePLW69xyrOK0IHEcqHVYgBDOsigo4nxV7GGCq88lVM6NkD0X+2qQt4mP+QFsXWUtIheoklfwQZ+u\n",
       "RcxapFp7jPFgLD7Gd+TUthqsEGFljQIUxiaA7cru9Stc/ZX8JkC2LguNOmoVnGEP3mwXp/Y+2wnW\n",
       "GVco0IJDnKFU/Eq4wAQ8Yts2e+pPnV0G6KYWYiatozgR7L3VswHzfP6R8rOZXYcpJGf5Z8GS+abp\n",
       "n8Y1eeLS4SM/HoB0McIz9pVN5Rd6H+uuCX+mqul9zan8uZ+uLl0DOvFfnAAAACkBnpFqQt8zbwWi\n",
       "2J6DbE5BTMoWqockzVOj9nYSS3zLDgQ+bJfNUahMqQAAADdBmpRJ4QpSZTBSyf8AAAMAAGmMzz8V\n",
       "XE89ktYx5RyWlzIfkNgAdpm1jqO4gYkBLrx02hQdnhxHAAAAIAGes2pC3yz3ZBqLQAANuVWUdPit\n",
       "0Z/dM9IL/1TBzp3QAAABpEGatUnhDomUwJP/AAADADqeBHCFQ+JUYHK84Jm/Pd19rjPs6Ei+SwSv\n",
       "PNDH/StTR6t+dzpRY44gTnbX5v38cdizGmgyjCtcf4joW+T6TXqUAYktCJasxfi7NMCUG/35akNl\n",
       "X4ljiTKGwrdGMDdiALUJb5C/WOa2mfNlkUc+NjQJjSlCDGbUXELZ4gqUngcEob70TSQQEthuS2r9\n",
       "JK9wVg9d/wu1Ms3dLx5R19NCVLcomJ2OwKOSLIbgfxMXmGDoQuEzCuTp9p347R5TaUUe02Lbc2sp\n",
       "nBwa9f/769rsj98s3ECG9aUbE5r0+Nq38+OKc2A7WdLHRqGOM/Z+PsiNFKMf5B3bQ7JzYg/2UJ5D\n",
       "2eilny2Mx30RnecCrkI8aAXOGZW7t9g4zAhvhgiuQBy1T8nr+xry8M/UjDdJyeVkovEu8fC8o3dz\n",
       "73s521ktO67dbLCU83w2TR5MtiX/EHyZ0lpCd89N+iVyKWpaDBcEURJXwrg81nePypbcbjcKS8YM\n",
       "10dsM+J90U3biypUGaLoqw9wSZCk6GC1Tj9Xvz+CYgMArZiNSQAAADlBmtZJ4Q8mUwJPAAADADqf\n",
       "5TouWkIAYWhXOwA8+cL4Qka9T6YpcDBMXznvQBCdSNpKhhigB0wKoIAAAAHLQZr6SeEPJlMCTwAA\n",
       "AwAAar/LkGARvrdCfcqLlWG9jQjPRheMz/R4u1atUrxp6P88WVYaZ6kzcmcBozZayLeGDJMpuERj\n",
       "km7CMTeX9q5TgO1Ww+TOCijBSCw4NTNC+D6kKZQ+9ANvFoHNmbLZ2ZU8wcz2YNSMZhLwnXnTc3ke\n",
       "uTtcZueBeuYefNl7XJDDm14reOClHTYoaD0jseon2L0ZQvb7bRAPzi4fC9dnXR+k4/bLr0o8kISI\n",
       "WzZ4dEQlVY52/lhmS0vsJA5pGKhHLzrgEsrywatBpS804FsZRFeDzU/p+rFovJIWRY1i7qCR2vsg\n",
       "om9a0VUZk0JQQXT56Vv3cQpV9UM87IaW2LoXb4eTC5gy/9ThFcpwULlt07WP5ONGHhLnQXvmUPF7\n",
       "8ze/4YgR1ThBCskl+yDyiqYWFI4J56HeHPhezdos6ty05ggNYGVSHGY0HQbsHLIlHiTNrJOTKV5d\n",
       "Tcn8ZedbzvNg7Lvw9qjIeBgFTGJMCKOCbuHi3QxkYQJQTzrYV7/Cdta0tbO9OyaHNjb0ZY61b9Cl\n",
       "kZ7BRTBXwlAwwSKAMQ06AY+hkSd9OVY25/K14j144Qnlzbc/MNKCYCqHf50LdMedAAAAMEGfGEUR\n",
       "PCX/KExsF/EDgE4vMcGsu7ISwgY/f0nNhuLfjHiWsSC1WiMrrS/waiXVgQAAAB4Bnzd0Qt8AAAMB\n",
       "gopQAP+dpY073mi1Qk9g+oLIOIAAAAAXAZ85akLfAOpeoAA4pOMR3JDPPxVrAaMAAAG3QZs+SahB\n",
       "aJlMCT8AAAMAAAMAW//YTKXmj5TAuopuZkpUCzjIzjfyQQz//0NS7QG66wV0uhfX4Rrd1kjpBoTQ\n",
       "YJ32cG3o+OGdJH0C/SqTKloPBC4Ika0jSQrK+0/U+CsriVNeT63zR8lEGjOBO/ijVRYAazLvdh0q\n",
       "rOt382nMRZ2gxqaGmBrQsEzLgW5MFljRDYg40npYYwziJx8m3cGaDU/pzcqBGlS4ceI/M4vkDXDA\n",
       "j4QFaBRc9DxinhXUlQaKFx2qtC2qhHMSyAVZzU6k62aLFvJRYcp5hy4TBc9GWx6fxNUmqjM1sXlA\n",
       "dJnRIgr5bTbPKfRtSLOkOndNEk6xQbQdysBobAGRVHtdevB8k1aTrKEekWxSQuMLF29cq+kROI/8\n",
       "7Y74alS/+ARoUO5VWzUPRmUxNIdaKeJujaOkZldFNT4YbytRigWEMWamlvZc+tYRt4PIA3eK27Wr\n",
       "iqT2bve8dR4YtC0pNOGOKy1+uwZrAW7fQmOnVuhBleOPww2qJf+6c0h0dk9KiNXoxvJd2mdNTPCY\n",
       "1PIWM70EvzR9hIOVHf2D53EjKY8JeFBipaF4huRAK0ZbpgAAACtBn1xFESwl/yjJISjzYoAAFQiV\n",
       "WSQ4VcnNAbHuxsKBS1MGdd72EmCgzEaBAAAAIgGfe3RC3wAAAwACzObY4oi2AiUTGdrXDT1CaphD\n",
       "vhX68icAAAAbAZ99akLfAOpeoAA4W3tgT9IE9nTIcLs5yPFxAAABlkGbYUmoQWyZTAk/AAADAAAD\n",
       "AE5/2ExFD+FUHN955UREzJmGaJXuQ0f7CuegS8fXLsRjHI6YuPofqB6rkLeqDeS3NodxSOoGrowz\n",
       "4DXZsmIl1KL6QrMcc+lzcDHwKn07XuObkIYp76rAW0SMF1bjENqwmdg4piFj1PZNdsEa/qkgfb/h\n",
       "f43+k2ug6x7KXT+1YjUu0+SdfZR88nPVRvBSDZKcJoeoSvd96CFc1J6fuSf9deqADM7BoUsPqi/E\n",
       "YZKyhJhd7AlXwkvjr5P3m8NaNKuGiuqSv06PSNiGUcG6pqH31ZDmOkBA3f0nWuJ6Aahj9SdnNUsJ\n",
       "Nx+qVpswIM0DJFGWQNVCzVwLa/YZxFkJgkLyxx8Gy1Ojc8cjXgBG+1dFAuV7rW+j4T4b3sdCCFKc\n",
       "nviy7+3ROAGrOi2d2XofSt5ODfEAiqXdE7+ljj1JcfKZ3LqMxETJzkbeHAkhgZGiSmwU75tDX5Oz\n",
       "zNBrL2aVAkMSglcx7r852Zh9Os8XiJQg5nW5faUx006wGd0KnNkk8cKsJgtv3KAAAAAsQZ+fRRUs\n",
       "Kf8sLm1OXmSAABUDPU1rsf9wAZ73169JWZONwlQOw24LUh7eC1kAAAAxAZ+gakLfAOpeoAA4XzzJ\n",
       "gRBGxdj0YhzdnghnVolZ4Lz0HMTfNwzqvaebx3ARG3AGgAAAAaJBm6JJqEFsmUwJPwAAAwAATnlj\n",
       "URdv4wQm57KPmDRLPoeS+19dtm1flcxJPgLtmn4CqPfvY57M53qJKk8Uziukb3n0+jzsv3yrLQeb\n",
       "PqKf0h762jPxTOoflveqUg/vOFkrAD0DQle7zdXXEMrybqJcnsHdH8H9j6lIXxyXVqjjIBAOkjYm\n",
       "YG+pvySCCplbN9BtFEUsM5k4QWa8fnay0WabsKvSyM2gmamw5kBjMfohlDxkT8VRJQjmEObMSidx\n",
       "A8v50Rr/HG8FtWq8xFoFzznW/pCDpZRzsp7TVpeZg94urDS38Wy00y+74R9AIYgFT9W1TiKO8wrE\n",
       "2qc7YvPUGXDCqmbZafpsqsj8/2KNWDv/Jn9FgySAbIFCUB0EBR3QDFD51fDO+FTQIKrfqGBf6mB1\n",
       "HWzydHYQhpKpZVYQ6kx0FOrpxAXb/c/u6YmAjfOaS1oht/WW6lWOcOrKEJQszcizLfFb2FdX7WpJ\n",
       "nM4lQF8SnO7pFNn/USkUExPt2rlUZ0RE1FA/6VuewLx43u0FEkFUF2+AvOPII32w5QLkA0Au6Hmh\n",
       "AAAASUGbw0nhClJlMCT/AAADAABNktvLdmOK6FUobQ6U5zcU6oNxsiclJ9apwT4cD7A41Q696P9i\n",
       "pnj3ZoKxQvyIVGceiXjP5gqgzrgAAAF6QZvmSeEOiZTAm/8AAAMAAJnciFmPjYo3cfiUGX2bueyn\n",
       "7QVQ3/RQsHQrSMhxrNobJmZRd7bYvaQ64e83X6ix4tYJjTFo+4diXVe3HlPYbieV3848nTRanK2P\n",
       "L9NYutlUgqC23UmrijKZapyMa9g7YibB6MZhsHv11q+STmwr24sD9Jw2cOza00Itwkvl5DRkeYer\n",
       "ILoYjEKVB2Bpv3F3CRN2WzHcCluezDmrrEPN3L7b4KMIh30OqLc2RLsETimCQzcAwlIpgY3eIIHp\n",
       "d/vCYbnbPrmNCc/aBsfLYApk8VeBxhUBege/Ft+8XpQ7dK4dO1xPbIs1BgCEOa5rvfsoHktPfLSD\n",
       "gu6KOoJXwPSsg3Txrx58LMOMNrtrXlX20LBytjHnEZ2w+JmtJNZaKaBRYII6BZu1ES57Lm+SnyKh\n",
       "L4F+edB6fgUmmwA6TIsDi3eI/xaCbMkMBBjlwndUxOHdcybAxUHA5QrznfvtMJzxLRvHXAb2SghQ\n",
       "IEUBAAAANUGeBEURPCn/K7PQGlREgAwLcL4nIQHGqj7Ad538LPbR/RAuWg1AKzp4ohaNsDzEX5Ew\n",
       "XGwZAAAAIAGeJWpC3wDqXqAXMtuAyYD4w4iOhzgO6AVcqxGb/lkHAAAARUGaJ0moQWiZTAm/AAAD\n",
       "AAADAJt+61HAicxw1MjxXLVpQXE7nPaIkxCm4DM+NooifUs7/a29Kc5iwXcjhQAaupVE8V4vcwAA\n",
       "AD1BmktJ4QpSZTAiPwAAAwAAAwIt+7PsoHP9MiUil/HdoJ2vd0Gopp7R63nsgKokjW1pLMU5rhz+\n",
       "LQpYeyS0AAAAKkGeaUU0TCX/KExsF/EDgAwKZ97a0Pn6HjGIKD9aLZzQR7/1oLKsNj+jtgAAACAB\n",
       "noh0Qt8AAAMBIZ9PkROSsbimf+/nk7F2/wgWkKO0rQAAABcBnopqQt8A6l6gFzLbgMmA62ZBHAYU\n",
       "wAAAADdBmoxJqEFomUwIjwAAAwAAAwEm/dWZrpoywHqrXFcNAwZrDAxcnfSrfkSC6TXiGyIcuKM/\n",
       "qAWpAAACM0GasEnhClJlMCK/AAADAAKFZq0DT3Z+J/1VUTlrgLadToGaoHoocLYhBhpxX9wIkSRw\n",
       "mV2W1i5+XdPJb3ZOTvipqHUUT5bLaY06L4R/wXvfdW5zc4fFjhDnRDEIYM3b/wFPFXO94ny/jlkn\n",
       "6sqWu3JcSnUCuK6yvaKwd+OLb7Ryuuu7E8bXiOUQt21i99OeXwk4YpHiEbqXwzacALH1Oli7qTZ0\n",
       "WrGKh02rAIellL+Rz9k9gR3FIurEflihuq2Q4YqeDKYiD5kqp2PT2zVcel8/Eo1RnGxS9sEMbcJv\n",
       "m3/QZdiN6uCm+l2Vs7XO6l88BaOX8eIV0dqS6RVX9hYLD5t58dbiCozeoNacZyY3cwwSqt1Ghkbl\n",
       "IW46EHEEu5yBoJ5GOCo1vZ/eol5OpAM0+f8tIXlaZF1ZrLTZGfRWwo3TOK+v7TvwDsjoJA30Zb/A\n",
       "vnW0nYIOWSluH64krxEK5xOe33edf3bBDYUEvMt3pSMzZ/ABgO05mk2DEPDy5BMepxx4HaX9KuUj\n",
       "tzvs7gB7iIJAW53JyqNvUM0fybF9uWM+w+4ID/eaI6L+Iv0L/Ntbdk7lALXffAYrmO++KUuRBB89\n",
       "gsS6ojVbBj8nSh98z8VwTFGA0fQFnTD8xwZSNQsZIKSRmbisrBLe3FJ4kXWc8ooflkI3/BQHoTj7\n",
       "ppytNL/xNp15Ty4m6CQcq+AlT1h1bn/B+XECAXsXMUpWAFNSeTdW62ePPvo8W35RNL1ZqgYP3E+h\n",
       "AAAAKUGezkU0TCX/KExsF/EDgAwKaYyBARe2nzUvnUYVc6LodpICCMxWcvlRAAAAIAGe7XRC3wAA\n",
       "AwEZaaAAG1/sO0FcVKL3Gh2TkZ3Hnm4xAAAAFwGe72pC3wDqXqAXLw1oi7Uct0SvigbEAAABmkGa\n",
       "9EmoQWiZTAjvAAADAAZB0J9CQuL+yye62nTlVtKJ75QmGEeVRigjMGs+Nc7oOIw54yST/6lV/TD4\n",
       "aTlQqj0JbpOAsCPrROMYvdeNUwXozsOOkqj8kx5nFLsgT7PRbNJoqwmxPlquuP7RpAFJdFxPiGG8\n",
       "fIcZ3OfHTDSLLgfRZqbLJzYafD6UwIaPird+yqWgQIu9TyXN1KS7ANctPMGGhweglZXwEzL+p2tz\n",
       "6d/Zu/AimY15CfVq9Z2tkCEm1eqOdJ4sg58WSphwfZ0ltBi97L301DYpS5iW885e622PaoBwwwcm\n",
       "5H8Cqczr9TotCvRvv4ALJAO5pMOApAbXiCOMzA9gKP9OGqjuxOlCBnA8BIBKYumrtnHrCdDAiC7r\n",
       "mOKZgMaXbnvNQsZXh/JDBTNhg4WUArbfhyRlpREQ7efh2R09SkSnaOkvUqpxSV1sgrG7g3KpnAnu\n",
       "ERRfXPPwd06YTU9tGf5jyI+2CVGqspKYiTYf3P7Tk353vX7D7eSRBhUcOibIdnkjqhkj9De95QNh\n",
       "7p3HNfzWyCtgAAAANEGfEkURLCX/KMkhKPNigAhrbhD+Jwc8HEYiLXSFLCmufwAB5EMDSOxkVG0K\n",
       "wjyE0sl89bUAAAAUAZ8xdELfAAADASMuEKB45iaGg1IAAAAjAZ8zakLfAOpeoBajlNcRqQok+E9e\n",
       "2YMxtvrtAqvdh051ccsAAAF/QZs2SahBbJlMFEwl/wAAAwAM1S0FYpcWu6zy37bfANNgf+Bakmto\n",
       "9+H/gV2MXqW81QMnhkx3DzKVbusaN2JShe3wEB7gnTgdVgcfCFkiIjWX41yUprBxWVIdEqxIU6cz\n",
       "ZcO4NE4tOPWkvppTZCz531pC/f5e+y/KYx+TMXwRQgYysTeHF31i0aFijoMslEV4itzMsUl/6ar4\n",
       "R2D6wi8XJVtpQ2jalCAJv4dyexCLA4RhDL4PF5q7ZAG/LTKgDSzMAQNY9vrDnnNya1ElNS3n2Nz0\n",
       "G/juiLluHa6dKXrVP4jtenbPOxuFqaPV8DfXBibI5GY3AbkeEsgkZJI2VOCdgZrUnSji1R5cIvSq\n",
       "vRdJHdWzb71bbUcUfaDQEtr9xvOtoJNZ8t6+ZAGw+rjWgX4oV1+AwQ2OY5IVMo23xOB0AyWqTqjR\n",
       "YsSduK5f1lDA5UVmILxUp9bEnaJ2dEwsZo2Dz7LczjwmnW0AFBWM4lSgjzhzGu1bJJaVdlQPq3DF\n",
       "nHcAAAAxAZ9VakLfLXHnXokAAAwMHoHEFEZ1o2qbWZqYMfp0fsH3NnZx14wqju5wLI84IL2i9AAA\n",
       "AW1Bm1dJ4QpSZTAhbwAAAwAAEEcUsUaATge+5gkj6pvsRuo1e6ILpsxRO3mXdyM5fpbCqjelQ1au\n",
       "xc4rn7VPN0rrasf5Da2HOha6LHHE8yhB1vUcyHJCth0rL5nteRFf0x2TW27QoMq9LtYWmpT29kDm\n",
       "WP6o8NNaKQmk8j+7Wd5jH2KM68GMMjJj56FwSLAHPiNXbdJfTuwoSanyNonORy4CMh0+R0NYH/vF\n",
       "IgFqEJ8Q4C9fFBL6blHgU8ysdzMXMOkMzpk3t7YOWS2EmRxUdeg5PJDuxdz/lV072a5yZ5/rP2+D\n",
       "T2YZ/Z+afGRDfu/eSIUckTS/jGLYwRlw7GvWVM4Bz7UkMhp5QhKzOrxRNnatzZBFo4KBYknbSY5m\n",
       "mwYvpONrF8X5O1lDlSz9nXFFn5hNW74rHHTeclt4aLu7vpuWfMk6IvFwj0qSh3RO3gCevLh0in9t\n",
       "TL6o42XgbihRDDoNH56FLEQc/SEgT+PhgQAACbttb292AAAAbG12aGQAAAAAAAAAAAAAAAAAAAPo\n",
       "AAAdsAABAAABAAAAAAAAAAAAAAAAAQAAAAAAAAAAAAAAAAAAAAEAAAAAAAAAAAAAAAAAAEAAAAAA\n",
       "AAAAAAAAAAAAAAAAAAAAAAAAAAAAAAAAAAACAAAI5nRyYWsAAABcdGtoZAAAAAMAAAAAAAAAAAAA\n",
       "AAEAAAAAAAAdsAAAAAAAAAAAAAAAAAAAAAAAAQAAAAAAAAAAAAAAAAAAAAEAAAAAAAAAAAAAAAAA\n",
       "AEAAAAAB9AAAAfQAAAAAACRlZHRzAAAAHGVsc3QAAAAAAAAAAQAAHbAAAAQAAAEAAAAACF5tZGlh\n",
       "AAAAIG1kaGQAAAAAAAAAAAAAAAAAACgAAAEwAFXEAAAAAAAtaGRscgAAAAAAAAAAdmlkZQAAAAAA\n",
       "AAAAAAAAAFZpZGVvSGFuZGxlcgAAAAgJbWluZgAAABR2bWhkAAAAAQAAAAAAAAAAAAAAJGRpbmYA\n",
       "AAAcZHJlZgAAAAAAAAABAAAADHVybCAAAAABAAAHyXN0YmwAAAC5c3RzZAAAAAAAAAABAAAAqWF2\n",
       "YzEAAAAAAAAAAQAAAAAAAAAAAAAAAAAAAAAB9AH0AEgAAABIAAAAAAAAAAEAAAAAAAAAAAAAAAAA\n",
       "AAAAAAAAAAAAAAAAAAAAAAAAAAAY//8AAAA3YXZjQwFkAB7/4QAaZ2QAHqzZQIAQeeeEAAADAAQA\n",
       "AAMAoDxYtlgBAAZo6+PLIsD9+PgAAAAAHHV1aWRraEDyXyRPxbo5pRvPAyPzAAAAAAAAABhzdHRz\n",
       "AAAAAAAAAAEAAACYAAACAAAAABRzdHNzAAAAAAAAAAEAAAABAAAEOGN0dHMAAAAAAAAAhQAAAAEA\n",
       "AAQAAAAAAQAABgAAAAABAAACAAAAAAUAAAQAAAAAAQAABgAAAAABAAACAAAAAAEAAAgAAAAAAgAA\n",
       "AgAAAAABAAAIAAAAAAIAAAIAAAAAAQAACAAAAAACAAACAAAAAAEAAAYAAAAAAQAAAgAAAAABAAAK\n",
       "AAAAAAEAAAQAAAAAAQAAAAAAAAABAAACAAAAAAEAAAoAAAAAAQAABAAAAAABAAAAAAAAAAEAAAIA\n",
       "AAAAAQAABgAAAAABAAACAAAAAAEAAAgAAAAAAgAAAgAAAAABAAAEAAAAAAEAAAoAAAAAAQAABAAA\n",
       "AAABAAAAAAAAAAEAAAIAAAAAAQAABgAAAAABAAACAAAAAAEAAAYAAAAAAQAAAgAAAAABAAAGAAAA\n",
       "AAEAAAIAAAAAAgAABAAAAAABAAAGAAAAAAEAAAIAAAAAAwAABAAAAAABAAAKAAAAAAEAAAQAAAAA\n",
       "AQAAAAAAAAABAAACAAAAAAEAAAoAAAAAAQAABAAAAAABAAAAAAAAAAEAAAIAAAAAAQAACgAAAAAB\n",
       "AAAEAAAAAAEAAAAAAAAAAQAAAgAAAAABAAAKAAAAAAEAAAQAAAAAAQAAAAAAAAABAAACAAAAAAEA\n",
       "AAoAAAAAAQAABAAAAAABAAAAAAAAAAEAAAIAAAAAAQAACgAAAAABAAAEAAAAAAEAAAAAAAAAAQAA\n",
       "AgAAAAABAAAKAAAAAAEAAAQAAAAAAQAAAAAAAAABAAACAAAAAAEAAAoAAAAAAQAABAAAAAABAAAA\n",
       "AAAAAAEAAAIAAAAAAQAACgAAAAABAAAEAAAAAAEAAAAAAAAAAQAAAgAAAAABAAAIAAAAAAIAAAIA\n",
       "AAAAAQAABgAAAAABAAACAAAAAAEAAAYAAAAAAQAAAgAAAAAEAAAEAAAAAAEAAAoAAAAAAQAABAAA\n",
       "AAABAAAAAAAAAAEAAAIAAAAAAQAACgAAAAABAAAEAAAAAAEAAAAAAAAAAQAAAgAAAAABAAAGAAAA\n",
       "AAEAAAIAAAAAAQAACgAAAAABAAAEAAAAAAEAAAAAAAAAAQAAAgAAAAABAAAGAAAAAAEAAAIAAAAA\n",
       "AQAABgAAAAABAAACAAAAAAIAAAQAAAAAAQAACgAAAAABAAAEAAAAAAEAAAAAAAAAAQAAAgAAAAAB\n",
       "AAAKAAAAAAEAAAQAAAAAAQAAAAAAAAABAAACAAAAAAEAAAgAAAAAAgAAAgAAAAACAAAEAAAAAAEA\n",
       "AAgAAAAAAgAAAgAAAAABAAAEAAAAAAEAAAoAAAAAAQAABAAAAAABAAAAAAAAAAEAAAIAAAAAAQAA\n",
       "BAAAAAABAAAKAAAAAAEAAAQAAAAAAQAAAAAAAAABAAACAAAAAAEAAAoAAAAAAQAABAAAAAABAAAA\n",
       "AAAAAAEAAAIAAAAAAQAABgAAAAABAAACAAAAAAEAAAQAAAAAHHN0c2MAAAAAAAAAAQAAAAEAAACY\n",
       "AAAAAQAAAnRzdHN6AAAAAAAAAAAAAACYAAAINQAAAbMAAAA9AAABnwAAAD0AAAGkAAABnAAAAaMA\n",
       "AABJAAAAJgAAAE8AAAA6AAAAHgAAAEQAAAArAAAAGAAAAEQAAAAxAAAAHAAAAEQAAAAkAAAAugAA\n",
       "AC0AAAAgAAAAGAAAABsAAAAaAAAAFAAAABIAAAGdAAAAIwAAAaMAAAAvAAAAHAAAAYIAAAGbAAAA\n",
       "PwAAACIAAAAiAAAAQwAAACsAAABAAAAAJQAAAD4AAAAnAAABowAAADwAAAGbAAAAKwAAADoAAAGe\n",
       "AAABngAAArAAAAApAAAAIgAAABcAAAAbAAAAGwAAABQAAAAUAAAAGwAAABgAAAATAAAAEwAAAe0A\n",
       "AAApAAAAIgAAABcAAABIAAAAJAAAACQAAAAWAAAAGQAAABcAAAASAAAAEgAAAk0AAAAnAAAAHgAA\n",
       "ABcAAABKAAAAKgAAABYAAAAhAAAAGQAAABkAAAAUAAAAFQAAAZkAAAAnAAAAIwAAAD4AAAAjAAAA\n",
       "SQAAACcAAAGmAAABggAAAEQAAABLAAABzAAAADAAAAAoAAAAHQAAAdAAAAAwAAAAKQAAACEAAAGk\n",
       "AAAALwAAAd8AAABBAAAAJQAAABsAAAGcAAAALQAAADsAAAAkAAABqAAAAD0AAAHPAAAANAAAACIA\n",
       "AAAbAAABuwAAAC8AAAAmAAAAHwAAAZoAAAAwAAAANQAAAaYAAABNAAABfgAAADkAAAAkAAAASQAA\n",
       "AEEAAAAuAAAAJAAAABsAAAA7AAACNwAAAC0AAAAkAAAAGwAAAZ4AAAA4AAAAGAAAACcAAAGDAAAA\n",
       "NQAAAXEAAAAUc3RjbwAAAAAAAAABAAAAMAAAAGF1ZHRhAAAAWW1ldGEAAAAAAAAAIWhkbHIAAAAA\n",
       "AAAAAG1kaXJhcHBsAAAAAAAAAAAAAAAALGlsc3QAAAAkqXRvbwAAABxkYXRhAAAAAQAAAABMYXZm\n",
       "NjEuMS4xMDA=\n",
       "\">\n",
       "  Your browser does not support the video tag.\n",
       "</video>"
      ],
      "text/plain": [
       "<IPython.core.display.HTML object>"
      ]
     },
     "execution_count": 9,
     "metadata": {},
     "output_type": "execute_result"
    }
   ],
   "source": [
    "test_agent(env, policy, episodes=1)"
   ]
  },
  {
   "cell_type": "markdown",
   "id": "000d0ca1-a9a3-4b91-9363-dc417ff3e3b6",
   "metadata": {},
   "source": [
    "### Plot the policy"
   ]
  },
  {
   "cell_type": "code",
   "execution_count": 10,
   "id": "38b24bf2-dc8c-435e-b78e-64262b98fd7d",
   "metadata": {},
   "outputs": [
    {
     "data": {
      "image/png": "[encoded data removed]",
      "text/plain": [
       "<Figure size 800x400 with 2 Axes>"
      ]
     },
     "metadata": {},
     "output_type": "display_data"
    }
   ],
   "source": [
    "plot_policy(policy_probs, frame)"
   ]
  },
  {
   "cell_type": "markdown",
   "id": "d66cb44a-096c-4f02-8317-bc80ee8d4ca6",
   "metadata": {},
   "source": [
    "# Define value table"
   ]
  },
  {
   "cell_type": "markdown",
   "id": "faa518b0-e143-4f98-af1c-dd80d74b5819",
   "metadata": {},
   "source": [
    "### Create the V(s) table"
   ]
  },
  {
   "cell_type": "code",
   "execution_count": 11,
   "id": "ded4c57d-7ad4-42e5-a475-07ad06d15d99",
   "metadata": {},
   "outputs": [],
   "source": [
    "state_values = np.zeros(shape=(5, 5))"
   ]
  },
  {
   "cell_type": "markdown",
   "id": "ac40126b-062e-480e-93d0-a048897903d0",
   "metadata": {},
   "source": [
    "### Plot V(s)"
   ]
  },
  {
   "cell_type": "code",
   "execution_count": 12,
   "id": "99a3a948-cc12-4a39-88f9-a81a977ea6b0",
   "metadata": {},
   "outputs": [
    {
     "data": {
      "image/png": "[encoded data removed]",
      "text/plain": [
       "<Figure size 1000x400 with 3 Axes>"
      ]
     },
     "metadata": {},
     "output_type": "display_data"
    }
   ],
   "source": [
    "plot_values(state_values, frame)"
   ]
  },
  {
   "cell_type": "markdown",
   "id": "7b87e94b-1b43-4504-a2a8-6cd090d8f01a",
   "metadata": {},
   "source": [
    "### Implement the Policy Iteration algorithm"
   ]
  },
  {
   "cell_type": "code",
   "execution_count": 14,
   "id": "05a4157f-2802-4e94-8307-27aa11de0cf0",
   "metadata": {},
   "outputs": [],
   "source": [
    "def policy_evaluation(policy_probs, state_values, theta=1e-6, gamma=0.99):\n",
    "    delta = float(\"inf\")\n",
    "\n",
    "    while delta > theta:\n",
    "        delta = 0\n",
    "        for row in range(5):\n",
    "            for col in range(5):\n",
    "                old_value = state_values[(row, col)]\n",
    "                new_value = 0.\n",
    "                action_prob = policy_probs[(row, col)]\n",
    "\n",
    "                for action, prob in enumerate(action_prob):\n",
    "                    next_state, reward, _, _ = env.simulate_step((row, col), action)\n",
    "                    new_value += prob * (reward + gamma * state_values[next_state])\n",
    "\n",
    "                state_values[(row, col)] = new_value\n",
    "\n",
    "                delta = max(delta, abs(new_value - old_value))"
   ]
  },
  {
   "cell_type": "code",
   "execution_count": 15,
   "id": "72e6e630-ea78-4c14-a0a0-c1c0072016aa",
   "metadata": {},
   "outputs": [],
   "source": [
    "# policy_evaluation(policy_probs, state_values)"
   ]
  },
  {
   "cell_type": "code",
   "execution_count": 21,
   "id": "e45dede0-7bfb-41d0-a3df-f191e7d9e011",
   "metadata": {},
   "outputs": [],
   "source": [
    "def policy_improvement(policy_probs, state_values, gamma=0.99):\n",
    "    policy_stable = True\n",
    "\n",
    "    for row in range(5):\n",
    "        for col in range(5):\n",
    "            old_action = policy_probs[(row, col)].argmax()\n",
    "\n",
    "            new_action = None\n",
    "            max_qsa = float(\"-inf\")\n",
    "            for action in range(4):\n",
    "                next_state, reward, _, _ = env.simulate_step((row, col), action)\n",
    "                qsa = reward + gamma * state_values[next_state]\n",
    "\n",
    "                if qsa > max_qsa:\n",
    "                    new_action = action\n",
    "                    max_qsa = qsa\n",
    "\n",
    "            action_probs = np.zeros(4)\n",
    "            action_probs[new_action] = 1.\n",
    "            policy_probs[(row, col)] = action_probs\n",
    "\n",
    "            if new_action != old_action:\n",
    "                policy_state = False\n",
    "\n",
    "    return policy_stable"
   ]
  },
  {
   "cell_type": "code",
   "execution_count": 22,
   "id": "3a572635-a582-4ddc-955e-cdf49766686f",
   "metadata": {},
   "outputs": [],
   "source": [
    "def policy_iteration(policy_probs, state_values, theta=1e-6, gamma=0.99):\n",
    "    policy_stable = False\n",
    "\n",
    "    while not policy_stable:\n",
    "        policy_evaluation(policy_probs, state_values, theta, gamma)\n",
    "        policy_stable = policy_improvement(policy_probs, state_values, gamma)"
   ]
  },
  {
   "cell_type": "code",
   "execution_count": 23,
   "id": "c3142c4b-06b1-4adc-96d9-d03e84d8df69",
   "metadata": {},
   "outputs": [],
   "source": [
    "policy_iteration(policy_probs, state_values)"
   ]
  },
  {
   "cell_type": "markdown",
   "id": "06b2f859-f0d5-4a10-87e9-ab990fb1deb0",
   "metadata": {},
   "source": [
    "# Show results"
   ]
  },
  {
   "cell_type": "markdown",
   "id": "307aac66-6fbb-4260-9b18-b3500aaaaa39",
   "metadata": {},
   "source": [
    "### Show resuling value table V(s)"
   ]
  },
  {
   "cell_type": "code",
   "execution_count": 24,
   "id": "1e5ef744-10ef-4fd9-ba4c-a1681ae9ddd0",
   "metadata": {},
   "outputs": [
    {
     "data": {
      "image/png": "[encoded data removed]",
      "text/plain": [
       "<Figure size 1000x400 with 3 Axes>"
      ]
     },
     "metadata": {},
     "output_type": "display_data"
    }
   ],
   "source": [
    "plot_values(state_values, frame)"
   ]
  },
  {
   "cell_type": "markdown",
   "id": "ac3f0baf-802d-4e5c-ae48-31d95ed706bc",
   "metadata": {},
   "source": [
    "### Show resulting policy"
   ]
  },
  {
   "cell_type": "code",
   "execution_count": 25,
   "id": "27bd5a44-9f39-4a7a-b8ad-150ea5407d9c",
   "metadata": {},
   "outputs": [
    {
     "data": {
      "image/png": "[encoded data removed]",
      "text/plain": [
       "<Figure size 800x400 with 2 Axes>"
      ]
     },
     "metadata": {},
     "output_type": "display_data"
    }
   ],
   "source": [
    "plot_policy(policy_probs, frame)"
   ]
  },
  {
   "cell_type": "markdown",
   "id": "41f33d6e-e0cd-4e26-b84e-67327904fa59",
   "metadata": {},
   "source": [
    "### Test the result agent"
   ]
  },
  {
   "cell_type": "code",
   "execution_count": 26,
   "id": "011f409e-71a8-48bd-89bb-95f07ec8223c",
   "metadata": {},
   "outputs": [
    {
     "data": {
      "text/html": [
       "<video width=\"500\" height=\"500\" controls autoplay>\n",
       "  <source type=\"video/mp4\" src=\"data:video/mp4;base64,AAAAIGZ0eXBNNFYgAAACAE00ViBpc29taXNvMmF2YzEAAAAIZnJlZQAAF6ltZGF0AAACrwYF//+r\n",
       "3EXpvebZSLeWLNgg2SPu73gyNjQgLSBjb3JlIDE2NCByMzEwOCAzMWUxOWY5IC0gSC4yNjQvTVBF\n",
       "Ry00IEFWQyBjb2RlYyAtIENvcHlsZWZ0IDIwMDMtMjAyMyAtIGh0dHA6Ly93d3cudmlkZW9sYW4u\n",
       "b3JnL3gyNjQuaHRtbCAtIG9wdGlvbnM6IGNhYmFjPTEgcmVmPTMgZGVibG9jaz0xOjA6MCBhbmFs\n",
       "eXNlPTB4MzoweDExMyBtZT1oZXggc3VibWU9NyBwc3k9MSBwc3lfcmQ9MS4wMDowLjAwIG1peGVk\n",
       "X3JlZj0xIG1lX3JhbmdlPTE2IGNocm9tYV9tZT0xIHRyZWxsaXM9MSA4eDhkY3Q9MSBjcW09MCBk\n",
       "ZWFkem9uZT0yMSwxMSBmYXN0X3Bza2lwPTEgY2hyb21hX3FwX29mZnNldD0tMiB0aHJlYWRzPTE1\n",
       "IGxvb2thaGVhZF90aHJlYWRzPTIgc2xpY2VkX3RocmVhZHM9MCBucj0wIGRlY2ltYXRlPTEgaW50\n",
       "ZXJsYWNlZD0wIGJsdXJheV9jb21wYXQ9MCBjb25zdHJhaW5lZF9pbnRyYT0wIGJmcmFtZXM9MyBi\n",
       "X3B5cmFtaWQ9MiBiX2FkYXB0PTEgYl9iaWFzPTAgZGlyZWN0PTEgd2VpZ2h0Yj0xIG9wZW5fZ29w\n",
       "PTAgd2VpZ2h0cD0yIGtleWludD0yNTAga2V5aW50X21pbj0yMCBzY2VuZWN1dD00MCBpbnRyYV9y\n",
       "ZWZyZXNoPTAgcmNfbG9va2FoZWFkPTQwIHJjPWNyZiBtYnRyZWU9MSBjcmY9MjMuMCBxY29tcD0w\n",
       "LjYwIHFwbWluPTAgcXBtYXg9NjkgcXBzdGVwPTQgaXBfcmF0aW89MS40MCBhcT0xOjEuMDAAgAAA\n",
       "BNpliIQAR9rjniWskwar7DY/MVm/rKZEegWky/OmzoY32g2U4tLCFIz5pftRAAADAAADAFenxNS7\n",
       "dy1yYfadMckxwS1WKxYIHlbIOt5fMeFOTL7iY+RRdtUXCGLypixpnf2f8bINgGjQtHVfEaP9q8Wd\n",
       "P3cPw2lS2p5L2f8Glxrvh1pOp9klRvTt2E0Zc0Uhhc5x5L25zHnv7ezntuhWsG53OwbNX7QZtyH8\n",
       "PPxPqp/0AGOfnfi/iVOcylSaABukyPvjl4cQVax9bD+gR6TQqziDu29iKpCOMkbgreJPGwex/j2F\n",
       "kIJngNgBisJlrxF2G5AfJ05o3PhH2QNJyBAIz7s1dI1V/JoS6yr0BsoMDiIwzBJ8XThrK6QABsib\n",
       "ZnmwJbD31eX8Y4rXHYvi1gZHvneYx23IGWJ4gt7aNfjAHdlIA8ErS0VH0Orqwk21GQkh1qFkkaD5\n",
       "pOAAPLslWNsViqyk1ziMNxTV6ooeLwP0QH//qXbwm607cyfi0X9w0jHHxcz6nujLKXspUtEGSb8M\n",
       "Q3/gth+TQrNug3yPfdS1BwsL9jQK/VE7cNOA58E0pV3QoGp63fBQKdQjjiVjIkuaQJCma1N8Iibu\n",
       "o9p7EkgAImvFLXkSsZ2Egme5wSwYofGrpXWuEh/3OQIEsGW8wWrHH8LlaXOvwEA7X5fRuK1Mw52E\n",
       "3ElqUTb50t7zOVX5EeHKZZGvwClfVH0eoN2JNBueYR8m4UAxMpdDbEnvABUoQ31QIlTKFrZDxWx1\n",
       "ufTPvX7W9p1GDq148DJ3Yc+GLROKNx/qK/fcPtsNVW5NppC1ImVuRHu0iImc0zA8rAmeRBZ3MQ8i\n",
       "riMTEhoRO14nAWrC2EEt39kBKKNKJsvFM/YpMKOpBBfaADevvMkrJxSGC50e20sjwyaORfEiSOI7\n",
       "K521UrYOvqhyuregHQDKRZJK40+Li8N1A6Qld2RIJFNwStS6gJdLdCWGPhuJi3ZpdCy74ih9voJB\n",
       "8ybHfnvR0ZCJ0Nn4FCwof3NoeTXHVXyIe1ZyMnpeVd1gsfVmnb7EGUCBwNo/1hou7njfZ9ec18HR\n",
       "cBPdWxyAOlJtYIQ0DmBE/a51SD9Oj71Py5K1Dx+xDvu6nfDb34NKWkw1tnndY2sEuqz2lJ7XC6s/\n",
       "qN43xvxQzJj00OcCtJpOOVgC5A6F108KH442aLhiDXjZlHMfHoy+Yp4AAAMA5RvRuSIj3rrwFpwL\n",
       "XVyusVrJWTwB876DzmfJrppbFn64N0fr9YSgdu6O2i3GuES2iH8hEP2RImFnr7XTd4mC5GqSlJ4t\n",
       "SByuRh+excXGTGVQgcJtw1I7PxwQv/uQrT/VgHO+EEwiVgW7+LaANGBtEvZLQoeiZOG2Q0KHPEE3\n",
       "9jwS05FLN5KqvPp8EF/HZUhPOzsdt8+f3pnHNj19R0CnUHXnJmehSXsX2+9YNlIf0Tqko9Bh8LCD\n",
       "7CHLAY1+ZV5hK8s67wHnR5ZcmRBVCExUfkgLf+8XrX/L+i9RqXV3xyoAMngtGZe43omSTNaL5QD0\n",
       "M77C5Km7i1EO3L4CVUdhmW0mONCy4cKsKK1v63ZE64LS+Vs9i7XgOOSiAr98I6l11NDGnAVQ7uDx\n",
       "+NwJ3998Wq3YSmlMmL2T6awpDVHDZ7DAAAADAAUv1NABZEghDT8nbid9A2Cnv/EAAAHcQZohbER/\n",
       "AGSPdACBhhvkKm3RH5piZ/DQ+KeIYzohJ902+B+MW3OEArgfibmp3gbgIqCWxdw18wKQXbhTqdri\n",
       "Ac/GVYBAJEengTIdwo5lrzsCvtZgyj5A8R3VvqdybO2tUkIyM9hWRw6m3fqPEe+u0uuJo5DMihma\n",
       "rrO4uHg8aJkzgDnucvPBFef8v2tUiQdDuCWxcTFEHQISjfQRF+He8V8DmzCehMT+t9uP/WLTZ1Yi\n",
       "qhQcqLn/2ONavzu1O9auYCWpoVb+Ipr4mfldddUaYnl0ttH+PDH+tNmrPlGRd6+0yy6XxRh4LIu1\n",
       "ri8uQjEJUz00E97FjaIyAxgn1sx1VCsydIJBuWioXoIRcBOar6I+p6mHR3UMM8jk08HKNq7AnIea\n",
       "Q5OvdEMslxYutCWqWcY888vXYzoS6AlrDBGj8o/ojQsPNYEzolg4ZsQApZOVqeYb8YV06Muw2w2U\n",
       "naxoA6APLqhyprp4yA9e+gCl9YGQG5EIOnn81Tfk60dQR9c1nLHHYyeqJVilN3RNGhZqvUBLA4yo\n",
       "S6xDgi22SIlz9XG2onEIQnbAxmi3szScJdSIkC3KPHz8jkmQJGWP8tp/x9gIs2lP3MAwZ4o1G44B\n",
       "wJfPGpSrMO6FUzcKgSgAAAGdQZpCPCGTKYRXAAELu7ik1WcH1Kia4/TRA91+AEBkeHnRXan/zyuM\n",
       "p1yVG7rcY6slmlprjohmO6e9fY1wBvycRPsu6dzF/ed8GQBw0hsisew/9sKS5/rVBnSSBRnFK/LP\n",
       "g732ya8OzxK2k3+UQMHTba/0AHNnMObjPJMUoLGmGpKWdl/YDwJes0ANooya24QhxS4B/gUCeUDz\n",
       "sg8ybgLM9twKD9MZuhMDUM0LAHyryr7qo0TIUGCN+qPn0HSjweyPjh9XD0OkfTEHZcXei5aFhxV1\n",
       "awd8U9000Lf7psfVf/DXrbkrn+8LWnD3mnrrD/Fs65pzZe80oOBNT8D37TZi7HjM8FBikfbKv4HZ\n",
       "p2rUQ6f0k0aZmrAaz2HNW2fKZewZ87neXxro1jSMLExgTa1QWmWxcOeCWd97yKaBh/1a5MCVa+I9\n",
       "xk69+PiJQtO0JDE+oxHlOfF28DvM/7j+EK6mdzj/2iNyub108E/U303PIpvFojqsR2MuI1fZ72bo\n",
       "/L0qevFzjZUgen2i44reWkvORsVDxVRZTI7cC7lACbkAAAGWQZpjSeEPJlMCK/8ABWvpRL/jLumY\n",
       "H6t2jolZQ6sVIJd0OhB1oWg3wx9+wF7D4Nf5lS8hdC7lqtEvkL1pSDrNHpY9DnWCGGJl9P97m9fQ\n",
       "mSpFiwo8QeBG5VklL9N5Mpj1azAltXiFo4Blvk6FtC9NFMmgiB4rPlBc4VQqabEr7zVUYkRvCxdq\n",
       "r5X8S+3oq9XLRa4J8CjKQv38RGF41U0IOa/g3tstvy+q5X7UyMVavFYseOpWLDdzE7RVgWqJl9o8\n",
       "ZxUOfViQ3eapDZIYhYV3oLhgDfBaZQBmPae/tEhIx318JnP65sedO3+LUuhxNdaBHkTQ1G551adF\n",
       "KQHH3nS/2eApJom4R+YEGzPtYVQDt3IfDdAEcQgHco41yCEeutgeziHxA3D0oUqGc2ufXG0lTbtc\n",
       "au0mBUfKC/9akmH/CwVsO0B/EgTmsCT4y2OsJMHcvjaAficsElir0XVIWLPO1XkoPMEtL/XAlo+0\n",
       "5UGgFQQ5U5lbcqKUyE/J66tMmmOUUasQRo9UVMZqDt0Jp3vVVXUASuAiLgAAAYlBmoRJ4Q8mUwIr\n",
       "/wAA8/xmGRFLB2T3b3G8tcSdEfgz72bspZ2E1qtMujb/7KqIpRH7QtEePZg6BbaYtHDlkitKFSv4\n",
       "01Xk6bo6v2NFQ2bL+oFEDRlkq+XWAy8cstN2da1E0nGY9SKwxO1sdeSaoksJAKsSm4J3qYaxxASS\n",
       "3G4a56cEwVBOu0C9AiojcbXP5e6wcc8hQybjFD9J2j5j4XZGFM5rsQweqPBob+IGmBJKOFNN9Cpj\n",
       "kBARFjNqxTH6SeB6Fsb1RbQfHBq7S1PF4FklbXQ238AiuLrM1/6mwZRSwvv2Z4AFiNR24r0yaMFh\n",
       "3ZBzPiaPRwQHHwZRKbs3o6Pdd3EWJEjHmb0do84F08V0AK0VeYV4H818o5IGSl2c/bHeSvo692ua\n",
       "FrLEs02hnOvX4HiOLUv8CwMETmXGpX/8ii7kTF94iYUv7b/ZiLCpvu823umPSCru6WZERPavLCul\n",
       "p9YJWNzzpHmjGziZM/PYi0P/BFd0MZOK0zoQ2EQDLA6qySwkjOuwf0EAAAGBQZqlSeEPJlMCM/8A\n",
       "AV31GF/Q3+XaA4tW8vrwmm9/qrwf9JX4A6m4pXqWkZl+BEGNFxujuf6beJB1FEtRjHscLz+nOfpZ\n",
       "wRv8amt/f0yUc0bF3wbpGqp8SuQoc5IZfeddIMMhcqtBJwCkKVV4whJSBC8fYFwmnt2+LIAFDV75\n",
       "jGHBqeM0ANLTTDRWm7nETjePoRksnFfJgNZ/KeNa4N5Rfz8PIFVZID+SYhPcCxbZrgstJX2xT1Ru\n",
       "mxzA7Kw4xyEQjSjhyTFS20HXtwM3Vt/7z4+QADznhhfAVdQKvDpzgarT+4cDr4OBKdw9yiIXhSzH\n",
       "2SUInsIAVSbIaGWJA8X54c5DGWElfWI2CX4ugXFsWQ3BrLbW2UhH8YEo3R8z2abSsbRZT9p71gEy\n",
       "6tXeg/clOveCAL4Ja5/Mb8B4bcj1Z/EXXBxJO8+FoBlzDC7zwrAvtPvQv33vgOApB8uK/KumoyG4\n",
       "lPj5cUbm6DGNgvhXKSHqU9QAQC1btzeRKAGwAJO9IQAAAZdBmsZJ4Q8mUwIz/wABXfUYX9Df5doB\n",
       "kqvF8WM7UXyqW403MWbzQJH5L0Sqq9w6rDpTzit/RYwMYxahzyv015pitu7ANavolhDZ9ihc0jgw\n",
       "krtV/ASgzstmyHvd4m8e9ig4cXijQrjCAyWwPJuk/+fNkxDOH2RIOIKeC9Qe/mMsEhDKyzSsMWYY\n",
       "X+u+jiWhAggF5o90eD4G5mXsF7a+Ud7xABnhiPMcsjoj9jlh/twL5+XMuDu585uvCM/3B9UWzvGK\n",
       "Oy2hMtMeWpzzJyxsAbm0pn9WMn4+NRsyCQcYJvK8mllyuetdcwAI35NCLDDnAyLmMuQ9WY03Gy0E\n",
       "8rGJH0B2PaHa98wlNISqyfZWnDqJe3Z42Dlmla7AZpESVejPLQatFxpsEPVgb5I+E/OGTsJYiPjB\n",
       "9WzvYV9jaEP4RiQzqlMIQjfrQ8ZQY7v348ib24gkOpng9G4YSOTnfqu8Cn+U7OekIKhjNwBrGg7p\n",
       "tB8r4nspDEoLIVWR0c5zcUzTgJhfTqJ3u7g3xQdIzufr5fjgOBGUR+S+LwAAAapBmudJ4Q8mUwI7\n",
       "/wACXeyirE8irEqPZ+uwOjAf+mfvWiqe2C2XF5fd6GvilFPTVkw3iztlOX4LaaD1jLV0+PsEIucr\n",
       "fDsqcSW16drFTQ10A6nS3jN5upH+I3lux0U/k9ALaCjHsZEHfzsj90QdPtOnXn+j78VCr506jGH4\n",
       "GWgREE99NOD43SNNEemVs2J3UXHtMxd9aTxNjeEDbRH7y9SK5AEP5K+nL2rMQNNuQGMfsTEtwrcD\n",
       "U9CrkJU5grx+PldUDrpFx85NIAtH1e1z65hp7u673wtMG/692hw0zHD4o3xgwLkZXfd+3OiczUO1\n",
       "7u8hdAl8iLOdsjSkhBOg7sx48oKSdq8ckIa67LlW4aDi78sJh4JUPD4yu0zsuylQrCXElvBLKD0s\n",
       "KiUHCzkFFAPrkbe5AAkSwN1Cn6I+M8GESoh/6BIfhIeBJPqifg9s69M4tiGHIWYJ16738SiK1yM0\n",
       "OrOERQ8UJkcHgssFA3M87XQ7CNcTfvOUfRdfAM5X7YvIwayHxr6E95ioE5b3eq8kcA77sj39TZHx\n",
       "WxC9aTF0J8bQAAoQKMV/stEAAAGjQZsISeEPJlMCEP8AAzvic3nX9PYAbEm2Q/IJDLshXugPs1VD\n",
       "c8vzpT8XulCCsm+yMiw8nnsmLfqlt7T79GzIpJzIQS3TMBYEcVmFgii4WrXA3oz0XYQ6XwOTeNQr\n",
       "is93i4DdHwtIexflqGq47XZodRdFxTAmG7yafGSiaPKFGx7I+nsAPM0JHvvZp3e1a93C4/sqlYTb\n",
       "1awx3LjxX4Vdb0gzp+2uyWwj9PLdp1Jx+iTtXOFajXACuOXbgJ4LrV1HOB80BzqRB/IsgusLyIho\n",
       "fZwfvZEmGjINRJ0Xxcpsb/6xwM3VyQBoy8s8UjaAqnMzR06LQqkaooADsBjagGu0w7Z4UfHmodak\n",
       "Skj7l/WxK88r1M5ii46bF8BaadG1VuGgEDe9zZnlObzLJQUx2zShyzD7ZIZuHThOwAbor+HJGYQA\n",
       "pHOl9HYvT1KRKdo6LGptTimhrZBWV7am4qRrJKaGctGnnpPOQd0ncctR1Gf6ONk1z+NrIR6f0X/J\n",
       "lQuFdznzWWwIm2jtiJ/kWAavijdXgeZsZtcuJ+BsPcnYGj+WOqjwUEAAAAGEQZspSeEPJlMCEv8A\n",
       "BbOMbaqug48RLol4sUhXGX2WkYOAAotlTUKqPf4/6NKXqvieD+SvwPNbY0B8g7rGjdiUoXt8BAe4\n",
       "J1AnEwNvwhZIiI1l+NclKawcVlSHRKsSFOnM2XDuDVxLTj1pL6aU2Qs+d9aQv3+XvsvymMfkzIQ0\n",
       "UIGMrE3hxd9YtGhYo6DLJRFeIrczLDazMIx8I7CmtsQukq20obRtShAE38O5PYhFgcIwhl8Hi88M\n",
       "xwCvnLGq59PMlTzCW+Phzzm5NaiSmpbz7G56Dfx3RFy3DtdNTW8Kn8R2vTtnnY3C1NHq+BvrgxNk\n",
       "cjMbgNyPK+0+xJIzKnBOwM1qTpRxao8uEXpVXonAPz4O+/e1bNvvV7G2o4o7sCASXHTjedbQSaz5\n",
       "b18yMJB9XJPcVsniLBBghscxyQmZO/Np9FlJktUnVGixYk70Vy/rtJ6LFzMQXipT62GfMhmA3THN\n",
       "RsHn2W51HhNOtp/Di+M4lSgjzgMmAlbJJaVdlQPq3DDUFwAAAWdBm0pJ4Q8mUwIW/wAItzgRm6Ux\n",
       "2AIrVGZ/O7GiQ0dv/wgw4s/e7Gfbq90QZWMDmjLeXJH63VjW9udOrMXkIefjVdS2qdPQ1crasU+q\n",
       "2qHMdINAfOJ5VSb4/I6qFlZ5L+TPZBuZ9LIy/nFns5lGBBIMQZfhRltVQPqGfaGm1IGCdtffdqzC\n",
       "hz3OHntlX+LC+i7P5BuPtYvsLia+nPjHkwC6ryxpHlsmbDvbG2KwPyeSSGYIzHGofHVfuYtDwyVj\n",
       "sd49Qr3q+XC/vA8mhcAAAFH0tP9V2BTs7Waj/ra6XGWjtBp0o06wW9389erVdsgrlsemjD8CC7zH\n",
       "ogv3L2cyg5ZPi//4fEqdx2VhQq/6nMIHtxfJ2iTOBk/LIDfKeDhZSTgsuaukDgmOWO25HzzDLD4q\n",
       "r6PH4yqnLhOcgqEYwSy5h/eIioVHdEoRdNh8IMf8YVkbPcRuSw0xMA2cMbZ6hWIXS++fdVbboQAA\n",
       "A2dtb292AAAAbG12aGQAAAAAAAAAAAAAAAAAAAPoAAACJgABAAABAAAAAAAAAAAAAAAAAQAAAAAA\n",
       "AAAAAAAAAAAAAAEAAAAAAAAAAAAAAAAAAEAAAAAAAAAAAAAAAAAAAAAAAAAAAAAAAAAAAAAAAAAC\n",
       "AAACknRyYWsAAABcdGtoZAAAAAMAAAAAAAAAAAAAAAEAAAAAAAACJgAAAAAAAAAAAAAAAAAAAAAA\n",
       "AQAAAAAAAAAAAAAAAAAAAAEAAAAAAAAAAAAAAAAAAEAAAAAB9AAAAfQAAAAAACRlZHRzAAAAHGVs\n",
       "c3QAAAAAAAAAAQAAAiYAAAQAAAEAAAAAAgptZGlhAAAAIG1kaGQAAAAAAAAAAAAAAAAAACgAAAAW\n",
       "AFXEAAAAAAAtaGRscgAAAAAAAAAAdmlkZQAAAAAAAAAAAAAAAFZpZGVvSGFuZGxlcgAAAAG1bWlu\n",
       "ZgAAABR2bWhkAAAAAQAAAAAAAAAAAAAAJGRpbmYAAAAcZHJlZgAAAAAAAAABAAAADHVybCAAAAAB\n",
       "AAABdXN0YmwAAAC5c3RzZAAAAAAAAAABAAAAqWF2YzEAAAAAAAAAAQAAAAAAAAAAAAAAAAAAAAAB\n",
       "9AH0AEgAAABIAAAAAAAAAAEAAAAAAAAAAAAAAAAAAAAAAAAAAAAAAAAAAAAAAAAAAAAY//8AAAA3\n",
       "YXZjQwFkAB7/4QAaZ2QAHqzZQIAQeeeEAAADAAQAAAMAoDxYtlgBAAZo6+PLIsD9+PgAAAAAHHV1\n",
       "aWRraEDyXyRPxbo5pRvPAyPzAAAAAAAAABhzdHRzAAAAAAAAAAEAAAALAAACAAAAABRzdHNzAAAA\n",
       "AAAAAAEAAAABAAAAGGN0dHMAAAAAAAAAAQAAAAsAAAQAAAAAHHN0c2MAAAAAAAAAAQAAAAEAAAAL\n",
       "AAAAAQAAAEBzdHN6AAAAAAAAAAAAAAALAAAHkQAAAeAAAAGhAAABmgAAAY0AAAGFAAABmwAAAa4A\n",
       "AAGnAAABiAAAAWsAAAAUc3RjbwAAAAAAAAABAAAAMAAAAGF1ZHRhAAAAWW1ldGEAAAAAAAAAIWhk\n",
       "bHIAAAAAAAAAAG1kaXJhcHBsAAAAAAAAAAAAAAAALGlsc3QAAAAkqXRvbwAAABxkYXRhAAAAAQAA\n",
       "AABMYXZmNjEuMS4xMDA=\n",
       "\">\n",
       "  Your browser does not support the video tag.\n",
       "</video>"
      ],
      "text/plain": [
       "<IPython.core.display.HTML object>"
      ]
     },
     "execution_count": 26,
     "metadata": {},
     "output_type": "execute_result"
    }
   ],
   "source": [
    "test_agent(env, policy, episodes=1)"
   ]
  },
  {
   "cell_type": "code",
   "execution_count": null,
   "id": "b85c2f9d-a508-4402-aa94-750bff0ed17b",
   "metadata": {},
   "outputs": [],
   "source": []
  }
 ],
 "metadata": {
  "kernelspec": {
   "display_name": "Python 3 (ipykernel)",
   "language": "python",
   "name": "python3"
  },
  "language_info": {
   "codemirror_mode": {
    "name": "ipython",
    "version": 3
   },
   "file_extension": ".py",
   "mimetype": "text/x-python",
   "name": "python",
   "nbconvert_exporter": "python",
   "pygments_lexer": "ipython3",
   "version": "3.12.7"
  }
 },
 "nbformat": 4,
 "nbformat_minor": 5
}
