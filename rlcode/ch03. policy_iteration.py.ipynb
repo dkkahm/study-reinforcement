{
 "cells": [
  {
   "cell_type": "code",
   "execution_count": 1,
   "metadata": {},
   "outputs": [],
   "source": [
    "import numpy as np\n",
    "import mgym\n",
    "import matplotlib.pyplot as plt"
   ]
  },
  {
   "cell_type": "code",
   "execution_count": 29,
   "metadata": {},
   "outputs": [],
   "source": [
    "class Agent:\n",
    "    def __init__(self, env, dis=0.9):\n",
    "        self.env = env\n",
    "        self.dis = dis\n",
    "        self.value_table = np.zeros(env.observation_space.n)\n",
    "        self.policy_table = np.ones((env.observation_space.n, env.action_space.n)) * (1.0 / env.action_space.n)\n",
    "    \n",
    "    def iterate_value(self, env=None):\n",
    "        if env == None:\n",
    "            env = self.env\n",
    "            \n",
    "        next_value_table = np.zeros(env.observation_space.n)\n",
    "        for s in range(env.observation_space.n):\n",
    "            value_sum = 0.\n",
    "            for a in range(env.action_space.n):\n",
    "                env.reset_state(s)\n",
    "                policy = self.policy_table[s, a]\n",
    "                s1, reward, done, _ = env.step(a)\n",
    "                value_next = self.value_table[s1]\n",
    "                value = policy * (reward + self.dis * value_next)\n",
    "                # print(s, mgym.action_name(a), s1, reward, done, value_next, value)\n",
    "                value_sum += value\n",
    "            next_value_table[s] = value_sum\n",
    "            \n",
    "        return next_value_table\n",
    "    \n",
    "    def iterate_policy(self, env=None):\n",
    "        if env == None:\n",
    "            env = self.env\n",
    "            \n",
    "        next_policy_table = np.zeros((env.observation_space.n, env.action_space.n))\n",
    "        for s in range(env.observation_space.n):\n",
    "            next_values = np.zeros(env.action_space.n)\n",
    "            for a in range(env.action_space.n):\n",
    "                env.reset_state(s)\n",
    "                if env.done:\n",
    "                    continue\n",
    "                s1, reward, done, _ = env.step(a)\n",
    "                value_next = self.value_table[s1]\n",
    "                value = reward + self.dis * value_next\n",
    "                next_values[a] = value\n",
    "                # print(\"    \", mgym.action_name(a), s1, reward, value_next, value)\n",
    "            max_value = np.max(next_values)\n",
    "            max_value_count = (next_values == max_value).sum()\n",
    "            next_policy = np.zeros(env.action_space.n)\n",
    "            next_policy[next_values == max_value] = 1.0 / max_value_count\n",
    "            # print(s, next_values, max_value, max_value_count, next_policy)\n",
    "            \n",
    "            next_policy_table[s] = next_policy\n",
    "            \n",
    "        return next_policy_table\n",
    "    \n",
    "    def policy_evaludate(self, env=None, cs=None):\n",
    "        if env == None:\n",
    "            env = self.env\n",
    "            \n",
    "        next_value_table = self.iterate_value(env)\n",
    "        self.value_table = next_value_table\n",
    "        \n",
    "        if cs is not None:\n",
    "            cs.append((self.value_table ** 2).sum())\n",
    "            \n",
    "    def policy_improvement(self, env=None):\n",
    "        if env == None:\n",
    "            env = self.env\n",
    "            \n",
    "        next_policy_table = self.iterate_policy(env)\n",
    "        self.policy_table = next_policy_table\n",
    "            \n",
    "    def train(self, num_episode=100, env=None):\n",
    "        if env == None:\n",
    "            env = self.env\n",
    "\n",
    "        cs = []\n",
    "        for episode in range(num_episode):\n",
    "            self.policy_evaludate(env, cs)\n",
    "            self.policy_improvement()\n",
    "            \n",
    "        return cs"
   ]
  },
  {
   "cell_type": "code",
   "execution_count": 30,
   "metadata": {},
   "outputs": [],
   "source": [
    "env = mgym.make(\"5x5\")"
   ]
  },
  {
   "cell_type": "code",
   "execution_count": 31,
   "metadata": {},
   "outputs": [],
   "source": [
    "a = Agent(env)"
   ]
  },
  {
   "cell_type": "code",
   "execution_count": 32,
   "metadata": {},
   "outputs": [],
   "source": [
    "cs = a.train()"
   ]
  },
  {
   "cell_type": "code",
   "execution_count": 33,
   "metadata": {},
   "outputs": [
    {
     "data": {
      "text/plain": [
       "[<matplotlib.lines.Line2D at 0x2133ad08d88>]"
      ]
     },
     "execution_count": 33,
     "metadata": {},
     "output_type": "execute_result"
    },
    {
     "data": {
      "image/png": "[encoded data removed]",
      "text/plain": [
       "<Figure size 432x288 with 1 Axes>"
      ]
     },
     "metadata": {
      "needs_background": "light"
     },
     "output_type": "display_data"
    }
   ],
   "source": [
    "plt.plot(cs)"
   ]
  },
  {
   "cell_type": "code",
   "execution_count": 34,
   "metadata": {},
   "outputs": [
    {
     "data": {
      "text/plain": [
       "array([[[0.  , 0.5 , 0.5 , 0.  ],\n",
       "        [0.  , 0.  , 1.  , 0.  ],\n",
       "        [0.  , 0.  , 1.  , 0.  ],\n",
       "        [0.  , 1.  , 0.  , 0.  ],\n",
       "        [0.5 , 0.5 , 0.  , 0.  ]],\n",
       "\n",
       "       [[0.  , 1.  , 0.  , 0.  ],\n",
       "        [0.5 , 0.  , 0.  , 0.5 ],\n",
       "        [0.  , 1.  , 0.  , 0.  ],\n",
       "        [0.  , 1.  , 0.  , 0.  ],\n",
       "        [0.5 , 0.5 , 0.  , 0.  ]],\n",
       "\n",
       "       [[0.  , 1.  , 0.  , 0.  ],\n",
       "        [0.  , 0.  , 1.  , 0.  ],\n",
       "        [0.25, 0.25, 0.25, 0.25],\n",
       "        [1.  , 0.  , 0.  , 0.  ],\n",
       "        [1.  , 0.  , 0.  , 0.  ]],\n",
       "\n",
       "       [[0.  , 0.  , 1.  , 0.  ],\n",
       "        [0.  , 0.  , 1.  , 0.  ],\n",
       "        [0.  , 0.  , 0.  , 1.  ],\n",
       "        [0.5 , 0.  , 0.  , 0.5 ],\n",
       "        [0.5 , 0.  , 0.  , 0.5 ]],\n",
       "\n",
       "       [[0.  , 0.  , 0.5 , 0.5 ],\n",
       "        [0.  , 0.  , 0.5 , 0.5 ],\n",
       "        [0.  , 0.  , 0.  , 1.  ],\n",
       "        [0.5 , 0.  , 0.  , 0.5 ],\n",
       "        [0.5 , 0.  , 0.  , 0.5 ]]])"
      ]
     },
     "execution_count": 34,
     "metadata": {},
     "output_type": "execute_result"
    }
   ],
   "source": [
    "a.policy_table.reshape(5,5,4)"
   ]
  },
  {
   "cell_type": "code",
   "execution_count": null,
   "metadata": {},
   "outputs": [],
   "source": []
  }
 ],
 "metadata": {
  "kernelspec": {
   "display_name": "Python 3",
   "language": "python",
   "name": "python3"
  },
  "language_info": {
   "codemirror_mode": {
    "name": "ipython",
    "version": 3
   },
   "file_extension": ".py",
   "mimetype": "text/x-python",
   "name": "python",
   "nbconvert_exporter": "python",
   "pygments_lexer": "ipython3",
   "version": "3.7.6"
  }
 },
 "nbformat": 4,
 "nbformat_minor": 4
}
