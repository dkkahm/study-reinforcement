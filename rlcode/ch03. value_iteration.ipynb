{
 "cells": [
  {
   "cell_type": "code",
   "execution_count": 1,
   "metadata": {},
   "outputs": [],
   "source": [
    "import numpy as np\n",
    "import mgym\n",
    "import matplotlib.pyplot as plt"
   ]
  },
  {
   "cell_type": "code",
   "execution_count": 2,
   "metadata": {},
   "outputs": [],
   "source": [
    "class Agent:\n",
    "    def __init__(self, env, dis=0.9):\n",
    "        self.env = env\n",
    "        self.dis = dis\n",
    "        self.value_table = np.zeros(env.observation_space.n)\n",
    "    \n",
    "    def iterate_value(self, env=None):\n",
    "        if env == None:\n",
    "            env = self.env\n",
    "            \n",
    "        next_value_table = np.zeros(env.observation_space.n)\n",
    "        for s in range(env.observation_space.n):\n",
    "            next_values = np.zeros(env.action_space.n)\n",
    "            for a in range(env.action_space.n):\n",
    "                env.reset_state(s)\n",
    "                if env.done:\n",
    "                    continue\n",
    "                s1, reward, done, _ = env.step(a)\n",
    "                value_next = self.value_table[s1]\n",
    "                value = reward + self.dis * value_next\n",
    "                next_values[a] = value\n",
    "                # print(\"    \", s, a, s1, reward, done, next_values)\n",
    "            max_value = np.max(next_values)\n",
    "            next_value_table[s] = max_value\n",
    "            # print(s, max_value)\n",
    "            \n",
    "        return next_value_table\n",
    "    \n",
    "    def value_iterate(self, env=None, cs=None):\n",
    "        if env == None:\n",
    "            env = self.env\n",
    "            \n",
    "        next_value_table = self.iterate_value(env)\n",
    "        self.value_table = next_value_table\n",
    "        \n",
    "        if cs is not None:\n",
    "            cs.append((self.value_table ** 2).sum())\n",
    "            \n",
    "    def train(self, num_episode=100, env=None):\n",
    "        if env == None:\n",
    "            env = self.env\n",
    "\n",
    "        cs = []\n",
    "        for episode in range(num_episode):\n",
    "            self.value_iterate(env, cs)\n",
    "            \n",
    "        return cs"
   ]
  },
  {
   "cell_type": "code",
   "execution_count": 3,
   "metadata": {},
   "outputs": [],
   "source": [
    "env = mgym.make(\"5x5\")"
   ]
  },
  {
   "cell_type": "code",
   "execution_count": 4,
   "metadata": {},
   "outputs": [],
   "source": [
    "a = Agent(env)"
   ]
  },
  {
   "cell_type": "code",
   "execution_count": null,
   "metadata": {},
   "outputs": [],
   "source": [
    "a.iterate_value(env)"
   ]
  },
  {
   "cell_type": "code",
   "execution_count": 5,
   "metadata": {},
   "outputs": [],
   "source": [
    "cs = a.train()"
   ]
  },
  {
   "cell_type": "code",
   "execution_count": null,
   "metadata": {},
   "outputs": [],
   "source": [
    "plt.plot(cs)"
   ]
  },
  {
   "cell_type": "code",
   "execution_count": 6,
   "metadata": {},
   "outputs": [
    {
     "data": {
      "text/plain": [
       "array([[0.59049, 0.6561 , 0.729  , 0.81   , 0.729  ],\n",
       "       [0.6561 , 0.59049, 1.     , 0.9    , 0.81   ],\n",
       "       [0.729  , 1.     , 0.     , 1.     , 0.9    ],\n",
       "       [0.81   , 0.9    , 1.     , 0.9    , 0.81   ],\n",
       "       [0.729  , 0.81   , 0.9    , 0.81   , 0.729  ]])"
      ]
     },
     "execution_count": 6,
     "metadata": {},
     "output_type": "execute_result"
    }
   ],
   "source": [
    "a.value_table.reshape(5,5)"
   ]
  },
  {
   "cell_type": "code",
   "execution_count": null,
   "metadata": {},
   "outputs": [],
   "source": []
  }
 ],
 "metadata": {
  "kernelspec": {
   "display_name": "Python 3",
   "language": "python",
   "name": "python3"
  },
  "language_info": {
   "codemirror_mode": {
    "name": "ipython",
    "version": 3
   },
   "file_extension": ".py",
   "mimetype": "text/x-python",
   "name": "python",
   "nbconvert_exporter": "python",
   "pygments_lexer": "ipython3",
   "version": "3.7.6"
  }
 },
 "nbformat": 4,
 "nbformat_minor": 4
}
