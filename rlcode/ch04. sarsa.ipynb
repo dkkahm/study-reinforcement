{
 "cells": [
  {
   "cell_type": "markdown",
   "metadata": {},
   "source": [
    "### 개요\n",
    "\n",
    "1. $\\epsilon$ -탐욕 정책을 통해 샘플 $[S_t, A_t, R_{t+1}, S_{t+1}, A_{t+1}]$ 을 획득\n",
    "2. 획득한 샘플로 다음식을 통해서 큐함수 $Q(S_t,A_t)$를 업데이트\n",
    "\n",
    "$$\n",
    "Q(S_t, A_t) \\leftarrow Q(S_t, A_t) + \\alpha (R + \\gamma Q(S_{t+1},A_{t+1}) - Q(S_t,A_t))\n",
    "$$"
   ]
  },
  {
   "cell_type": "code",
   "execution_count": 2,
   "metadata": {},
   "outputs": [],
   "source": [
    "import numpy as np\n",
    "import mgym\n",
    "import matplotlib.pyplot as plt\n",
    "from collections import defaultdict"
   ]
  },
  {
   "cell_type": "code",
   "execution_count": 85,
   "metadata": {},
   "outputs": [],
   "source": [
    "class Agent:\n",
    "    def __init__(self, env, epsilon=0.3, learning_rate=0.01, dis=0.9):\n",
    "        self.env = env\n",
    "        self.epsilon = epsilon\n",
    "        self.learning_rate = learning_rate\n",
    "        self.dis = dis\n",
    "        self.q_table = defaultdict(lambda: np.zeros(env.action_space.n))\n",
    "    \n",
    "    def get_action(self, s):\n",
    "        if np.random.rand() < self.epsilon:\n",
    "            a = self.env.action_space.sample()\n",
    "        else:\n",
    "            actions = self.q_table[s]\n",
    "            a = np.argmax(actions)\n",
    "        return a\n",
    "    \n",
    "    def iterate(self, cs=None):\n",
    "        s = self.env.reset()\n",
    "\n",
    "        done = False\n",
    "        while not done:\n",
    "            a = self.get_action(s)\n",
    "            s1, reward, done, _ = self.env.step(a)\n",
    "            # print(s, a, s1, reward, done)\n",
    "            \n",
    "            self._learn(s, a, reward, s1)\n",
    "            \n",
    "            s = s1\n",
    "            \n",
    "            if cs is not None:\n",
    "                cs.append(sum([(v ** 2).sum() for v in self.q_table.values()]))\n",
    "            \n",
    "    def train(self, num_episode=100000):\n",
    "        cs = []\n",
    "        for episode in range(num_episode):\n",
    "            if episode % 1000 == 0:\n",
    "                print(episode)\n",
    "            self.iterate(cs)\n",
    "            \n",
    "        return cs\n",
    "    \n",
    "    def _learn(self, s, a, reward, s1):\n",
    "        a1 = self.get_action(s1)\n",
    "        q = self.q_table[s]\n",
    "        q1 = self.q_table[s1]\n",
    "        # print(s, a, q, reward, s1, a1, q1)\n",
    "        new_value = q[a] + self.learning_rate * (reward + self.dis * q1[a1] - q[a])\n",
    "        self.q_table[s][a] = new_value"
   ]
  },
  {
   "cell_type": "code",
   "execution_count": 86,
   "metadata": {},
   "outputs": [],
   "source": [
    "env = mgym.make(\"5x5\")"
   ]
  },
  {
   "cell_type": "code",
   "execution_count": 87,
   "metadata": {},
   "outputs": [],
   "source": [
    "a = Agent(env)"
   ]
  },
  {
   "cell_type": "code",
   "execution_count": 88,
   "metadata": {},
   "outputs": [
    {
     "name": "stdout",
     "output_type": "stream",
     "text": [
      "0\n",
      "1000\n",
      "2000\n",
      "3000\n",
      "4000\n",
      "5000\n",
      "6000\n",
      "7000\n",
      "8000\n",
      "9000\n",
      "10000\n",
      "11000\n",
      "12000\n",
      "13000\n",
      "14000\n",
      "15000\n",
      "16000\n",
      "17000\n",
      "18000\n",
      "19000\n",
      "20000\n",
      "21000\n",
      "22000\n",
      "23000\n",
      "24000\n",
      "25000\n",
      "26000\n",
      "27000\n",
      "28000\n",
      "29000\n",
      "30000\n",
      "31000\n",
      "32000\n",
      "33000\n",
      "34000\n",
      "35000\n",
      "36000\n",
      "37000\n",
      "38000\n",
      "39000\n",
      "40000\n",
      "41000\n",
      "42000\n",
      "43000\n",
      "44000\n",
      "45000\n",
      "46000\n",
      "47000\n",
      "48000\n",
      "49000\n",
      "50000\n",
      "51000\n",
      "52000\n",
      "53000\n",
      "54000\n",
      "55000\n",
      "56000\n",
      "57000\n",
      "58000\n",
      "59000\n",
      "60000\n",
      "61000\n",
      "62000\n",
      "63000\n",
      "64000\n",
      "65000\n",
      "66000\n",
      "67000\n",
      "68000\n",
      "69000\n",
      "70000\n",
      "71000\n",
      "72000\n",
      "73000\n",
      "74000\n",
      "75000\n",
      "76000\n",
      "77000\n",
      "78000\n",
      "79000\n",
      "80000\n",
      "81000\n",
      "82000\n",
      "83000\n",
      "84000\n",
      "85000\n",
      "86000\n",
      "87000\n",
      "88000\n",
      "89000\n",
      "90000\n",
      "91000\n",
      "92000\n",
      "93000\n",
      "94000\n",
      "95000\n",
      "96000\n",
      "97000\n",
      "98000\n",
      "99000\n"
     ]
    }
   ],
   "source": [
    "cs = a.train()"
   ]
  },
  {
   "cell_type": "code",
   "execution_count": 89,
   "metadata": {},
   "outputs": [
    {
     "data": {
      "text/plain": [
       "[<matplotlib.lines.Line2D at 0x2c376611788>]"
      ]
     },
     "execution_count": 89,
     "metadata": {},
     "output_type": "execute_result"
    },
    {
     "data": {
      "image/png": "[encoded data removed]",
      "text/plain": [
       "<Figure size 432x288 with 1 Axes>"
      ]
     },
     "metadata": {
      "needs_background": "light"
     },
     "output_type": "display_data"
    }
   ],
   "source": [
    "plt.plot(cs)"
   ]
  },
  {
   "cell_type": "code",
   "execution_count": null,
   "metadata": {},
   "outputs": [],
   "source": []
  }
 ],
 "metadata": {
  "kernelspec": {
   "display_name": "Python 3",
   "language": "python",
   "name": "python3"
  },
  "language_info": {
   "codemirror_mode": {
    "name": "ipython",
    "version": 3
   },
   "file_extension": ".py",
   "mimetype": "text/x-python",
   "name": "python",
   "nbconvert_exporter": "python",
   "pygments_lexer": "ipython3",
   "version": "3.7.6"
  }
 },
 "nbformat": 4,
 "nbformat_minor": 4
}
