{
 "cells": [
  {
   "cell_type": "markdown",
   "metadata": {},
   "source": [
    "보상함수\n",
    "\n",
    "$$\n",
    "R_s^a = E[R_{t+1} | S_t = s, A_t = a]\n",
    "$$"
   ]
  },
  {
   "cell_type": "markdown",
   "metadata": {},
   "source": [
    "상태변환 확률\n",
    "\n",
    "$$\n",
    "P_{s s^\\prime}^a = P[S_{t+1}=s^\\prime|S_t=s,A_t=a]\n",
    "$$"
   ]
  },
  {
   "cell_type": "markdown",
   "metadata": {},
   "source": [
    "감가율\n",
    "\n",
    "$$\n",
    "\\gamma \\in [0,1]\n",
    "$$"
   ]
  },
  {
   "cell_type": "markdown",
   "metadata": {},
   "source": [
    "정책\n",
    "\n",
    "$$\n",
    "\\pi(a | s) = P[A_t=a|S_t=s]\n",
    "$$"
   ]
  },
  {
   "cell_type": "markdown",
   "metadata": {},
   "source": [
    "반환값\n",
    "\n",
    "$$\n",
    "G_t = R_{t+1}+\\gamma R_{t+2}+\\gamma^2 R_{t+3} + \\dotsb\n",
    "$$"
   ]
  },
  {
   "cell_type": "markdown",
   "metadata": {},
   "source": [
    "가치함수\n",
    "\n",
    "\\begin{align}\n",
    "v(s) & = E[G_t | S_t=s] \\\\\n",
    "v(s) & = E[R_{t+1}+\\gamma R_{t+2}+\\gamma^2 R_{t+3} + \\dotsb | S_t=s] \\\\\n",
    "v(s) & = E[R_{t+1}+\\gamma G_{t+1} | S_t=s] \\\\\n",
    "v(s) & = E[R_{t+1}+\\gamma v(S_{t+1}) | S_t=s]\n",
    "\\end{align}\n"
   ]
  },
  {
   "cell_type": "markdown",
   "metadata": {},
   "source": [
    "정책을 고려한 가치함수 : 벨만 기대 방정식\n",
    "\n",
    "$$\n",
    "v_\\pi = E_\\pi[R_{t+1}+\\gamma v_\\pi(S_{t+1}) | S_t=s]\n",
    "$$"
   ]
  },
  {
   "cell_type": "markdown",
   "metadata": {},
   "source": [
    "큐함수\n",
    "\n",
    "\\begin{align}\n",
    "q_\\pi(s,a) & = E_\\pi[R_{t+1} + \\gamma v_\\pi (S_{t+1}) | S_t=s, A_t=a] \\\\\n",
    "q_\\pi(s,a) & = R_s^a + \\gamma v_\\pi (s^\\prime) \\\\\n",
    "\\\\\n",
    "\\text{??? } q_\\pi(s,a) & = E_\\pi[R_{t+1} + \\gamma q_\\pi (S_{t+1},A_{t+1})|S_t=s,A_t=a] \\text{ ???}\n",
    "\\end{align}"
   ]
  },
  {
   "cell_type": "markdown",
   "metadata": {},
   "source": [
    "가치함수와 큐함수 사이의 관계식\n",
    "\n",
    "$$\n",
    "v_\\pi(s) = \\sum_{a \\in A} \\pi (a | s) q_\\pi (s, a)\n",
    "$$"
   ]
  },
  {
   "cell_type": "markdown",
   "metadata": {},
   "source": [
    "계산 가능한 벨만 방정식\n",
    "\n",
    "\\begin{align}\n",
    "v_\\pi(s) & = \\sum_{a \\in A} \\pi (a | s) \\left( R_{t+1} + \\gamma \\sum_{s^\\prime \\in S}P_{s s^\\prime}^a v_\\pi (s^\\prime) \\right)\n",
    "\\end{align}"
   ]
  },
  {
   "cell_type": "markdown",
   "metadata": {},
   "source": [
    "최적의 큐함수\n",
    "\n",
    "$$\n",
    "q_*(s,a) = max_\\pi [q_\\pi (s,a) ]\n",
    "$$"
   ]
  },
  {
   "cell_type": "markdown",
   "metadata": {},
   "source": [
    "최적 정책\n",
    "\n",
    "$$\n",
    "\\DeclareMathOperator*{\\argmax}{arg\\,max}\n",
    "\\pi_*(s,a) =\n",
    "  \\begin{cases}\n",
    "    1  & \\text{if } a = \\argmax\\limits_{a \\in A} q_*(s,a) \\\\\n",
    "    0  & \\text{otherwise}\n",
    "  \\end{cases}\n",
    "$$"
   ]
  },
  {
   "cell_type": "markdown",
   "metadata": {},
   "source": [
    "최적 가치함수\n",
    "\n",
    "$$\n",
    "v_*(s) = \\max\\limits_a [q_* (s,a) | S_t = s, A_t = a]\n",
    "$$"
   ]
  },
  {
   "cell_type": "markdown",
   "metadata": {},
   "source": [
    "벨만 최적 방정식\n",
    "\n",
    "\\begin{equation}\n",
    "v_*(s) = \\max\\limits_a E[R_{t+1} + \\gamma v_* (S _{t+1})| S_t = s,A_t=a] \\\\\n",
    "q_*(s, a) = E [ R_{t+1} + \\gamma \\max\\limits_{a^\\prime} q_* (S_{t+1}, a^\\prime) | S_t = s, A_t = a]\n",
    "\\end{equation}"
   ]
  },
  {
   "cell_type": "code",
   "execution_count": null,
   "metadata": {},
   "outputs": [],
   "source": []
  }
 ],
 "metadata": {
  "kernelspec": {
   "display_name": "Python 3",
   "language": "python",
   "name": "python3"
  },
  "language_info": {
   "codemirror_mode": {
    "name": "ipython",
    "version": 3
   },
   "file_extension": ".py",
   "mimetype": "text/x-python",
   "name": "python",
   "nbconvert_exporter": "python",
   "pygments_lexer": "ipython3",
   "version": "3.7.6"
  }
 },
 "nbformat": 4,
 "nbformat_minor": 4
}
