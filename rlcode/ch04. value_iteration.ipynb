{
 "cells": [
  {
   "cell_type": "code",
   "execution_count": 1,
   "metadata": {},
   "outputs": [],
   "source": [
    "import numpy as np\n",
    "import mgym\n",
    "import matplotlib.pyplot as plt"
   ]
  },
  {
   "cell_type": "code",
   "execution_count": 6,
   "metadata": {},
   "outputs": [],
   "source": [
    "class Agent:\n",
    "    def __init__(self, env, dis=0.9):\n",
    "        self.env = env\n",
    "        self.dis = dis\n",
    "        self.value_table = np.zeros(env.observation_space.n)\n",
    "        self.policy_table = np.ones((env.observation_space.n, env.action_space.n)) * (1.0 / env.action_space.n)\n",
    "    \n",
    "    def iterate_value(self, env=None):\n",
    "        if env == None:\n",
    "            env = self.env\n",
    "            \n",
    "        next_value_table = np.zeros(env.observation_space.n)\n",
    "        for s in range(env.observation_space.n):\n",
    "            next_values = np.zeros(env.action_space.n)\n",
    "            for a in range(env.action_space.n):\n",
    "                env.reset_state(s)\n",
    "                policy = self.policy_table[s, a]\n",
    "                s1, reward, done, _ = env.step(a)\n",
    "                value_next = self.value_table[s1]\n",
    "                value = policy * (reward + self.dis * value_next)\n",
    "                next_values[a] = value\n",
    "            max_value = np.max(next_values)\n",
    "            next_value_table[s] = max_value\n",
    "            \n",
    "        return next_value_table\n",
    "    \n",
    "    def value_iterate(self, env=None, cs=None):\n",
    "        if env == None:\n",
    "            env = self.env\n",
    "            \n",
    "        next_value_table = self.iterate_value(env)\n",
    "        self.value_table = next_value_table\n",
    "        \n",
    "        if cs is not None:\n",
    "            cs.append((self.value_table ** 2).sum())\n",
    "            \n",
    "    def train(self, num_episode=100, env=None):\n",
    "        if env == None:\n",
    "            env = self.env\n",
    "\n",
    "        cs = []\n",
    "        for episode in range(num_episode):\n",
    "            self.value_iterate(env, cs)\n",
    "            \n",
    "        return cs"
   ]
  },
  {
   "cell_type": "code",
   "execution_count": 7,
   "metadata": {},
   "outputs": [],
   "source": [
    "env = mgym.make(\"5x5\")"
   ]
  },
  {
   "cell_type": "code",
   "execution_count": 8,
   "metadata": {},
   "outputs": [],
   "source": [
    "a = Agent(env)"
   ]
  },
  {
   "cell_type": "code",
   "execution_count": 9,
   "metadata": {},
   "outputs": [],
   "source": [
    "cs = a.train()"
   ]
  },
  {
   "cell_type": "code",
   "execution_count": 10,
   "metadata": {},
   "outputs": [
    {
     "data": {
      "text/plain": [
       "[<matplotlib.lines.Line2D at 0x1a0795bbb48>]"
      ]
     },
     "execution_count": 10,
     "metadata": {},
     "output_type": "execute_result"
    },
    {
     "data": {
      "image/png": "[encoded data removed]",
      "text/plain": [
       "<Figure size 432x288 with 1 Axes>"
      ]
     },
     "metadata": {
      "needs_background": "light"
     },
     "output_type": "display_data"
    }
   ],
   "source": [
    "plt.plot(cs)"
   ]
  },
  {
   "cell_type": "code",
   "execution_count": 11,
   "metadata": {},
   "outputs": [
    {
     "data": {
      "text/plain": [
       "array([[1.44162598e-04, 6.40722656e-04, 2.84765625e-03, 1.26562500e-02,\n",
       "        2.84765625e-03],\n",
       "       [6.40722656e-04, 1.44162598e-04, 2.50000000e-01, 5.62500000e-02,\n",
       "        1.26562500e-02],\n",
       "       [2.84765625e-03, 2.50000000e-01, 0.00000000e+00, 2.50000000e-01,\n",
       "        5.62500000e-02],\n",
       "       [1.26562500e-02, 5.62500000e-02, 2.50000000e-01, 5.62500000e-02,\n",
       "        1.26562500e-02],\n",
       "       [2.84765625e-03, 1.26562500e-02, 5.62500000e-02, 1.26562500e-02,\n",
       "        2.84765625e-03]])"
      ]
     },
     "execution_count": 11,
     "metadata": {},
     "output_type": "execute_result"
    }
   ],
   "source": [
    "a.value_table.reshape(5,5)"
   ]
  }
 ],
 "metadata": {
  "kernelspec": {
   "display_name": "Python 3",
   "language": "python",
   "name": "python3"
  },
  "language_info": {
   "codemirror_mode": {
    "name": "ipython",
    "version": 3
   },
   "file_extension": ".py",
   "mimetype": "text/x-python",
   "name": "python",
   "nbconvert_exporter": "python",
   "pygments_lexer": "ipython3",
   "version": "3.7.7"
  }
 },
 "nbformat": 4,
 "nbformat_minor": 4
}
