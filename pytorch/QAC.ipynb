{
 "cells": [
  {
   "cell_type": "code",
   "execution_count": null,
   "metadata": {},
   "outputs": [],
   "source": [
    "import numpy as np\n",
    "import gym\n",
    "import torch\n",
    "import torch.nn as nn\n",
    "import torch.nn.functional as F\n",
    "from collections import namedtuple"
   ]
  },
  {
   "cell_type": "code",
   "execution_count": null,
   "metadata": {},
   "outputs": [],
   "source": [
    "CRITIC_LEARNING_RATE = 0.001\n",
    "ACTOR_LEARNING_RATE = 0.0001\n",
    "GAMMA = 0.9"
   ]
  },
  {
   "cell_type": "code",
   "execution_count": null,
   "metadata": {},
   "outputs": [],
   "source": [
    "class QACAgent:\n",
    "    def __init__(self, num_states, num_actions):\n",
    "        self.num_states = num_states\n",
    "        self.num_actions = num_actions\n",
    "        self.action_list = np.arange(num_actions)\n",
    "        \n",
    "        self.critic_model = self._get_critic_model()\n",
    "        self.critic_optimizer = torch.optim.Adam(self.critic_model.parameters(), lr=CRITIC_LEARNING_RATE)\n",
    "        \n",
    "        self.actor_model = self._get_actor_model()\n",
    "        self.actor_optimizer = torch.optim.Adam(self.actor_model.parameters(), lr=ACTOR_LEARNING_RATE)\n",
    "\n",
    "    def get_action(self, state, train=True, episode = None):\n",
    "        state = torch.FloatTensor(state).view(1, -1)\n",
    "        policy = self.actor_model(state)\n",
    "        return np.random.choice(self.action_list, p=policy.detach().numpy().ravel())\n",
    "    \n",
    "    def train(self, state, action, next_state, reward, done, episode=None):\n",
    "        state = torch.FloatTensor(state).view(1, -1)\n",
    "        action = torch.LongTensor([action]).view(1, -1)\n",
    "        next_state = torch.FloatTensor(next_state).view(1, -1)\n",
    "        reward = torch.FloatTensor([reward]).view(1, -1)\n",
    "        done = torch.ByteTensor([done]).view(1, -1)\n",
    "        \n",
    "        state_action_value = self.critic_model(state).gather(1, action)\n",
    "        next_state_action_value = self.critic_model(next_state).max(1)[0].view(-1, 1)\n",
    "        critic_target = reward + GAMMA * (1 - done) * next_state_action_value\n",
    "        \n",
    "        critic_loss = F.smooth_l1_loss(state_action_value, critic_target)\n",
    "        self.critic_optimizer.zero_grad()\n",
    "        critic_loss.backward()\n",
    "        self.critic_optimizer.step()\n",
    "        \n",
    "        state_action_value = state_action_value.detach()\n",
    "        \n",
    "        policy = self.actor_model(state)\n",
    "        selected_action_prob = policy.gather(1, action)\n",
    "        log_selected_action_prob = torch.log(selected_action_prob)\n",
    "        \n",
    "        actor_loss = -(log_selected_action_prob * state_action_value)\n",
    "        self.actor_optimizer.zero_grad()\n",
    "        actor_loss.backward()\n",
    "        self.actor_optimizer.step()\n",
    "        \n",
    "        return actor_loss.item()\n",
    "    \n",
    "    def _get_critic_model(self):\n",
    "        model = nn.Sequential()\n",
    "        model.add_module('fc1', nn.Linear(self.num_states, 32))\n",
    "        model.add_module('relu1', nn.ReLU())\n",
    "        model.add_module('fc2', nn.Linear(32, 32))\n",
    "        model.add_module('relu2', nn.ReLU())\n",
    "        model.add_module('fc3', nn.Linear(32, self.num_actions))\n",
    "        return model     \n",
    "    \n",
    "    def _get_actor_model(self):\n",
    "        model = nn.Sequential()\n",
    "        model.add_module('fc1', nn.Linear(self.num_states, 32))\n",
    "        model.add_module('relu1', nn.ReLU())\n",
    "        model.add_module('fc2', nn.Linear(32, 32))\n",
    "        model.add_module('relu2', nn.ReLU())\n",
    "        model.add_module('fc3', nn.Linear(32, self.num_actions))\n",
    "        model.add_module('softmax1', nn.Softmax(dim=1))\n",
    "        return model"
   ]
  },
  {
   "cell_type": "code",
   "execution_count": null,
   "metadata": {},
   "outputs": [],
   "source": [
    "env = gym.make('CartPole-v0')"
   ]
  },
  {
   "cell_type": "code",
   "execution_count": null,
   "metadata": {},
   "outputs": [],
   "source": [
    "agent = QACAgent(4, 2)"
   ]
  },
  {
   "cell_type": "code",
   "execution_count": null,
   "metadata": {},
   "outputs": [],
   "source": [
    "N_EPOCH = 5000"
   ]
  },
  {
   "cell_type": "code",
   "execution_count": null,
   "metadata": {},
   "outputs": [],
   "source": [
    "for episode in range(N_EPOCH):\n",
    "    done = False\n",
    "    state = env.reset()\n",
    "    step = 0\n",
    "    while not done:\n",
    "        action = agent.get_action(state)\n",
    "        next_state, reward, done, _ = env.step(action)\n",
    "        if done:\n",
    "            if step < 195:\n",
    "                reward = -1.0\n",
    "            else:\n",
    "                reward = 1.0\n",
    "        else:\n",
    "            reward = 0.0\n",
    "            \n",
    "        agent.train(state, action, next_state, reward, done)\n",
    "        \n",
    "        state = next_state\n",
    "        step += 1\n",
    "        \n",
    "    print(\"Episode {} Step {}\".format(episode, step))"
   ]
  },
  {
   "cell_type": "code",
   "execution_count": null,
   "metadata": {},
   "outputs": [],
   "source": []
  }
 ],
 "metadata": {
  "kernelspec": {
   "display_name": "Python 3",
   "language": "python",
   "name": "python3"
  },
  "language_info": {
   "codemirror_mode": {
    "name": "ipython",
    "version": 3
   },
   "file_extension": ".py",
   "mimetype": "text/x-python",
   "name": "python",
   "nbconvert_exporter": "python",
   "pygments_lexer": "ipython3",
   "version": "3.8.3"
  }
 },
 "nbformat": 4,
 "nbformat_minor": 4
}
