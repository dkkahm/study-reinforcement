{
 "cells": [
  {
   "cell_type": "code",
   "execution_count": null,
   "metadata": {},
   "outputs": [],
   "source": [
    "import numpy as np\n",
    "import gym\n",
    "import torch\n",
    "import torch.nn as nn\n",
    "import torch.nn.functional as F\n",
    "from collections import namedtuple"
   ]
  },
  {
   "cell_type": "code",
   "execution_count": null,
   "metadata": {},
   "outputs": [],
   "source": [
    "GAMMA = 0.99\n",
    "LEARNING_RATE = 0.001"
   ]
  },
  {
   "cell_type": "code",
   "execution_count": null,
   "metadata": {},
   "outputs": [],
   "source": [
    "Transition = namedtuple('Transition', ('state', 'action', 'next_state', 'reward', 'done'))"
   ]
  },
  {
   "cell_type": "code",
   "execution_count": null,
   "metadata": {},
   "outputs": [],
   "source": [
    "class REINFORCEAgent:\n",
    "    def __init__(self, num_states, num_actions):\n",
    "        self.num_states = num_states\n",
    "        self.num_actions = num_actions\n",
    "        self.action_list = np.arange(num_actions)\n",
    "        self.transitions = []\n",
    "        self.model = self._get_model()\n",
    "        self.optimizer = torch.optim.Adam(self.model.parameters(), lr=LEARNING_RATE)\n",
    "        \n",
    "    def get_action(self, state, episode=None):\n",
    "        state = torch.FloatTensor(state).view(1, -1)\n",
    "        prob_list = self.model(state)\n",
    "        return np.random.choice(self.action_list, p=prob_list.detach().numpy().ravel())\n",
    "    \n",
    "    def train(self, state, action, next_state, reward, done, episode=None):\n",
    "        self.transitions.append(Transition(state, action, next_state, reward, done))\n",
    "        \n",
    "        if not done:\n",
    "            return None\n",
    "        \n",
    "        batch = Transition(*zip(*self.transitions))\n",
    "\n",
    "        return_list = self._get_returns(batch.reward, GAMMA)\n",
    "        \n",
    "        state_batch = torch.FloatTensor(batch.state).view(-1, self.num_states)\n",
    "        action_batch = torch.LongTensor(batch.action).view(-1, 1)\n",
    "        return_batch = torch.FloatTensor(return_list).view(-1, 1)\n",
    "#         next_state_batch = torch.FloatTensor(batch.next_state).view(-1, self.num_states)\n",
    "#         done_batch = torch.ByteTensor(batch.done).view(-1, 1)\n",
    "\n",
    "        policy_batch = self.model(state_batch)\n",
    "        selected_action_prob_batch = policy_batch.gather(1, action_batch)\n",
    "        log_selected_action_prob_batch = torch.log(selected_action_prob_batch)\n",
    "        \n",
    "        loss = -(return_batch * log_selected_action_prob_batch).mean()\n",
    "        \n",
    "        self.optimizer.zero_grad()\n",
    "        loss.backward()\n",
    "        self.optimizer.step()\n",
    "        \n",
    "        self.transitions = []\n",
    "        \n",
    "        return loss.item()\n",
    "      \n",
    "    \n",
    "    def _get_model(self):\n",
    "        model = nn.Sequential()\n",
    "        model.add_module('fc1', nn.Linear(self.num_states, 32))\n",
    "        model.add_module('relu1', nn.ReLU())\n",
    "        model.add_module('fc2', nn.Linear(32, 32))\n",
    "        model.add_module('relu2', nn.ReLU())\n",
    "        model.add_module('fc3', nn.Linear(32, self.num_actions))\n",
    "        model.add_module('softmax1', nn.Softmax(dim=1))\n",
    "        return model\n",
    "    \n",
    "    def _get_returns(self, rewards, gamma=0.99):\n",
    "        g_list = []\n",
    "        g = 0.0\n",
    "        for r in reversed(rewards):\n",
    "            g = r + gamma * g\n",
    "            g_list.append(g)\n",
    "        g_list = np.array(g_list[::-1])\n",
    "        return g_list - g_list.mean()"
   ]
  },
  {
   "cell_type": "code",
   "execution_count": null,
   "metadata": {},
   "outputs": [],
   "source": [
    "env = gym.make('CartPole-v0')"
   ]
  },
  {
   "cell_type": "code",
   "execution_count": null,
   "metadata": {},
   "outputs": [],
   "source": [
    "agent = REINFORCEAgent(env.observation_space.shape[0], env.action_space.n)"
   ]
  },
  {
   "cell_type": "code",
   "execution_count": null,
   "metadata": {},
   "outputs": [],
   "source": [
    "N_EPOCH = 500"
   ]
  },
  {
   "cell_type": "code",
   "execution_count": null,
   "metadata": {},
   "outputs": [],
   "source": [
    "continues_sucess = 0\n",
    "\n",
    "for episode in range(N_EPOCH):\n",
    "    done = False\n",
    "    state = env.reset()\n",
    "    step = 0\n",
    "    while not done:\n",
    "        action = agent.get_action(state)\n",
    "        next_state, reward, done, _ = env.step(action)\n",
    "        if done:\n",
    "            if step < 195:\n",
    "                reward = -1.0\n",
    "                continues_sucess = 0\n",
    "            else:\n",
    "                reward = 1.0\n",
    "                continues_sucess += 1\n",
    "        else:\n",
    "            reward = 0.0\n",
    "            \n",
    "        agent.train(state, action, next_state, reward, done, episode)\n",
    "        \n",
    "        state = next_state\n",
    "        step += 1\n",
    "        \n",
    "    if continues_sucess >= 10:\n",
    "        break\n",
    "        \n",
    "    print(\"Episode {} Step {}\".format(episode, step))"
   ]
  },
  {
   "cell_type": "code",
   "execution_count": null,
   "metadata": {},
   "outputs": [],
   "source": []
  }
 ],
 "metadata": {
  "kernelspec": {
   "display_name": "Python 3",
   "language": "python",
   "name": "python3"
  },
  "language_info": {
   "codemirror_mode": {
    "name": "ipython",
    "version": 3
   },
   "file_extension": ".py",
   "mimetype": "text/x-python",
   "name": "python",
   "nbconvert_exporter": "python",
   "pygments_lexer": "ipython3",
   "version": "3.8.3"
  }
 },
 "nbformat": 4,
 "nbformat_minor": 4
}
